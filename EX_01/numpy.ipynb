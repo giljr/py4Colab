{
  "nbformat": 4,
  "nbformat_minor": 0,
  "metadata": {
    "colab": {
      "name": "numpy.ipynb",
      "provenance": [],
      "collapsed_sections": [
        "x6kZwqW_lN49"
      ],
      "authorship_tag": "ABX9TyMkR5TGVyjZSIx+BXAcYAfj",
      "include_colab_link": true
    },
    "kernelspec": {
      "name": "python3",
      "display_name": "Python 3"
    }
  },
  "cells": [
    {
      "cell_type": "markdown",
      "metadata": {
        "id": "view-in-github",
        "colab_type": "text"
      },
      "source": [
        "<a href=\"https://colab.research.google.com/github/giljr/py4Colab/blob/master/EX_01/numpy.ipynb\" target=\"_parent\"><img src=\"https://colab.research.google.com/assets/colab-badge.svg\" alt=\"Open In Colab\"/></a>"
      ]
    },
    {
      "cell_type": "markdown",
      "metadata": {
        "id": "wqaCBGcqVB6W",
        "colab_type": "text"
      },
      "source": [
        "#PYTHON REVIEW\n",
        "\n",
        "###Functions:\n"
      ]
    },
    {
      "cell_type": "code",
      "metadata": {
        "id": "CqKudv0kTBcD",
        "colab_type": "code",
        "colab": {}
      },
      "source": [
        "#Python Functions\n",
        "def times2(var):\n",
        "  return var*2\n"
      ],
      "execution_count": 1,
      "outputs": []
    },
    {
      "cell_type": "code",
      "metadata": {
        "id": "6Bdx2LmTTas1",
        "colab_type": "code",
        "colab": {
          "base_uri": "https://localhost:8080/",
          "height": 34
        },
        "outputId": "b819b2da-a90a-4cd7-a6b5-ac6990128647"
      },
      "source": [
        "times2(5)"
      ],
      "execution_count": 2,
      "outputs": [
        {
          "output_type": "execute_result",
          "data": {
            "text/plain": [
              "10"
            ]
          },
          "metadata": {
            "tags": []
          },
          "execution_count": 2
        }
      ]
    },
    {
      "cell_type": "code",
      "metadata": {
        "id": "lXItYtwCTg0I",
        "colab_type": "code",
        "colab": {}
      },
      "source": [
        "def square(num):\n",
        "  '''\n",
        "  THIS IS A DOCSTRING,\n",
        "  CAN GO MULTIPLY LINES\n",
        "  THIS FUNCTION SQUARES A NUMBER\n",
        "  '''\n",
        "  return num**2"
      ],
      "execution_count": 3,
      "outputs": []
    },
    {
      "cell_type": "code",
      "metadata": {
        "id": "FmXHH5rdT4M2",
        "colab_type": "code",
        "colab": {}
      },
      "source": [
        "# Hit Shift-Tab to bring up the signature and docstring of the class\n",
        "output = square(2)"
      ],
      "execution_count": 4,
      "outputs": []
    },
    {
      "cell_type": "code",
      "metadata": {
        "id": "UJp4my6gT-vu",
        "colab_type": "code",
        "colab": {
          "base_uri": "https://localhost:8080/",
          "height": 34
        },
        "outputId": "f519c4c5-75d4-4086-c309-02598e77534f"
      },
      "source": [
        "output"
      ],
      "execution_count": 5,
      "outputs": [
        {
          "output_type": "execute_result",
          "data": {
            "text/plain": [
              "4"
            ]
          },
          "metadata": {
            "tags": []
          },
          "execution_count": 5
        }
      ]
    },
    {
      "cell_type": "markdown",
      "metadata": {
        "id": "SlZZe8bEVgMk",
        "colab_type": "text"
      },
      "source": [
        "#MAP"
      ]
    },
    {
      "cell_type": "code",
      "metadata": {
        "id": "KgGTgs52UCGi",
        "colab_type": "code",
        "colab": {}
      },
      "source": [
        "seq=[1,2,3,4,5]"
      ],
      "execution_count": 6,
      "outputs": []
    },
    {
      "cell_type": "code",
      "metadata": {
        "id": "hTrrv7E6VoWI",
        "colab_type": "code",
        "colab": {
          "base_uri": "https://localhost:8080/",
          "height": 34
        },
        "outputId": "2a9da67d-aedf-4362-d5d8-e39e85970618"
      },
      "source": [
        "list(map(times2, seq))"
      ],
      "execution_count": 7,
      "outputs": [
        {
          "output_type": "execute_result",
          "data": {
            "text/plain": [
              "[2, 4, 6, 8, 10]"
            ]
          },
          "metadata": {
            "tags": []
          },
          "execution_count": 7
        }
      ]
    },
    {
      "cell_type": "markdown",
      "metadata": {
        "id": "jx9CDHYFV2Nt",
        "colab_type": "text"
      },
      "source": [
        "#LAMBDA"
      ]
    },
    {
      "cell_type": "code",
      "metadata": {
        "id": "IamzT2-2V53g",
        "colab_type": "code",
        "colab": {}
      },
      "source": [
        "#def times2(var):return var*2"
      ],
      "execution_count": 8,
      "outputs": []
    },
    {
      "cell_type": "code",
      "metadata": {
        "id": "tXFLEw6LdFJi",
        "colab_type": "code",
        "colab": {
          "base_uri": "https://localhost:8080/",
          "height": 34
        },
        "outputId": "b2af88e1-dc95-4dc7-d7cc-cb23d450d6ce"
      },
      "source": [
        "# To get a lambda expression just to get rid of the name of the function, cuz lambda is an anonymous function:\n",
        "lambda var:var*2"
      ],
      "execution_count": 9,
      "outputs": [
        {
          "output_type": "execute_result",
          "data": {
            "text/plain": [
              "<function __main__.<lambda>>"
            ]
          },
          "metadata": {
            "tags": []
          },
          "execution_count": 9
        }
      ]
    },
    {
      "cell_type": "code",
      "metadata": {
        "id": "6PIY5iVddK83",
        "colab_type": "code",
        "colab": {}
      },
      "source": [
        "\n",
        "# Not usual, but feasible:)\n",
        "t=lambda var:var*2"
      ],
      "execution_count": 10,
      "outputs": []
    },
    {
      "cell_type": "code",
      "metadata": {
        "id": "rYqyuS4rdPvH",
        "colab_type": "code",
        "colab": {
          "base_uri": "https://localhost:8080/",
          "height": 34
        },
        "outputId": "8ea998c2-ad71-4429-af05-c33e986e1e91"
      },
      "source": [
        "t(5)"
      ],
      "execution_count": 11,
      "outputs": [
        {
          "output_type": "execute_result",
          "data": {
            "text/plain": [
              "10"
            ]
          },
          "metadata": {
            "tags": []
          },
          "execution_count": 11
        }
      ]
    },
    {
      "cell_type": "code",
      "metadata": {
        "id": "zmzLaqDUdRh8",
        "colab_type": "code",
        "colab": {
          "base_uri": "https://localhost:8080/",
          "height": 34
        },
        "outputId": "5dc68c5f-e6bb-4eda-cfd7-8bfcd8d208f6"
      },
      "source": [
        "# Using Map function plus Lambda function (what it is build for!)\n",
        "map(lambda var:var*2, seq)"
      ],
      "execution_count": 12,
      "outputs": [
        {
          "output_type": "execute_result",
          "data": {
            "text/plain": [
              "<map at 0x7fecc7464a90>"
            ]
          },
          "metadata": {
            "tags": []
          },
          "execution_count": 12
        }
      ]
    },
    {
      "cell_type": "code",
      "metadata": {
        "id": "dJdDTuXfdzCb",
        "colab_type": "code",
        "colab": {
          "base_uri": "https://localhost:8080/",
          "height": 34
        },
        "outputId": "001dc222-920b-4a3c-cdaa-c06013ef7a2b"
      },
      "source": [
        "# Casting Map to a List\n",
        "list(map(lambda var:var*2, seq))"
      ],
      "execution_count": 13,
      "outputs": [
        {
          "output_type": "execute_result",
          "data": {
            "text/plain": [
              "[2, 4, 6, 8, 10]"
            ]
          },
          "metadata": {
            "tags": []
          },
          "execution_count": 13
        }
      ]
    },
    {
      "cell_type": "markdown",
      "metadata": {
        "id": "1jNvqZ9HeQEU",
        "colab_type": "text"
      },
      "source": [
        "#FILTER"
      ]
    },
    {
      "cell_type": "code",
      "metadata": {
        "id": "U_uBmhVpeFsE",
        "colab_type": "code",
        "colab": {
          "base_uri": "https://localhost:8080/",
          "height": 34
        },
        "outputId": "dd9cb2d8-6dcf-40c2-f88c-89a343b14499"
      },
      "source": [
        "filter(lambda var:var%2==0, seq)"
      ],
      "execution_count": 14,
      "outputs": [
        {
          "output_type": "execute_result",
          "data": {
            "text/plain": [
              "<filter at 0x7fecc7464f60>"
            ]
          },
          "metadata": {
            "tags": []
          },
          "execution_count": 14
        }
      ]
    },
    {
      "cell_type": "code",
      "metadata": {
        "id": "uAt-SkSIekRN",
        "colab_type": "code",
        "colab": {
          "base_uri": "https://localhost:8080/",
          "height": 34
        },
        "outputId": "37d4de4f-5d1c-4df9-fc91-338d780a4978"
      },
      "source": [
        "# Filters out the even number from seq list casted to a list\n",
        "list(filter(lambda var:var%2==0, seq))\n",
        "\n"
      ],
      "execution_count": 15,
      "outputs": [
        {
          "output_type": "execute_result",
          "data": {
            "text/plain": [
              "[2, 4]"
            ]
          },
          "metadata": {
            "tags": []
          },
          "execution_count": 15
        }
      ]
    },
    {
      "cell_type": "code",
      "metadata": {
        "id": "6RVDtduejpDy",
        "colab_type": "code",
        "colab": {}
      },
      "source": [
        "seq=['soup','dog','salad','cat','greed']"
      ],
      "execution_count": 16,
      "outputs": []
    },
    {
      "cell_type": "code",
      "metadata": {
        "id": "UsVsLbifj3xu",
        "colab_type": "code",
        "colab": {
          "base_uri": "https://localhost:8080/",
          "height": 34
        },
        "outputId": "60c3b51e-2b54-4e92-901a-ebe9f9de9d9e"
      },
      "source": [
        "# Filters out 's' init words using lambda expression\n",
        "filter(lambda word:word[0]=='s', seq)"
      ],
      "execution_count": 17,
      "outputs": [
        {
          "output_type": "execute_result",
          "data": {
            "text/plain": [
              "<filter at 0x7fecc6bee1d0>"
            ]
          },
          "metadata": {
            "tags": []
          },
          "execution_count": 17
        }
      ]
    },
    {
      "cell_type": "code",
      "metadata": {
        "id": "IbdpmkZ0kG9b",
        "colab_type": "code",
        "colab": {
          "base_uri": "https://localhost:8080/",
          "height": 34
        },
        "outputId": "60e3eef9-26b0-4614-9122-3d3aa82d2590"
      },
      "source": [
        "list(filter(lambda word:word[0]=='s', seq))"
      ],
      "execution_count": 18,
      "outputs": [
        {
          "output_type": "execute_result",
          "data": {
            "text/plain": [
              "['soup', 'salad']"
            ]
          },
          "metadata": {
            "tags": []
          },
          "execution_count": 18
        }
      ]
    },
    {
      "cell_type": "markdown",
      "metadata": {
        "id": "liotAp7QfC5d",
        "colab_type": "text"
      },
      "source": [
        "#STRING"
      ]
    },
    {
      "cell_type": "code",
      "metadata": {
        "id": "bhQ14vRfetOP",
        "colab_type": "code",
        "colab": {}
      },
      "source": [
        "s='hello my name is j3'"
      ],
      "execution_count": 19,
      "outputs": []
    },
    {
      "cell_type": "code",
      "metadata": {
        "id": "r7TEwXAefLLW",
        "colab_type": "code",
        "colab": {
          "base_uri": "https://localhost:8080/",
          "height": 35
        },
        "outputId": "847fb83e-d63a-46c1-9e0a-6d2b43e62d21"
      },
      "source": [
        "s.upper()"
      ],
      "execution_count": 20,
      "outputs": [
        {
          "output_type": "execute_result",
          "data": {
            "application/vnd.google.colaboratory.intrinsic+json": {
              "type": "string"
            },
            "text/plain": [
              "'HELLO MY NAME IS J3'"
            ]
          },
          "metadata": {
            "tags": []
          },
          "execution_count": 20
        }
      ]
    },
    {
      "cell_type": "code",
      "metadata": {
        "id": "nAIorZMyfeYE",
        "colab_type": "code",
        "colab": {
          "base_uri": "https://localhost:8080/",
          "height": 35
        },
        "outputId": "5f798242-69a8-4451-df71-d92ed0c01f0c"
      },
      "source": [
        "s.lower()"
      ],
      "execution_count": 21,
      "outputs": [
        {
          "output_type": "execute_result",
          "data": {
            "application/vnd.google.colaboratory.intrinsic+json": {
              "type": "string"
            },
            "text/plain": [
              "'hello my name is j3'"
            ]
          },
          "metadata": {
            "tags": []
          },
          "execution_count": 21
        }
      ]
    },
    {
      "cell_type": "code",
      "metadata": {
        "id": "AqCO5O3Tf7HC",
        "colab_type": "code",
        "colab": {}
      },
      "source": [
        "my_string_list=s.split()"
      ],
      "execution_count": 22,
      "outputs": []
    },
    {
      "cell_type": "code",
      "metadata": {
        "id": "mPj7qEAkf_xH",
        "colab_type": "code",
        "colab": {
          "base_uri": "https://localhost:8080/",
          "height": 34
        },
        "outputId": "539816b6-9652-4cc8-bb54-2d38565de613"
      },
      "source": [
        "my_string_list"
      ],
      "execution_count": 23,
      "outputs": [
        {
          "output_type": "execute_result",
          "data": {
            "text/plain": [
              "['hello', 'my', 'name', 'is', 'j3']"
            ]
          },
          "metadata": {
            "tags": []
          },
          "execution_count": 23
        }
      ]
    },
    {
      "cell_type": "code",
      "metadata": {
        "id": "CC_mIpm0gNV7",
        "colab_type": "code",
        "colab": {}
      },
      "source": [
        "tweet=\"Go Sports!#Sports\""
      ],
      "execution_count": 24,
      "outputs": []
    },
    {
      "cell_type": "code",
      "metadata": {
        "id": "iZmkZw-BgUSj",
        "colab_type": "code",
        "colab": {
          "base_uri": "https://localhost:8080/",
          "height": 34
        },
        "outputId": "3a1e6cb8-fca3-4e6c-b739-0d68c6f29ec5"
      },
      "source": [
        "tweet.split('#')"
      ],
      "execution_count": 25,
      "outputs": [
        {
          "output_type": "execute_result",
          "data": {
            "text/plain": [
              "['Go Sports!', 'Sports']"
            ]
          },
          "metadata": {
            "tags": []
          },
          "execution_count": 25
        }
      ]
    },
    {
      "cell_type": "code",
      "metadata": {
        "id": "17wlYR0NgXUj",
        "colab_type": "code",
        "colab": {
          "base_uri": "https://localhost:8080/",
          "height": 35
        },
        "outputId": "55b58d32-cfca-4ddc-d91a-bd8d0c1a6121"
      },
      "source": [
        "tweet.split('#')[0]"
      ],
      "execution_count": 26,
      "outputs": [
        {
          "output_type": "execute_result",
          "data": {
            "application/vnd.google.colaboratory.intrinsic+json": {
              "type": "string"
            },
            "text/plain": [
              "'Go Sports!'"
            ]
          },
          "metadata": {
            "tags": []
          },
          "execution_count": 26
        }
      ]
    },
    {
      "cell_type": "code",
      "metadata": {
        "id": "HITqmT-7gb1u",
        "colab_type": "code",
        "colab": {
          "base_uri": "https://localhost:8080/",
          "height": 35
        },
        "outputId": "664274fd-eab6-4af8-eccb-dd709c68c255"
      },
      "source": [
        "tweet.split('#')[1]"
      ],
      "execution_count": 27,
      "outputs": [
        {
          "output_type": "execute_result",
          "data": {
            "application/vnd.google.colaboratory.intrinsic+json": {
              "type": "string"
            },
            "text/plain": [
              "'Sports'"
            ]
          },
          "metadata": {
            "tags": []
          },
          "execution_count": 27
        }
      ]
    },
    {
      "cell_type": "code",
      "metadata": {
        "id": "it9X4yRlim2Q",
        "colab_type": "code",
        "colab": {}
      },
      "source": [
        "# Number of time the word 'dog' occurs in the string\n",
        "def countDog(phrase):\n",
        "  count=0\n",
        "  for word in phrase.lower().split():\n",
        "    if word=='dog':\n",
        "      count+=1\n",
        "  return count"
      ],
      "execution_count": 28,
      "outputs": []
    },
    {
      "cell_type": "code",
      "metadata": {
        "id": "Itfle0PYjSqd",
        "colab_type": "code",
        "colab": {
          "base_uri": "https://localhost:8080/",
          "height": 34
        },
        "outputId": "c59be7d8-b08d-40f9-e4d3-c5fd0d8e8ea0"
      },
      "source": [
        "countDog('This dog runs faster than the other dog dude!')"
      ],
      "execution_count": 29,
      "outputs": [
        {
          "output_type": "execute_result",
          "data": {
            "text/plain": [
              "2"
            ]
          },
          "metadata": {
            "tags": []
          },
          "execution_count": 29
        }
      ]
    },
    {
      "cell_type": "markdown",
      "metadata": {
        "id": "wfPDraADgirf",
        "colab_type": "text"
      },
      "source": [
        "#DICTIONARY"
      ]
    },
    {
      "cell_type": "code",
      "metadata": {
        "id": "2R3tP12uggFb",
        "colab_type": "code",
        "colab": {}
      },
      "source": [
        "d={'key1':1, 'key2':2}"
      ],
      "execution_count": 30,
      "outputs": []
    },
    {
      "cell_type": "code",
      "metadata": {
        "id": "eQS-V-YMguFA",
        "colab_type": "code",
        "colab": {
          "base_uri": "https://localhost:8080/",
          "height": 34
        },
        "outputId": "45932c89-3557-4b5e-8d86-c896a2d80c5e"
      },
      "source": [
        "d.keys()"
      ],
      "execution_count": 31,
      "outputs": [
        {
          "output_type": "execute_result",
          "data": {
            "text/plain": [
              "dict_keys(['key1', 'key2'])"
            ]
          },
          "metadata": {
            "tags": []
          },
          "execution_count": 31
        }
      ]
    },
    {
      "cell_type": "code",
      "metadata": {
        "id": "TJgnG3z5gxDx",
        "colab_type": "code",
        "colab": {
          "base_uri": "https://localhost:8080/",
          "height": 34
        },
        "outputId": "8b06ec3d-0932-4216-cd74-c2e60157bc64"
      },
      "source": [
        "d.items()"
      ],
      "execution_count": 32,
      "outputs": [
        {
          "output_type": "execute_result",
          "data": {
            "text/plain": [
              "dict_items([('key1', 1), ('key2', 2)])"
            ]
          },
          "metadata": {
            "tags": []
          },
          "execution_count": 32
        }
      ]
    },
    {
      "cell_type": "code",
      "metadata": {
        "id": "prV1Cn7rg0Qg",
        "colab_type": "code",
        "colab": {
          "base_uri": "https://localhost:8080/",
          "height": 34
        },
        "outputId": "a67c3d6e-4a47-4dae-ae41-d11fb2c34b00"
      },
      "source": [
        "d.values()"
      ],
      "execution_count": 33,
      "outputs": [
        {
          "output_type": "execute_result",
          "data": {
            "text/plain": [
              "dict_values([1, 2])"
            ]
          },
          "metadata": {
            "tags": []
          },
          "execution_count": 33
        }
      ]
    },
    {
      "cell_type": "markdown",
      "metadata": {
        "id": "wDGrhrP7g7JP",
        "colab_type": "text"
      },
      "source": [
        "#LIST"
      ]
    },
    {
      "cell_type": "code",
      "metadata": {
        "id": "Z9f8EXyEg3Ud",
        "colab_type": "code",
        "colab": {}
      },
      "source": [
        "lst=[1,2,3]"
      ],
      "execution_count": 34,
      "outputs": []
    },
    {
      "cell_type": "code",
      "metadata": {
        "id": "hMcUu_U-hAFw",
        "colab_type": "code",
        "colab": {}
      },
      "source": [
        "item=lst.pop()"
      ],
      "execution_count": 35,
      "outputs": []
    },
    {
      "cell_type": "code",
      "metadata": {
        "id": "OAhkB35shEvd",
        "colab_type": "code",
        "colab": {
          "base_uri": "https://localhost:8080/",
          "height": 34
        },
        "outputId": "0c8c42dd-d448-48f6-af00-5509d9cdb7f8"
      },
      "source": [
        "item"
      ],
      "execution_count": 36,
      "outputs": [
        {
          "output_type": "execute_result",
          "data": {
            "text/plain": [
              "3"
            ]
          },
          "metadata": {
            "tags": []
          },
          "execution_count": 36
        }
      ]
    },
    {
      "cell_type": "code",
      "metadata": {
        "id": "FF7Tdgt0hFa-",
        "colab_type": "code",
        "colab": {
          "base_uri": "https://localhost:8080/",
          "height": 34
        },
        "outputId": "a1d7349f-7d62-47f1-e40b-e97d604002af"
      },
      "source": [
        "lst"
      ],
      "execution_count": 37,
      "outputs": [
        {
          "output_type": "execute_result",
          "data": {
            "text/plain": [
              "[1, 2]"
            ]
          },
          "metadata": {
            "tags": []
          },
          "execution_count": 37
        }
      ]
    },
    {
      "cell_type": "code",
      "metadata": {
        "id": "ZZ0IUYUJhGs-",
        "colab_type": "code",
        "colab": {}
      },
      "source": [
        "lst.append(3)"
      ],
      "execution_count": 38,
      "outputs": []
    },
    {
      "cell_type": "code",
      "metadata": {
        "id": "ZfgYJz9NhNEE",
        "colab_type": "code",
        "colab": {
          "base_uri": "https://localhost:8080/",
          "height": 34
        },
        "outputId": "610efe02-00a2-4d1e-ef74-51961b6bfd6a"
      },
      "source": [
        "lst"
      ],
      "execution_count": 39,
      "outputs": [
        {
          "output_type": "execute_result",
          "data": {
            "text/plain": [
              "[1, 2, 3]"
            ]
          },
          "metadata": {
            "tags": []
          },
          "execution_count": 39
        }
      ]
    },
    {
      "cell_type": "markdown",
      "metadata": {
        "id": "SFltB0-QhQBD",
        "colab_type": "text"
      },
      "source": [
        "#IN word"
      ]
    },
    {
      "cell_type": "code",
      "metadata": {
        "id": "bXdquWg_hN0K",
        "colab_type": "code",
        "colab": {
          "base_uri": "https://localhost:8080/",
          "height": 34
        },
        "outputId": "38ebc887-cbc6-405f-b96a-eac8666f5ffe"
      },
      "source": [
        "'x'in['x','y', 'z']"
      ],
      "execution_count": 40,
      "outputs": [
        {
          "output_type": "execute_result",
          "data": {
            "text/plain": [
              "True"
            ]
          },
          "metadata": {
            "tags": []
          },
          "execution_count": 40
        }
      ]
    },
    {
      "cell_type": "code",
      "metadata": {
        "id": "qUv9V4O6haJd",
        "colab_type": "code",
        "colab": {
          "base_uri": "https://localhost:8080/",
          "height": 34
        },
        "outputId": "80b82a81-f4c2-46d2-de6a-08dbee99077a"
      },
      "source": [
        "'w'in['x', 'y', 'z']"
      ],
      "execution_count": 41,
      "outputs": [
        {
          "output_type": "execute_result",
          "data": {
            "text/plain": [
              "False"
            ]
          },
          "metadata": {
            "tags": []
          },
          "execution_count": 41
        }
      ]
    },
    {
      "cell_type": "markdown",
      "metadata": {
        "id": "QwQxBl_ehueq",
        "colab_type": "text"
      },
      "source": [
        "#TUPLE UNPACKING\n",
        "Python tuples are immutable means that they can not be modified in the whole program.\n",
        "\n",
        "**Packing and Unpacking a Tuple:** In Python, there is a very powerful tuple assignment feature that assigns the right-hand side of values into the left-hand side. In another way, it is called the unpacking of a tuple of values into a variable. In packing, we put values into a new tuple while in unpacking we extract those values into a single variable.."
      ]
    },
    {
      "cell_type": "code",
      "metadata": {
        "id": "OyTBuF5phi4x",
        "colab_type": "code",
        "colab": {}
      },
      "source": [
        "x=[(1,2),(3,4),(5,6)]"
      ],
      "execution_count": 42,
      "outputs": []
    },
    {
      "cell_type": "code",
      "metadata": {
        "id": "AMs_dxRFh48I",
        "colab_type": "code",
        "colab": {
          "base_uri": "https://localhost:8080/",
          "height": 34
        },
        "outputId": "831ab99e-93d4-4370-a24d-b0c1ad88f962"
      },
      "source": [
        "x[0][0]"
      ],
      "execution_count": 43,
      "outputs": [
        {
          "output_type": "execute_result",
          "data": {
            "text/plain": [
              "1"
            ]
          },
          "metadata": {
            "tags": []
          },
          "execution_count": 43
        }
      ]
    },
    {
      "cell_type": "code",
      "metadata": {
        "id": "PD2F3TKKh7tm",
        "colab_type": "code",
        "colab": {
          "base_uri": "https://localhost:8080/",
          "height": 34
        },
        "outputId": "b64c8df0-08b0-430d-93c4-eed948d6583b"
      },
      "source": [
        "x[0][1]\n"
      ],
      "execution_count": 44,
      "outputs": [
        {
          "output_type": "execute_result",
          "data": {
            "text/plain": [
              "2"
            ]
          },
          "metadata": {
            "tags": []
          },
          "execution_count": 44
        }
      ]
    },
    {
      "cell_type": "code",
      "metadata": {
        "id": "oZBtPUs0iCHy",
        "colab_type": "code",
        "colab": {
          "base_uri": "https://localhost:8080/",
          "height": 68
        },
        "outputId": "9ae35e6c-7590-4a97-be14-45f60fc7e107"
      },
      "source": [
        "for item in x:\n",
        "  print(item)"
      ],
      "execution_count": 45,
      "outputs": [
        {
          "output_type": "stream",
          "text": [
            "(1, 2)\n",
            "(3, 4)\n",
            "(5, 6)\n"
          ],
          "name": "stdout"
        }
      ]
    },
    {
      "cell_type": "code",
      "metadata": {
        "id": "PHarNy5xiHdt",
        "colab_type": "code",
        "colab": {
          "base_uri": "https://localhost:8080/",
          "height": 68
        },
        "outputId": "f5e841f1-8f86-4a25-bcb2-c3f9246f853c"
      },
      "source": [
        "for (a,b) in x:\n",
        "  print(a)"
      ],
      "execution_count": 46,
      "outputs": [
        {
          "output_type": "stream",
          "text": [
            "1\n",
            "3\n",
            "5\n"
          ],
          "name": "stdout"
        }
      ]
    },
    {
      "cell_type": "code",
      "metadata": {
        "id": "Yu2838fLiL6h",
        "colab_type": "code",
        "colab": {
          "base_uri": "https://localhost:8080/",
          "height": 68
        },
        "outputId": "7b5cebca-42c2-4cd2-cdc2-ca40daf026ef"
      },
      "source": [
        "for a,b in x:\n",
        "  print(a+1, b+1)"
      ],
      "execution_count": 47,
      "outputs": [
        {
          "output_type": "stream",
          "text": [
            "2 3\n",
            "4 5\n",
            "6 7\n"
          ],
          "name": "stdout"
        }
      ]
    },
    {
      "cell_type": "code",
      "metadata": {
        "id": "h2ceakAdiY35",
        "colab_type": "code",
        "colab": {}
      },
      "source": [
        ""
      ],
      "execution_count": 47,
      "outputs": []
    },
    {
      "cell_type": "markdown",
      "metadata": {
        "id": "HURG_zbAkliL",
        "colab_type": "text"
      },
      "source": [
        "#NUMPY"
      ]
    },
    {
      "cell_type": "markdown",
      "metadata": {
        "id": "2GpjtHklkpe6",
        "colab_type": "text"
      },
      "source": [
        "The reason it is so important for Data Science with Python is that a lost all the libraries in the Python Ecosystem rely on NUMPY as one of their main building blocks (Jose Portilla - Python For Data Science course)."
      ]
    },
    {
      "cell_type": "markdown",
      "metadata": {
        "id": "x6kZwqW_lN49",
        "colab_type": "text"
      },
      "source": [
        "NUMPY is also incredibly fast as it has bound to C libraries\n",
        "###Installation: \n",
        "**conda install numpy** (Anaconda) \n",
        "or \n",
        "**pip install numpy**"
      ]
    },
    {
      "cell_type": "markdown",
      "metadata": {
        "id": "BRLdZ7Lnl4MN",
        "colab_type": "text"
      },
      "source": [
        "#ARRAYS (Vectors & Matrices) in NUMPY  -> cast a list into numpy array"
      ]
    },
    {
      "cell_type": "code",
      "metadata": {
        "id": "6kaEdXe4lZeI",
        "colab_type": "code",
        "colab": {}
      },
      "source": [
        "#Vectors\n",
        "my_list=[1,2,3]"
      ],
      "execution_count": 48,
      "outputs": []
    },
    {
      "cell_type": "code",
      "metadata": {
        "id": "_MQt4fKpmT4d",
        "colab_type": "code",
        "colab": {}
      },
      "source": [
        "import numpy as np \n",
        "vec=np.array(my_list)"
      ],
      "execution_count": 49,
      "outputs": []
    },
    {
      "cell_type": "code",
      "metadata": {
        "id": "3j2mAWGAmbIM",
        "colab_type": "code",
        "colab": {
          "base_uri": "https://localhost:8080/",
          "height": 34
        },
        "outputId": "47994c06-64b2-48ed-81e5-de092309393e"
      },
      "source": [
        "# 1 bracket mean 1-dimensional array ([])\n",
        "vec"
      ],
      "execution_count": 50,
      "outputs": [
        {
          "output_type": "execute_result",
          "data": {
            "text/plain": [
              "array([1, 2, 3])"
            ]
          },
          "metadata": {
            "tags": []
          },
          "execution_count": 50
        }
      ]
    },
    {
      "cell_type": "code",
      "metadata": {
        "id": "XwdBtergmhjH",
        "colab_type": "code",
        "colab": {}
      },
      "source": [
        "my_mat=[[1,2,3],[4,5,6],[7,8,9]]"
      ],
      "execution_count": 51,
      "outputs": []
    },
    {
      "cell_type": "code",
      "metadata": {
        "id": "DZLoPrEImqMb",
        "colab_type": "code",
        "colab": {}
      },
      "source": [
        "import numpy as np"
      ],
      "execution_count": 52,
      "outputs": []
    },
    {
      "cell_type": "code",
      "metadata": {
        "id": "ivxJkZixmy0U",
        "colab_type": "code",
        "colab": {}
      },
      "source": [
        "mat=np.array(my_mat)"
      ],
      "execution_count": 53,
      "outputs": []
    },
    {
      "cell_type": "code",
      "metadata": {
        "id": "4hJJR8Pxm3Ny",
        "colab_type": "code",
        "colab": {
          "base_uri": "https://localhost:8080/",
          "height": 68
        },
        "outputId": "bdaf7f08-9946-413d-a6cb-9d8d90cd581d"
      },
      "source": [
        "# 2 brackets mean 2-dimensional array ([[]])\n",
        "mat"
      ],
      "execution_count": 54,
      "outputs": [
        {
          "output_type": "execute_result",
          "data": {
            "text/plain": [
              "array([[1, 2, 3],\n",
              "       [4, 5, 6],\n",
              "       [7, 8, 9]])"
            ]
          },
          "metadata": {
            "tags": []
          },
          "execution_count": 54
        }
      ]
    },
    {
      "cell_type": "markdown",
      "metadata": {
        "id": "H8-hsatI2x8O",
        "colab_type": "text"
      },
      "source": [
        "#ARANGE in NUMPY"
      ]
    },
    {
      "cell_type": "code",
      "metadata": {
        "id": "KX-NZ8qSp4Yg",
        "colab_type": "code",
        "colab": {
          "base_uri": "https://localhost:8080/",
          "height": 34
        },
        "outputId": "f7ae43b7-d5a7-4581-a769-27042abac222"
      },
      "source": [
        "# All the way up to 10, but not including 10 -> return aN NUMPY ARRAY sequence of 10 digits counting from 0 to 10\n",
        "np.arange(0,10)"
      ],
      "execution_count": 55,
      "outputs": [
        {
          "output_type": "execute_result",
          "data": {
            "text/plain": [
              "array([0, 1, 2, 3, 4, 5, 6, 7, 8, 9])"
            ]
          },
          "metadata": {
            "tags": []
          },
          "execution_count": 55
        }
      ]
    },
    {
      "cell_type": "code",
      "metadata": {
        "id": "j3ecsP-3qGK6",
        "colab_type": "code",
        "colab": {
          "base_uri": "https://localhost:8080/",
          "height": 34
        },
        "outputId": "b7e7dafd-717e-47c5-ed81-0140e102ea82"
      },
      "source": [
        "# Third argument: step size you may want\n",
        "np.arange(0,10,2)"
      ],
      "execution_count": 56,
      "outputs": [
        {
          "output_type": "execute_result",
          "data": {
            "text/plain": [
              "array([0, 2, 4, 6, 8])"
            ]
          },
          "metadata": {
            "tags": []
          },
          "execution_count": 56
        }
      ]
    },
    {
      "cell_type": "markdown",
      "metadata": {
        "id": "4RElaTVrq6Mh",
        "colab_type": "text"
      },
      "source": [
        "#ZEROES & ONES & EYE(Identity matrix) in NUMPY\n",
        "\n",
        "---\n",
        "\n"
      ]
    },
    {
      "cell_type": "code",
      "metadata": {
        "id": "sK3dKrPWqwoE",
        "colab_type": "code",
        "colab": {
          "base_uri": "https://localhost:8080/",
          "height": 34
        },
        "outputId": "c7f46f7c-e55f-43cb-f61a-3ffa75529183"
      },
      "source": [
        "np.zeros(3)"
      ],
      "execution_count": 57,
      "outputs": [
        {
          "output_type": "execute_result",
          "data": {
            "text/plain": [
              "array([0., 0., 0.])"
            ]
          },
          "metadata": {
            "tags": []
          },
          "execution_count": 57
        }
      ]
    },
    {
      "cell_type": "code",
      "metadata": {
        "id": "HVzmZxhwrA6P",
        "colab_type": "code",
        "colab": {
          "base_uri": "https://localhost:8080/",
          "height": 102
        },
        "outputId": "f67fa887-25f6-4c56-dd7a-8f3fd0560015"
      },
      "source": [
        "np.zeros((5,5))"
      ],
      "execution_count": 58,
      "outputs": [
        {
          "output_type": "execute_result",
          "data": {
            "text/plain": [
              "array([[0., 0., 0., 0., 0.],\n",
              "       [0., 0., 0., 0., 0.],\n",
              "       [0., 0., 0., 0., 0.],\n",
              "       [0., 0., 0., 0., 0.],\n",
              "       [0., 0., 0., 0., 0.]])"
            ]
          },
          "metadata": {
            "tags": []
          },
          "execution_count": 58
        }
      ]
    },
    {
      "cell_type": "code",
      "metadata": {
        "id": "cRGa46i6rE6O",
        "colab_type": "code",
        "colab": {
          "base_uri": "https://localhost:8080/",
          "height": 34
        },
        "outputId": "0edf30de-f5df-4737-b456-3faed2ee6a75"
      },
      "source": [
        "np.ones(4)"
      ],
      "execution_count": 59,
      "outputs": [
        {
          "output_type": "execute_result",
          "data": {
            "text/plain": [
              "array([1., 1., 1., 1.])"
            ]
          },
          "metadata": {
            "tags": []
          },
          "execution_count": 59
        }
      ]
    },
    {
      "cell_type": "code",
      "metadata": {
        "id": "sW_YJKlKrU1z",
        "colab_type": "code",
        "colab": {
          "base_uri": "https://localhost:8080/",
          "height": 102
        },
        "outputId": "e6b24a28-77bd-4fdf-95c5-c2a4e4767ff8"
      },
      "source": [
        "np.ones((5,5))"
      ],
      "execution_count": 60,
      "outputs": [
        {
          "output_type": "execute_result",
          "data": {
            "text/plain": [
              "array([[1., 1., 1., 1., 1.],\n",
              "       [1., 1., 1., 1., 1.],\n",
              "       [1., 1., 1., 1., 1.],\n",
              "       [1., 1., 1., 1., 1.],\n",
              "       [1., 1., 1., 1., 1.]])"
            ]
          },
          "metadata": {
            "tags": []
          },
          "execution_count": 60
        }
      ]
    },
    {
      "cell_type": "code",
      "metadata": {
        "id": "-GcYiWmUrXiE",
        "colab_type": "code",
        "colab": {
          "base_uri": "https://localhost:8080/",
          "height": 85
        },
        "outputId": "8870bf83-0f1d-446e-a4f0-69f176f61970"
      },
      "source": [
        "# IDENTITY MATRIX\n",
        "np.eye(4)"
      ],
      "execution_count": 61,
      "outputs": [
        {
          "output_type": "execute_result",
          "data": {
            "text/plain": [
              "array([[1., 0., 0., 0.],\n",
              "       [0., 1., 0., 0.],\n",
              "       [0., 0., 1., 0.],\n",
              "       [0., 0., 0., 1.]])"
            ]
          },
          "metadata": {
            "tags": []
          },
          "execution_count": 61
        }
      ]
    },
    {
      "cell_type": "markdown",
      "metadata": {
        "id": "15X6fu3Br2pA",
        "colab_type": "text"
      },
      "source": [
        "#LINSPACE (SPACED EVENLY) in NUMPY"
      ]
    },
    {
      "cell_type": "code",
      "metadata": {
        "id": "3CXe9iA1rlFD",
        "colab_type": "code",
        "colab": {
          "base_uri": "https://localhost:8080/",
          "height": 51
        },
        "outputId": "9e226472-53a9-4420-d100-596634fd3459"
      },
      "source": [
        "# From 0, to 5 returning 10 digits spaced evenly\n",
        "np.linspace(0,5,10)"
      ],
      "execution_count": 62,
      "outputs": [
        {
          "output_type": "execute_result",
          "data": {
            "text/plain": [
              "array([0.        , 0.55555556, 1.11111111, 1.66666667, 2.22222222,\n",
              "       2.77777778, 3.33333333, 3.88888889, 4.44444444, 5.        ])"
            ]
          },
          "metadata": {
            "tags": []
          },
          "execution_count": 62
        }
      ]
    },
    {
      "cell_type": "markdown",
      "metadata": {
        "id": "ffpKbmMLsY9f",
        "colab_type": "text"
      },
      "source": [
        "PLEASE **DON'T CONFUSE** linspace **WITH** arange:\n",
        "\n",
        "\n",
        "**arange**: will take in the third argument as the **STEPS SIZE** (you want)\n",
        "\n",
        "**linspace**: will take in the third argument as the **NUMBER OF POINTS**(evenly separated)\n"
      ]
    },
    {
      "cell_type": "markdown",
      "metadata": {
        "id": "6FuLnS5Mtb_5",
        "colab_type": "text"
      },
      "source": [
        "#RANDOM NUMBER in NUMPY"
      ]
    },
    {
      "cell_type": "code",
      "metadata": {
        "id": "-h2WZWvLtiX5",
        "colab_type": "code",
        "colab": {
          "base_uri": "https://localhost:8080/",
          "height": 34
        },
        "outputId": "0a41e3ba-7c1b-4c89-98d3-1d4f49cf7eac"
      },
      "source": [
        "# RAND differs from ARANGE because RAND returns random numbers and ARANGE return a sequence of them\n",
        "np.random.rand(5)"
      ],
      "execution_count": 63,
      "outputs": [
        {
          "output_type": "execute_result",
          "data": {
            "text/plain": [
              "array([0.78741289, 0.77059014, 0.00233764, 0.05274898, 0.91220179])"
            ]
          },
          "metadata": {
            "tags": []
          },
          "execution_count": 63
        }
      ]
    },
    {
      "cell_type": "code",
      "metadata": {
        "id": "-XXHfUTotndT",
        "colab_type": "code",
        "colab": {
          "base_uri": "https://localhost:8080/",
          "height": 34
        },
        "outputId": "220e585a-c0d3-4d63-c88b-5727dc32e67e"
      },
      "source": [
        "# n means Normal Distribution (return values around the Mean in gaussian distribution)\n",
        "np.random.randn(2)"
      ],
      "execution_count": 64,
      "outputs": [
        {
          "output_type": "execute_result",
          "data": {
            "text/plain": [
              "array([0.73984129, 0.15804666])"
            ]
          },
          "metadata": {
            "tags": []
          },
          "execution_count": 64
        }
      ]
    },
    {
      "cell_type": "code",
      "metadata": {
        "id": "uq-1ZS94uKSr",
        "colab_type": "code",
        "colab": {
          "base_uri": "https://localhost:8080/",
          "height": 34
        },
        "outputId": "f4828ca2-bc0f-48c4-a4f2-55c165d3cfcb"
      },
      "source": [
        "# Without the third parameter, it will return one digit from 1(included) to 100(not included)\n",
        "np.random.randint(1,100)"
      ],
      "execution_count": 65,
      "outputs": [
        {
          "output_type": "execute_result",
          "data": {
            "text/plain": [
              "85"
            ]
          },
          "metadata": {
            "tags": []
          },
          "execution_count": 65
        }
      ]
    },
    {
      "cell_type": "code",
      "metadata": {
        "id": "EBlKxe-Uuodt",
        "colab_type": "code",
        "colab": {
          "base_uri": "https://localhost:8080/",
          "height": 34
        },
        "outputId": "08d91aef-0395-4faf-b075-40bd7a908648"
      },
      "source": [
        "# The third parameter specifuy the digits you want to return\n",
        "np.random.randint(1,100,10)"
      ],
      "execution_count": 66,
      "outputs": [
        {
          "output_type": "execute_result",
          "data": {
            "text/plain": [
              "array([81, 30, 64, 26, 37, 50, 33, 33,  2,  5])"
            ]
          },
          "metadata": {
            "tags": []
          },
          "execution_count": 66
        }
      ]
    },
    {
      "cell_type": "markdown",
      "metadata": {
        "id": "8XFoNZCNvZLk",
        "colab_type": "text"
      },
      "source": [
        "Difference between **ARANGE** and **RANDINT**:\n",
        "\n",
        "**ARANGE**: returns **sequence** of digits\n",
        "\n",
        "**RANDINT**: returns **randonly** selected digits"
      ]
    },
    {
      "cell_type": "code",
      "metadata": {
        "id": "yKmG7xzSu0zh",
        "colab_type": "code",
        "colab": {}
      },
      "source": [
        "arr=np.arange(25)"
      ],
      "execution_count": 67,
      "outputs": []
    },
    {
      "cell_type": "code",
      "metadata": {
        "id": "bONsEc41wDK1",
        "colab_type": "code",
        "colab": {
          "base_uri": "https://localhost:8080/",
          "height": 51
        },
        "outputId": "f97008a7-37df-4152-8b93-d61840fea18d"
      },
      "source": [
        "arr"
      ],
      "execution_count": 68,
      "outputs": [
        {
          "output_type": "execute_result",
          "data": {
            "text/plain": [
              "array([ 0,  1,  2,  3,  4,  5,  6,  7,  8,  9, 10, 11, 12, 13, 14, 15, 16,\n",
              "       17, 18, 19, 20, 21, 22, 23, 24])"
            ]
          },
          "metadata": {
            "tags": []
          },
          "execution_count": 68
        }
      ]
    },
    {
      "cell_type": "code",
      "metadata": {
        "id": "fynN1YNLwG-C",
        "colab_type": "code",
        "colab": {}
      },
      "source": [
        "randarr=np.random.randint(0,50,10)"
      ],
      "execution_count": 69,
      "outputs": []
    },
    {
      "cell_type": "code",
      "metadata": {
        "id": "2hpX7b5qwPNI",
        "colab_type": "code",
        "colab": {
          "base_uri": "https://localhost:8080/",
          "height": 34
        },
        "outputId": "ae3e8d82-f721-47b1-e7b7-c06ac26ac680"
      },
      "source": [
        "randarr"
      ],
      "execution_count": 70,
      "outputs": [
        {
          "output_type": "execute_result",
          "data": {
            "text/plain": [
              "array([42, 10, 31, 10,  4, 21,  3, 29, 32, 16])"
            ]
          },
          "metadata": {
            "tags": []
          },
          "execution_count": 70
        }
      ]
    },
    {
      "cell_type": "code",
      "metadata": {
        "id": "w0m3YMHlwQ0P",
        "colab_type": "code",
        "colab": {}
      },
      "source": [
        ""
      ],
      "execution_count": 70,
      "outputs": []
    },
    {
      "cell_type": "markdown",
      "metadata": {
        "id": "R7f7XNGHwVPy",
        "colab_type": "text"
      },
      "source": [
        "#RESHAPE in NUMPY"
      ]
    },
    {
      "cell_type": "code",
      "metadata": {
        "id": "LE0KIfVdweFh",
        "colab_type": "code",
        "colab": {}
      },
      "source": [
        "# Get the and numpy array and reshape it as you want; here reshaping arr(1_dimentional) as a matrix of 5x5 (2_dimentional)\n",
        "reshapped_arr=arr.reshape(5,5)"
      ],
      "execution_count": 71,
      "outputs": []
    },
    {
      "cell_type": "code",
      "metadata": {
        "id": "_J4qeffGxN91",
        "colab_type": "code",
        "colab": {
          "base_uri": "https://localhost:8080/",
          "height": 102
        },
        "outputId": "74917c4e-12c4-4cad-bd07-722cca99b323"
      },
      "source": [
        "reshapped_arr"
      ],
      "execution_count": 72,
      "outputs": [
        {
          "output_type": "execute_result",
          "data": {
            "text/plain": [
              "array([[ 0,  1,  2,  3,  4],\n",
              "       [ 5,  6,  7,  8,  9],\n",
              "       [10, 11, 12, 13, 14],\n",
              "       [15, 16, 17, 18, 19],\n",
              "       [20, 21, 22, 23, 24]])"
            ]
          },
          "metadata": {
            "tags": []
          },
          "execution_count": 72
        }
      ]
    },
    {
      "cell_type": "markdown",
      "metadata": {
        "id": "nEi55v7Cxcrl",
        "colab_type": "text"
      },
      "source": [
        "#MAX & MIN in NUMPY "
      ]
    },
    {
      "cell_type": "code",
      "metadata": {
        "id": "tBrgCy7lxt9Z",
        "colab_type": "code",
        "colab": {
          "base_uri": "https://localhost:8080/",
          "height": 34
        },
        "outputId": "8898201e-e991-439d-ba2b-13b7aee8b032"
      },
      "source": [
        "reshapped_arr.min()"
      ],
      "execution_count": 73,
      "outputs": [
        {
          "output_type": "execute_result",
          "data": {
            "text/plain": [
              "0"
            ]
          },
          "metadata": {
            "tags": []
          },
          "execution_count": 73
        }
      ]
    },
    {
      "cell_type": "code",
      "metadata": {
        "id": "62Y-dZXhx3no",
        "colab_type": "code",
        "colab": {
          "base_uri": "https://localhost:8080/",
          "height": 34
        },
        "outputId": "f3c1f962-7c65-4593-df2f-836d803604dd"
      },
      "source": [
        "reshapped_arr.max()"
      ],
      "execution_count": 74,
      "outputs": [
        {
          "output_type": "execute_result",
          "data": {
            "text/plain": [
              "24"
            ]
          },
          "metadata": {
            "tags": []
          },
          "execution_count": 74
        }
      ]
    },
    {
      "cell_type": "markdown",
      "metadata": {
        "id": "ytb18Ru6x-N2",
        "colab_type": "text"
      },
      "source": [
        "#ATTRIBUTES SHAPE & DTYPE in NUMPY \n",
        "(there are **no Parentheses** cuz this is attributes:)\n"
      ]
    },
    {
      "cell_type": "code",
      "metadata": {
        "id": "ytj101iOx7nF",
        "colab_type": "code",
        "colab": {
          "base_uri": "https://localhost:8080/",
          "height": 34
        },
        "outputId": "f0adf7eb-c1dd-4b9c-dea9-4f6523e84e6d"
      },
      "source": [
        "reshapped_arr.shape"
      ],
      "execution_count": 75,
      "outputs": [
        {
          "output_type": "execute_result",
          "data": {
            "text/plain": [
              "(5, 5)"
            ]
          },
          "metadata": {
            "tags": []
          },
          "execution_count": 75
        }
      ]
    },
    {
      "cell_type": "code",
      "metadata": {
        "id": "NnhiKfRXyLlz",
        "colab_type": "code",
        "colab": {
          "base_uri": "https://localhost:8080/",
          "height": 34
        },
        "outputId": "a6136ded-1c8d-475d-d7ed-8c9e4f7b39a6"
      },
      "source": [
        "reshapped_arr.dtype"
      ],
      "execution_count": 76,
      "outputs": [
        {
          "output_type": "execute_result",
          "data": {
            "text/plain": [
              "dtype('int64')"
            ]
          },
          "metadata": {
            "tags": []
          },
          "execution_count": 76
        }
      ]
    },
    {
      "cell_type": "code",
      "metadata": {
        "id": "Wl8LmsttyOcn",
        "colab_type": "code",
        "colab": {}
      },
      "source": [
        "from numpy.random import randint"
      ],
      "execution_count": 77,
      "outputs": []
    },
    {
      "cell_type": "markdown",
      "metadata": {
        "id": "__l1yhO96OXf",
        "colab_type": "text"
      },
      "source": [
        "# FUN LITTLE QUIZ\n",
        "ADVANCED INDEXING\n",
        "\n",
        "**SOLUTION Nº 01**"
      ]
    },
    {
      "cell_type": "code",
      "metadata": {
        "id": "n4bCMwAo6PL6",
        "colab_type": "code",
        "colab": {
          "base_uri": "https://localhost:8080/",
          "height": 102
        },
        "outputId": "ffac814e-0a90-48b0-ae9c-cfa0d2c48a61"
      },
      "source": [
        "# CREATING MATRIX_A\n",
        "matrix_a=np.ones((5,5))\n",
        "z=np.zeros((3,3))\n",
        "z[1,1]=9\n",
        "matrix_a[1:4,1:4]=z\n",
        "print(matrix_a)"
      ],
      "execution_count": 78,
      "outputs": [
        {
          "output_type": "stream",
          "text": [
            "[[1. 1. 1. 1. 1.]\n",
            " [1. 0. 0. 0. 1.]\n",
            " [1. 0. 9. 0. 1.]\n",
            " [1. 0. 0. 0. 1.]\n",
            " [1. 1. 1. 1. 1.]]\n"
          ],
          "name": "stdout"
        }
      ]
    },
    {
      "cell_type": "markdown",
      "metadata": {
        "id": "yk7nDsRw7kKO",
        "colab_type": "text"
      },
      "source": [
        "**SOLUTION Nº 02**"
      ]
    },
    {
      "cell_type": "code",
      "metadata": {
        "id": "Qn9YECAx7lAH",
        "colab_type": "code",
        "colab": {
          "base_uri": "https://localhost:8080/",
          "height": 102
        },
        "outputId": "32ac30e1-9fcb-432d-cbbb-95b1bf5e7619"
      },
      "source": [
        "# Loading Matrix_B\n",
        "# Goto Hamburger menu > File > Upload 'matrix_b.txt' file\n",
        "matrix_b=np.genfromtxt('matrix_b.txt', delimiter=',')\n",
        "matrix_b"
      ],
      "execution_count": 79,
      "outputs": [
        {
          "output_type": "execute_result",
          "data": {
            "text/plain": [
              "array([[1., 2., 3., 4., 5.],\n",
              "       [6., 7., 8., 9., 0.],\n",
              "       [1., 2., 3., 4., 5.],\n",
              "       [6., 7., 8., 9., 0.],\n",
              "       [1., 2., 3., 4., 5.]])"
            ]
          },
          "metadata": {
            "tags": []
          },
          "execution_count": 79
        }
      ]
    },
    {
      "cell_type": "code",
      "metadata": {
        "id": "-LbYBSU07ob9",
        "colab_type": "code",
        "colab": {
          "base_uri": "https://localhost:8080/",
          "height": 51
        },
        "outputId": "f009f766-d595-44a9-887b-a0e4a7308775"
      },
      "source": [
        "# RESCUE MATRIX_C\n",
        "matrix_c=matrix_b[2:4,0:2]\n",
        "print(matrix_c)"
      ],
      "execution_count": 80,
      "outputs": [
        {
          "output_type": "stream",
          "text": [
            "[[1. 2.]\n",
            " [6. 7.]]\n"
          ],
          "name": "stdout"
        }
      ]
    },
    {
      "cell_type": "code",
      "metadata": {
        "id": "FPVLrKej9OxY",
        "colab_type": "code",
        "colab": {
          "base_uri": "https://localhost:8080/",
          "height": 34
        },
        "outputId": "c5d05bc2-3fec-494b-a05c-e8df5cddc989"
      },
      "source": [
        "# RESCUE MATRIX_D\n",
        "matrix_d=matrix_b[[0,1,2,3],[1,2,3,4]]\n",
        "print(matrix_d)"
      ],
      "execution_count": 81,
      "outputs": [
        {
          "output_type": "stream",
          "text": [
            "[2. 8. 4. 0.]\n"
          ],
          "name": "stdout"
        }
      ]
    },
    {
      "cell_type": "code",
      "metadata": {
        "id": "DQcbTnu09R3L",
        "colab_type": "code",
        "colab": {
          "base_uri": "https://localhost:8080/",
          "height": 51
        },
        "outputId": "73d639b8-5d4f-46c1-94e4-8c6d0123d874"
      },
      "source": [
        "# RESCUE MATRIX_E \n",
        "matrix_e=matrix_b[[2,4],2:5]\n",
        "print(matrix_e)"
      ],
      "execution_count": 82,
      "outputs": [
        {
          "output_type": "stream",
          "text": [
            "[[3. 4. 5.]\n",
            " [3. 4. 5.]]\n"
          ],
          "name": "stdout"
        }
      ]
    },
    {
      "cell_type": "code",
      "metadata": {
        "id": "DRy8kPLSzB2H",
        "colab_type": "code",
        "colab": {
          "base_uri": "https://localhost:8080/",
          "height": 34
        },
        "outputId": "0b1f2c68-bddf-4544-a7fc-9035b3ecdf83"
      },
      "source": [
        "# https://medium.com/jungletronics/numpy-init-python-review-f5362abbaaf9\n",
        "print(\"Thank you for reading this page! Please favorite it, IF YOU LIKE:)\")"
      ],
      "execution_count": 83,
      "outputs": [
        {
          "output_type": "stream",
          "text": [
            "Thank you for reading this page! Please favorite it, IF YOU LIKE:)\n"
          ],
          "name": "stdout"
        }
      ]
    }
  ]
}