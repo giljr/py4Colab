{
  "nbformat": 4,
  "nbformat_minor": 0,
  "metadata": {
    "colab": {
      "name": "numpy.ipynb",
      "provenance": [],
      "collapsed_sections": [
        "x6kZwqW_lN49"
      ],
      "authorship_tag": "ABX9TyP+5I+XQXKmzITtoa6oKQiV",
      "include_colab_link": true
    },
    "kernelspec": {
      "name": "python3",
      "display_name": "Python 3"
    }
  },
  "cells": [
    {
      "cell_type": "markdown",
      "metadata": {
        "id": "view-in-github",
        "colab_type": "text"
      },
      "source": [
        "<a href=\"https://colab.research.google.com/github/giljr/py4Colab/blob/master/EX_01/numpy.ipynb\" target=\"_parent\"><img src=\"https://colab.research.google.com/assets/colab-badge.svg\" alt=\"Open In Colab\"/></a>"
      ]
    },
    {
      "cell_type": "markdown",
      "metadata": {
        "id": "wqaCBGcqVB6W",
        "colab_type": "text"
      },
      "source": [
        "#PYTHON REVIEW\n",
        "\n",
        "###Functions:\n"
      ]
    },
    {
      "cell_type": "code",
      "metadata": {
        "id": "CqKudv0kTBcD",
        "colab_type": "code",
        "colab": {}
      },
      "source": [
        "#Python Functions\n",
        "def times2(var):\n",
        "  return var*2\n"
      ],
      "execution_count": 1,
      "outputs": []
    },
    {
      "cell_type": "code",
      "metadata": {
        "id": "6Bdx2LmTTas1",
        "colab_type": "code",
        "colab": {
          "base_uri": "https://localhost:8080/",
          "height": 34
        },
        "outputId": "b5998cb2-0d94-40fa-c454-ec47c1d993a5"
      },
      "source": [
        "times2(5)"
      ],
      "execution_count": 2,
      "outputs": [
        {
          "output_type": "execute_result",
          "data": {
            "text/plain": [
              "10"
            ]
          },
          "metadata": {
            "tags": []
          },
          "execution_count": 2
        }
      ]
    },
    {
      "cell_type": "code",
      "metadata": {
        "id": "lXItYtwCTg0I",
        "colab_type": "code",
        "colab": {}
      },
      "source": [
        "def square(num):\n",
        "  '''\n",
        "  THIS IS A DOCSTRING,\n",
        "  CAN GO MULTIPLY LINES\n",
        "  THIS FUNCTION SQUARES A NUMBER\n",
        "  '''\n",
        "  return num**2"
      ],
      "execution_count": 3,
      "outputs": []
    },
    {
      "cell_type": "code",
      "metadata": {
        "id": "FmXHH5rdT4M2",
        "colab_type": "code",
        "colab": {}
      },
      "source": [
        "# Hit Shift-Tab to bring up the signature and docstring of the class\n",
        "output = square(2)"
      ],
      "execution_count": 4,
      "outputs": []
    },
    {
      "cell_type": "code",
      "metadata": {
        "id": "UJp4my6gT-vu",
        "colab_type": "code",
        "colab": {
          "base_uri": "https://localhost:8080/",
          "height": 34
        },
        "outputId": "f1365e28-7ede-4e27-8f95-c125079d04f4"
      },
      "source": [
        "output"
      ],
      "execution_count": 5,
      "outputs": [
        {
          "output_type": "execute_result",
          "data": {
            "text/plain": [
              "4"
            ]
          },
          "metadata": {
            "tags": []
          },
          "execution_count": 5
        }
      ]
    },
    {
      "cell_type": "markdown",
      "metadata": {
        "id": "SlZZe8bEVgMk",
        "colab_type": "text"
      },
      "source": [
        "#MAP"
      ]
    },
    {
      "cell_type": "code",
      "metadata": {
        "id": "KgGTgs52UCGi",
        "colab_type": "code",
        "colab": {}
      },
      "source": [
        "seq=[1,2,3,4,5]"
      ],
      "execution_count": 6,
      "outputs": []
    },
    {
      "cell_type": "code",
      "metadata": {
        "id": "hTrrv7E6VoWI",
        "colab_type": "code",
        "colab": {
          "base_uri": "https://localhost:8080/",
          "height": 34
        },
        "outputId": "e7517a8e-bd5b-4c50-d0c4-c5eebf8de32a"
      },
      "source": [
        "list(map(times2, seq))"
      ],
      "execution_count": 7,
      "outputs": [
        {
          "output_type": "execute_result",
          "data": {
            "text/plain": [
              "[2, 4, 6, 8, 10]"
            ]
          },
          "metadata": {
            "tags": []
          },
          "execution_count": 7
        }
      ]
    },
    {
      "cell_type": "markdown",
      "metadata": {
        "id": "jx9CDHYFV2Nt",
        "colab_type": "text"
      },
      "source": [
        "#LAMBDA"
      ]
    },
    {
      "cell_type": "code",
      "metadata": {
        "id": "IamzT2-2V53g",
        "colab_type": "code",
        "colab": {}
      },
      "source": [
        "#def times2(var):return var*2"
      ],
      "execution_count": 8,
      "outputs": []
    },
    {
      "cell_type": "code",
      "metadata": {
        "id": "tXFLEw6LdFJi",
        "colab_type": "code",
        "colab": {
          "base_uri": "https://localhost:8080/",
          "height": 34
        },
        "outputId": "37ec17b7-5f91-4026-80c6-97f1f0f43962"
      },
      "source": [
        "# get rid of the name of the function, cuz lambda is annonimous function (read: lambda takes var and returns var*2)\n",
        "lambda var:var*2"
      ],
      "execution_count": 9,
      "outputs": [
        {
          "output_type": "execute_result",
          "data": {
            "text/plain": [
              "<function __main__.<lambda>>"
            ]
          },
          "metadata": {
            "tags": []
          },
          "execution_count": 9
        }
      ]
    },
    {
      "cell_type": "code",
      "metadata": {
        "id": "6PIY5iVddK83",
        "colab_type": "code",
        "colab": {}
      },
      "source": [
        "\n",
        "# Not usual, but feasible:)\n",
        "t=lambda var:var*2"
      ],
      "execution_count": 10,
      "outputs": []
    },
    {
      "cell_type": "code",
      "metadata": {
        "id": "rYqyuS4rdPvH",
        "colab_type": "code",
        "colab": {
          "base_uri": "https://localhost:8080/",
          "height": 34
        },
        "outputId": "54cf8f71-cd50-4ae6-9b91-74b61889dbf2"
      },
      "source": [
        "t(5)"
      ],
      "execution_count": 11,
      "outputs": [
        {
          "output_type": "execute_result",
          "data": {
            "text/plain": [
              "10"
            ]
          },
          "metadata": {
            "tags": []
          },
          "execution_count": 11
        }
      ]
    },
    {
      "cell_type": "code",
      "metadata": {
        "id": "zmzLaqDUdRh8",
        "colab_type": "code",
        "colab": {
          "base_uri": "https://localhost:8080/",
          "height": 34
        },
        "outputId": "30107fb6-f662-4027-f4f7-e64fcd398f8d"
      },
      "source": [
        "# Using Map function plus Lambda function (what it is build for!)\n",
        "map(lambda var:var*2, seq)"
      ],
      "execution_count": 12,
      "outputs": [
        {
          "output_type": "execute_result",
          "data": {
            "text/plain": [
              "<map at 0x7f0640b37b38>"
            ]
          },
          "metadata": {
            "tags": []
          },
          "execution_count": 12
        }
      ]
    },
    {
      "cell_type": "code",
      "metadata": {
        "id": "dJdDTuXfdzCb",
        "colab_type": "code",
        "colab": {
          "base_uri": "https://localhost:8080/",
          "height": 34
        },
        "outputId": "1c0215a2-da28-4544-a4fe-2886a22c8175"
      },
      "source": [
        "# Casting Map to a List\n",
        "list(map(lambda var:var*2, seq))"
      ],
      "execution_count": 13,
      "outputs": [
        {
          "output_type": "execute_result",
          "data": {
            "text/plain": [
              "[2, 4, 6, 8, 10]"
            ]
          },
          "metadata": {
            "tags": []
          },
          "execution_count": 13
        }
      ]
    },
    {
      "cell_type": "markdown",
      "metadata": {
        "id": "1jNvqZ9HeQEU",
        "colab_type": "text"
      },
      "source": [
        "#FILTER"
      ]
    },
    {
      "cell_type": "code",
      "metadata": {
        "id": "U_uBmhVpeFsE",
        "colab_type": "code",
        "colab": {
          "base_uri": "https://localhost:8080/",
          "height": 34
        },
        "outputId": "aca9e9de-4c32-4ba3-9faf-c54ebae3552d"
      },
      "source": [
        "filter(lambda var:var%2==0, seq)"
      ],
      "execution_count": 14,
      "outputs": [
        {
          "output_type": "execute_result",
          "data": {
            "text/plain": [
              "<filter at 0x7f0640b37d30>"
            ]
          },
          "metadata": {
            "tags": []
          },
          "execution_count": 14
        }
      ]
    },
    {
      "cell_type": "code",
      "metadata": {
        "id": "uAt-SkSIekRN",
        "colab_type": "code",
        "colab": {
          "base_uri": "https://localhost:8080/",
          "height": 34
        },
        "outputId": "998aca9a-ac78-481a-eeb5-ceba27afbb9e"
      },
      "source": [
        "# Filters out the even number from seq list casted to a list\n",
        "list(filter(lambda var:var%2==0, seq))\n",
        "\n"
      ],
      "execution_count": 15,
      "outputs": [
        {
          "output_type": "execute_result",
          "data": {
            "text/plain": [
              "[2, 4]"
            ]
          },
          "metadata": {
            "tags": []
          },
          "execution_count": 15
        }
      ]
    },
    {
      "cell_type": "code",
      "metadata": {
        "id": "6RVDtduejpDy",
        "colab_type": "code",
        "colab": {}
      },
      "source": [
        "seq=['soup','dog','salad','cat','greed']"
      ],
      "execution_count": 16,
      "outputs": []
    },
    {
      "cell_type": "code",
      "metadata": {
        "id": "UsVsLbifj3xu",
        "colab_type": "code",
        "colab": {
          "base_uri": "https://localhost:8080/",
          "height": 34
        },
        "outputId": "b5676586-d5a8-4209-d9b5-69cdaf25efc2"
      },
      "source": [
        "# Filters out 's' init words using lambda expression\n",
        "filter(lambda word:word[0]=='s', seq)"
      ],
      "execution_count": 17,
      "outputs": [
        {
          "output_type": "execute_result",
          "data": {
            "text/plain": [
              "<filter at 0x7f06402bb080>"
            ]
          },
          "metadata": {
            "tags": []
          },
          "execution_count": 17
        }
      ]
    },
    {
      "cell_type": "code",
      "metadata": {
        "id": "IbdpmkZ0kG9b",
        "colab_type": "code",
        "colab": {
          "base_uri": "https://localhost:8080/",
          "height": 34
        },
        "outputId": "19995d49-6a96-47ad-c624-5f940129ef57"
      },
      "source": [
        "list(filter(lambda word:word[0]=='s', seq))"
      ],
      "execution_count": 18,
      "outputs": [
        {
          "output_type": "execute_result",
          "data": {
            "text/plain": [
              "['soup', 'salad']"
            ]
          },
          "metadata": {
            "tags": []
          },
          "execution_count": 18
        }
      ]
    },
    {
      "cell_type": "markdown",
      "metadata": {
        "id": "liotAp7QfC5d",
        "colab_type": "text"
      },
      "source": [
        "#STRING"
      ]
    },
    {
      "cell_type": "code",
      "metadata": {
        "id": "bhQ14vRfetOP",
        "colab_type": "code",
        "colab": {}
      },
      "source": [
        "s='hello my name is j3'"
      ],
      "execution_count": 19,
      "outputs": []
    },
    {
      "cell_type": "code",
      "metadata": {
        "id": "r7TEwXAefLLW",
        "colab_type": "code",
        "colab": {
          "base_uri": "https://localhost:8080/",
          "height": 35
        },
        "outputId": "0646a012-3696-41c9-dbd4-6bddb40885a3"
      },
      "source": [
        "s.upper()"
      ],
      "execution_count": 20,
      "outputs": [
        {
          "output_type": "execute_result",
          "data": {
            "application/vnd.google.colaboratory.intrinsic+json": {
              "type": "string"
            },
            "text/plain": [
              "'HELLO MY NAME IS J3'"
            ]
          },
          "metadata": {
            "tags": []
          },
          "execution_count": 20
        }
      ]
    },
    {
      "cell_type": "code",
      "metadata": {
        "id": "nAIorZMyfeYE",
        "colab_type": "code",
        "colab": {
          "base_uri": "https://localhost:8080/",
          "height": 35
        },
        "outputId": "b2c29e85-6382-4c6c-e6d3-8fd0a8c0c229"
      },
      "source": [
        "s.lower()"
      ],
      "execution_count": 21,
      "outputs": [
        {
          "output_type": "execute_result",
          "data": {
            "application/vnd.google.colaboratory.intrinsic+json": {
              "type": "string"
            },
            "text/plain": [
              "'hello my name is j3'"
            ]
          },
          "metadata": {
            "tags": []
          },
          "execution_count": 21
        }
      ]
    },
    {
      "cell_type": "code",
      "metadata": {
        "id": "AqCO5O3Tf7HC",
        "colab_type": "code",
        "colab": {}
      },
      "source": [
        "my_string_list=s.split()"
      ],
      "execution_count": 22,
      "outputs": []
    },
    {
      "cell_type": "code",
      "metadata": {
        "id": "mPj7qEAkf_xH",
        "colab_type": "code",
        "colab": {
          "base_uri": "https://localhost:8080/",
          "height": 34
        },
        "outputId": "afaee749-76f8-4434-aff7-bba744303ebc"
      },
      "source": [
        "my_string_list"
      ],
      "execution_count": 23,
      "outputs": [
        {
          "output_type": "execute_result",
          "data": {
            "text/plain": [
              "['hello', 'my', 'name', 'is', 'j3']"
            ]
          },
          "metadata": {
            "tags": []
          },
          "execution_count": 23
        }
      ]
    },
    {
      "cell_type": "code",
      "metadata": {
        "id": "CC_mIpm0gNV7",
        "colab_type": "code",
        "colab": {}
      },
      "source": [
        "tweet=\"Go Sports!#Sports\""
      ],
      "execution_count": 24,
      "outputs": []
    },
    {
      "cell_type": "code",
      "metadata": {
        "id": "iZmkZw-BgUSj",
        "colab_type": "code",
        "colab": {
          "base_uri": "https://localhost:8080/",
          "height": 34
        },
        "outputId": "dc52ccfb-aae3-4962-ba13-a600e73190ab"
      },
      "source": [
        "tweet.split('#')"
      ],
      "execution_count": 25,
      "outputs": [
        {
          "output_type": "execute_result",
          "data": {
            "text/plain": [
              "['Go Sports!', 'Sports']"
            ]
          },
          "metadata": {
            "tags": []
          },
          "execution_count": 25
        }
      ]
    },
    {
      "cell_type": "code",
      "metadata": {
        "id": "17wlYR0NgXUj",
        "colab_type": "code",
        "colab": {
          "base_uri": "https://localhost:8080/",
          "height": 35
        },
        "outputId": "e53a732f-6130-4298-e411-ddfe697b5e4f"
      },
      "source": [
        "tweet.split('#')[0]"
      ],
      "execution_count": 26,
      "outputs": [
        {
          "output_type": "execute_result",
          "data": {
            "application/vnd.google.colaboratory.intrinsic+json": {
              "type": "string"
            },
            "text/plain": [
              "'Go Sports!'"
            ]
          },
          "metadata": {
            "tags": []
          },
          "execution_count": 26
        }
      ]
    },
    {
      "cell_type": "code",
      "metadata": {
        "id": "HITqmT-7gb1u",
        "colab_type": "code",
        "colab": {
          "base_uri": "https://localhost:8080/",
          "height": 35
        },
        "outputId": "96cec18b-921e-41a5-a117-b1ad8190e94a"
      },
      "source": [
        "tweet.split('#')[1]"
      ],
      "execution_count": 27,
      "outputs": [
        {
          "output_type": "execute_result",
          "data": {
            "application/vnd.google.colaboratory.intrinsic+json": {
              "type": "string"
            },
            "text/plain": [
              "'Sports'"
            ]
          },
          "metadata": {
            "tags": []
          },
          "execution_count": 27
        }
      ]
    },
    {
      "cell_type": "code",
      "metadata": {
        "id": "it9X4yRlim2Q",
        "colab_type": "code",
        "colab": {}
      },
      "source": [
        "# Number of time the word 'dog' occurs in the string\n",
        "def countDog(phrase):\n",
        "  count=0\n",
        "  for word in phrase.lower().split():\n",
        "    if word=='dog':\n",
        "      count+=1\n",
        "  return count"
      ],
      "execution_count": 28,
      "outputs": []
    },
    {
      "cell_type": "code",
      "metadata": {
        "id": "Itfle0PYjSqd",
        "colab_type": "code",
        "colab": {
          "base_uri": "https://localhost:8080/",
          "height": 34
        },
        "outputId": "0dfc327a-472f-4e3d-8cef-0d3ca0382e45"
      },
      "source": [
        "countDog('This dog runs faster than the other dog dude!')"
      ],
      "execution_count": 29,
      "outputs": [
        {
          "output_type": "execute_result",
          "data": {
            "text/plain": [
              "2"
            ]
          },
          "metadata": {
            "tags": []
          },
          "execution_count": 29
        }
      ]
    },
    {
      "cell_type": "markdown",
      "metadata": {
        "id": "wfPDraADgirf",
        "colab_type": "text"
      },
      "source": [
        "#DICTIONARY"
      ]
    },
    {
      "cell_type": "code",
      "metadata": {
        "id": "2R3tP12uggFb",
        "colab_type": "code",
        "colab": {}
      },
      "source": [
        "d={'key1':1, 'key2':2}"
      ],
      "execution_count": 30,
      "outputs": []
    },
    {
      "cell_type": "code",
      "metadata": {
        "id": "eQS-V-YMguFA",
        "colab_type": "code",
        "colab": {
          "base_uri": "https://localhost:8080/",
          "height": 34
        },
        "outputId": "a05d1111-e4c5-45d5-aa88-102b498b9b17"
      },
      "source": [
        "d.keys()"
      ],
      "execution_count": 31,
      "outputs": [
        {
          "output_type": "execute_result",
          "data": {
            "text/plain": [
              "dict_keys(['key1', 'key2'])"
            ]
          },
          "metadata": {
            "tags": []
          },
          "execution_count": 31
        }
      ]
    },
    {
      "cell_type": "code",
      "metadata": {
        "id": "TJgnG3z5gxDx",
        "colab_type": "code",
        "colab": {
          "base_uri": "https://localhost:8080/",
          "height": 34
        },
        "outputId": "0bacfd78-fcf4-4e2d-bc8e-1e62d091659c"
      },
      "source": [
        "d.items()"
      ],
      "execution_count": 32,
      "outputs": [
        {
          "output_type": "execute_result",
          "data": {
            "text/plain": [
              "dict_items([('key1', 1), ('key2', 2)])"
            ]
          },
          "metadata": {
            "tags": []
          },
          "execution_count": 32
        }
      ]
    },
    {
      "cell_type": "code",
      "metadata": {
        "id": "prV1Cn7rg0Qg",
        "colab_type": "code",
        "colab": {
          "base_uri": "https://localhost:8080/",
          "height": 34
        },
        "outputId": "bbf70d99-42a6-404b-b0ee-01ccc4d2f3a4"
      },
      "source": [
        "d.values()"
      ],
      "execution_count": 33,
      "outputs": [
        {
          "output_type": "execute_result",
          "data": {
            "text/plain": [
              "dict_values([1, 2])"
            ]
          },
          "metadata": {
            "tags": []
          },
          "execution_count": 33
        }
      ]
    },
    {
      "cell_type": "markdown",
      "metadata": {
        "id": "wDGrhrP7g7JP",
        "colab_type": "text"
      },
      "source": [
        "#LIST"
      ]
    },
    {
      "cell_type": "code",
      "metadata": {
        "id": "Z9f8EXyEg3Ud",
        "colab_type": "code",
        "colab": {}
      },
      "source": [
        "lst=[1,2,3]"
      ],
      "execution_count": 34,
      "outputs": []
    },
    {
      "cell_type": "code",
      "metadata": {
        "id": "hMcUu_U-hAFw",
        "colab_type": "code",
        "colab": {}
      },
      "source": [
        "item=lst.pop()"
      ],
      "execution_count": 35,
      "outputs": []
    },
    {
      "cell_type": "code",
      "metadata": {
        "id": "OAhkB35shEvd",
        "colab_type": "code",
        "colab": {
          "base_uri": "https://localhost:8080/",
          "height": 34
        },
        "outputId": "503185ad-1d83-41ec-9338-ed382e6033fe"
      },
      "source": [
        "item"
      ],
      "execution_count": 36,
      "outputs": [
        {
          "output_type": "execute_result",
          "data": {
            "text/plain": [
              "3"
            ]
          },
          "metadata": {
            "tags": []
          },
          "execution_count": 36
        }
      ]
    },
    {
      "cell_type": "code",
      "metadata": {
        "id": "FF7Tdgt0hFa-",
        "colab_type": "code",
        "colab": {
          "base_uri": "https://localhost:8080/",
          "height": 34
        },
        "outputId": "09e2bd21-201e-44cd-d6a8-a84504dd4af7"
      },
      "source": [
        "lst"
      ],
      "execution_count": 37,
      "outputs": [
        {
          "output_type": "execute_result",
          "data": {
            "text/plain": [
              "[1, 2]"
            ]
          },
          "metadata": {
            "tags": []
          },
          "execution_count": 37
        }
      ]
    },
    {
      "cell_type": "code",
      "metadata": {
        "id": "ZZ0IUYUJhGs-",
        "colab_type": "code",
        "colab": {}
      },
      "source": [
        "lst.append(3)"
      ],
      "execution_count": 38,
      "outputs": []
    },
    {
      "cell_type": "code",
      "metadata": {
        "id": "ZfgYJz9NhNEE",
        "colab_type": "code",
        "colab": {
          "base_uri": "https://localhost:8080/",
          "height": 34
        },
        "outputId": "fa5bb47d-5f94-4686-c5b3-5255b8171306"
      },
      "source": [
        "lst"
      ],
      "execution_count": 39,
      "outputs": [
        {
          "output_type": "execute_result",
          "data": {
            "text/plain": [
              "[1, 2, 3]"
            ]
          },
          "metadata": {
            "tags": []
          },
          "execution_count": 39
        }
      ]
    },
    {
      "cell_type": "markdown",
      "metadata": {
        "id": "SFltB0-QhQBD",
        "colab_type": "text"
      },
      "source": [
        "#IN word"
      ]
    },
    {
      "cell_type": "code",
      "metadata": {
        "id": "bXdquWg_hN0K",
        "colab_type": "code",
        "colab": {
          "base_uri": "https://localhost:8080/",
          "height": 34
        },
        "outputId": "16c7cd64-3b17-427b-a70c-7b2212e2c6e2"
      },
      "source": [
        "'x'in['x','y', 'z']"
      ],
      "execution_count": 40,
      "outputs": [
        {
          "output_type": "execute_result",
          "data": {
            "text/plain": [
              "True"
            ]
          },
          "metadata": {
            "tags": []
          },
          "execution_count": 40
        }
      ]
    },
    {
      "cell_type": "code",
      "metadata": {
        "id": "qUv9V4O6haJd",
        "colab_type": "code",
        "colab": {
          "base_uri": "https://localhost:8080/",
          "height": 34
        },
        "outputId": "2bfb420b-187c-48c2-af85-3087dfd851a8"
      },
      "source": [
        "'w'in['x', 'y', 'z']"
      ],
      "execution_count": 41,
      "outputs": [
        {
          "output_type": "execute_result",
          "data": {
            "text/plain": [
              "False"
            ]
          },
          "metadata": {
            "tags": []
          },
          "execution_count": 41
        }
      ]
    },
    {
      "cell_type": "markdown",
      "metadata": {
        "id": "QwQxBl_ehueq",
        "colab_type": "text"
      },
      "source": [
        "#TUPLE UNPACKING\n",
        "Python tuples are immutable means that they can not be modified in whole program\n",
        "\n",
        "**Packing and Unpacking a Tuple** : In Python there is a very powerful tuple assignment feature that assigns right hand side of values into left hand side. In other way it is called unpacking of a tuple of values into a variable. In packing, we put values into a new tuple while in unpacking we extract those values into a single variable."
      ]
    },
    {
      "cell_type": "code",
      "metadata": {
        "id": "OyTBuF5phi4x",
        "colab_type": "code",
        "colab": {}
      },
      "source": [
        "x=[(1,2),(3,4),(5,6)]"
      ],
      "execution_count": 42,
      "outputs": []
    },
    {
      "cell_type": "code",
      "metadata": {
        "id": "AMs_dxRFh48I",
        "colab_type": "code",
        "colab": {
          "base_uri": "https://localhost:8080/",
          "height": 34
        },
        "outputId": "f4cc10f5-6775-4970-d71c-50a51d17a506"
      },
      "source": [
        "x[0][0]"
      ],
      "execution_count": 43,
      "outputs": [
        {
          "output_type": "execute_result",
          "data": {
            "text/plain": [
              "1"
            ]
          },
          "metadata": {
            "tags": []
          },
          "execution_count": 43
        }
      ]
    },
    {
      "cell_type": "code",
      "metadata": {
        "id": "PD2F3TKKh7tm",
        "colab_type": "code",
        "colab": {
          "base_uri": "https://localhost:8080/",
          "height": 34
        },
        "outputId": "43eeba0d-5762-4ca5-dcdf-57222a21826b"
      },
      "source": [
        "x[0][1]\n"
      ],
      "execution_count": 44,
      "outputs": [
        {
          "output_type": "execute_result",
          "data": {
            "text/plain": [
              "2"
            ]
          },
          "metadata": {
            "tags": []
          },
          "execution_count": 44
        }
      ]
    },
    {
      "cell_type": "code",
      "metadata": {
        "id": "oZBtPUs0iCHy",
        "colab_type": "code",
        "colab": {
          "base_uri": "https://localhost:8080/",
          "height": 68
        },
        "outputId": "6bda1e01-e9cf-479b-a4f1-242d9b92e985"
      },
      "source": [
        "for item in x:\n",
        "  print(item)"
      ],
      "execution_count": 45,
      "outputs": [
        {
          "output_type": "stream",
          "text": [
            "(1, 2)\n",
            "(3, 4)\n",
            "(5, 6)\n"
          ],
          "name": "stdout"
        }
      ]
    },
    {
      "cell_type": "code",
      "metadata": {
        "id": "PHarNy5xiHdt",
        "colab_type": "code",
        "colab": {
          "base_uri": "https://localhost:8080/",
          "height": 68
        },
        "outputId": "cdd6ea36-c6af-4c34-e53b-2555959e50b5"
      },
      "source": [
        "for (a,b) in x:\n",
        "  print(a)"
      ],
      "execution_count": 46,
      "outputs": [
        {
          "output_type": "stream",
          "text": [
            "1\n",
            "3\n",
            "5\n"
          ],
          "name": "stdout"
        }
      ]
    },
    {
      "cell_type": "code",
      "metadata": {
        "id": "Yu2838fLiL6h",
        "colab_type": "code",
        "colab": {
          "base_uri": "https://localhost:8080/",
          "height": 68
        },
        "outputId": "3418fd11-687f-4af8-f235-d8883928d95f"
      },
      "source": [
        "for a,b in x:\n",
        "  print(a+1, b+1)"
      ],
      "execution_count": 47,
      "outputs": [
        {
          "output_type": "stream",
          "text": [
            "2 3\n",
            "4 5\n",
            "6 7\n"
          ],
          "name": "stdout"
        }
      ]
    },
    {
      "cell_type": "code",
      "metadata": {
        "id": "h2ceakAdiY35",
        "colab_type": "code",
        "colab": {}
      },
      "source": [
        ""
      ],
      "execution_count": 47,
      "outputs": []
    },
    {
      "cell_type": "markdown",
      "metadata": {
        "id": "HURG_zbAkliL",
        "colab_type": "text"
      },
      "source": [
        "#NUMPY"
      ]
    },
    {
      "cell_type": "markdown",
      "metadata": {
        "id": "2GpjtHklkpe6",
        "colab_type": "text"
      },
      "source": [
        "The reason it is so important for Data Science with Python is that alost all the libraries in the Python Ecosystem rely on NUMPY as one ot their main building blocks (Jose Portilla - Python For Data Sceince course)"
      ]
    },
    {
      "cell_type": "code",
      "metadata": {
        "id": "QdeOIfzZkn8x",
        "colab_type": "code",
        "colab": {}
      },
      "source": [
        ""
      ],
      "execution_count": 47,
      "outputs": []
    },
    {
      "cell_type": "markdown",
      "metadata": {
        "id": "x6kZwqW_lN49",
        "colab_type": "text"
      },
      "source": [
        "NUMPY is also incredibly fastm as it has binding to C labraries.\n",
        "###Installation: \n",
        "**conda install numpy** (Anaconda) \n",
        "or \n",
        "**pip install numpy**"
      ]
    },
    {
      "cell_type": "markdown",
      "metadata": {
        "id": "BRLdZ7Lnl4MN",
        "colab_type": "text"
      },
      "source": [
        "#ARRAYS (Vectors & Matrices) in NUMPY  -> cast a list into numpy array"
      ]
    },
    {
      "cell_type": "code",
      "metadata": {
        "id": "6kaEdXe4lZeI",
        "colab_type": "code",
        "colab": {}
      },
      "source": [
        "#Vectors\n",
        "my_list=[1,2,3]"
      ],
      "execution_count": 48,
      "outputs": []
    },
    {
      "cell_type": "code",
      "metadata": {
        "id": "_MQt4fKpmT4d",
        "colab_type": "code",
        "colab": {}
      },
      "source": [
        "import numpy as np \n",
        "vec=np.array(my_list)"
      ],
      "execution_count": 49,
      "outputs": []
    },
    {
      "cell_type": "code",
      "metadata": {
        "id": "3j2mAWGAmbIM",
        "colab_type": "code",
        "colab": {
          "base_uri": "https://localhost:8080/",
          "height": 34
        },
        "outputId": "55caec4e-c9d2-461c-dbda-f2c5f5da607f"
      },
      "source": [
        "# 1 bracket mean 1-dimensional array ([])\n",
        "vec"
      ],
      "execution_count": 50,
      "outputs": [
        {
          "output_type": "execute_result",
          "data": {
            "text/plain": [
              "array([1, 2, 3])"
            ]
          },
          "metadata": {
            "tags": []
          },
          "execution_count": 50
        }
      ]
    },
    {
      "cell_type": "code",
      "metadata": {
        "id": "XwdBtergmhjH",
        "colab_type": "code",
        "colab": {}
      },
      "source": [
        "my_mat=[[1,2,3],[4,5,6],[7,8,9]]"
      ],
      "execution_count": 51,
      "outputs": []
    },
    {
      "cell_type": "code",
      "metadata": {
        "id": "DZLoPrEImqMb",
        "colab_type": "code",
        "colab": {}
      },
      "source": [
        "import numpy as np"
      ],
      "execution_count": 52,
      "outputs": []
    },
    {
      "cell_type": "code",
      "metadata": {
        "id": "ivxJkZixmy0U",
        "colab_type": "code",
        "colab": {}
      },
      "source": [
        "mat=np.array(my_mat)"
      ],
      "execution_count": 53,
      "outputs": []
    },
    {
      "cell_type": "code",
      "metadata": {
        "id": "4hJJR8Pxm3Ny",
        "colab_type": "code",
        "colab": {
          "base_uri": "https://localhost:8080/",
          "height": 68
        },
        "outputId": "be478514-3401-41a2-c54e-18c8305da7c0"
      },
      "source": [
        "# 2 brackets mean 2-dimensional array ([[]])\n",
        "mat"
      ],
      "execution_count": 54,
      "outputs": [
        {
          "output_type": "execute_result",
          "data": {
            "text/plain": [
              "array([[1, 2, 3],\n",
              "       [4, 5, 6],\n",
              "       [7, 8, 9]])"
            ]
          },
          "metadata": {
            "tags": []
          },
          "execution_count": 54
        }
      ]
    },
    {
      "cell_type": "markdown",
      "metadata": {
        "id": "H8-hsatI2x8O",
        "colab_type": "text"
      },
      "source": [
        "#ARANGE in NUMPY"
      ]
    },
    {
      "cell_type": "code",
      "metadata": {
        "id": "KX-NZ8qSp4Yg",
        "colab_type": "code",
        "colab": {
          "base_uri": "https://localhost:8080/",
          "height": 34
        },
        "outputId": "e35ce215-7b54-4279-ed7a-de4178b5efd6"
      },
      "source": [
        "# All the way up to 10, but not including 10 -> return aN NUMPY ARRAY sequence of 10 digits counting from 0 to 10\n",
        "np.arange(0,10)"
      ],
      "execution_count": 55,
      "outputs": [
        {
          "output_type": "execute_result",
          "data": {
            "text/plain": [
              "array([0, 1, 2, 3, 4, 5, 6, 7, 8, 9])"
            ]
          },
          "metadata": {
            "tags": []
          },
          "execution_count": 55
        }
      ]
    },
    {
      "cell_type": "code",
      "metadata": {
        "id": "j3ecsP-3qGK6",
        "colab_type": "code",
        "colab": {
          "base_uri": "https://localhost:8080/",
          "height": 34
        },
        "outputId": "a2b2bc38-d64c-4c5d-cc6a-a990fc1e4e2b"
      },
      "source": [
        "# Third argument: step size you may want\n",
        "np.arange(0,10,2)"
      ],
      "execution_count": 56,
      "outputs": [
        {
          "output_type": "execute_result",
          "data": {
            "text/plain": [
              "array([0, 2, 4, 6, 8])"
            ]
          },
          "metadata": {
            "tags": []
          },
          "execution_count": 56
        }
      ]
    },
    {
      "cell_type": "markdown",
      "metadata": {
        "id": "4RElaTVrq6Mh",
        "colab_type": "text"
      },
      "source": [
        "#ZEROES & ONES & EYE(Identity matrix) in NUMPY\n",
        "\n",
        "---\n",
        "\n"
      ]
    },
    {
      "cell_type": "code",
      "metadata": {
        "id": "sK3dKrPWqwoE",
        "colab_type": "code",
        "colab": {
          "base_uri": "https://localhost:8080/",
          "height": 34
        },
        "outputId": "d7f6ad0c-1a5d-4c66-bbaa-08976f958d95"
      },
      "source": [
        "np.zeros(3)"
      ],
      "execution_count": 57,
      "outputs": [
        {
          "output_type": "execute_result",
          "data": {
            "text/plain": [
              "array([0., 0., 0.])"
            ]
          },
          "metadata": {
            "tags": []
          },
          "execution_count": 57
        }
      ]
    },
    {
      "cell_type": "code",
      "metadata": {
        "id": "HVzmZxhwrA6P",
        "colab_type": "code",
        "colab": {
          "base_uri": "https://localhost:8080/",
          "height": 102
        },
        "outputId": "eaf7962a-6dab-4253-a536-7755cab651f8"
      },
      "source": [
        "np.zeros((5,5))"
      ],
      "execution_count": 58,
      "outputs": [
        {
          "output_type": "execute_result",
          "data": {
            "text/plain": [
              "array([[0., 0., 0., 0., 0.],\n",
              "       [0., 0., 0., 0., 0.],\n",
              "       [0., 0., 0., 0., 0.],\n",
              "       [0., 0., 0., 0., 0.],\n",
              "       [0., 0., 0., 0., 0.]])"
            ]
          },
          "metadata": {
            "tags": []
          },
          "execution_count": 58
        }
      ]
    },
    {
      "cell_type": "code",
      "metadata": {
        "id": "cRGa46i6rE6O",
        "colab_type": "code",
        "colab": {
          "base_uri": "https://localhost:8080/",
          "height": 34
        },
        "outputId": "566fea50-5b34-4e52-deb5-78bb1bfe1f5b"
      },
      "source": [
        "np.ones(4)"
      ],
      "execution_count": 59,
      "outputs": [
        {
          "output_type": "execute_result",
          "data": {
            "text/plain": [
              "array([1., 1., 1., 1.])"
            ]
          },
          "metadata": {
            "tags": []
          },
          "execution_count": 59
        }
      ]
    },
    {
      "cell_type": "code",
      "metadata": {
        "id": "sW_YJKlKrU1z",
        "colab_type": "code",
        "colab": {
          "base_uri": "https://localhost:8080/",
          "height": 102
        },
        "outputId": "758bfc27-f52d-417c-fb6f-9b645d1b380b"
      },
      "source": [
        "np.ones((5,5))"
      ],
      "execution_count": 60,
      "outputs": [
        {
          "output_type": "execute_result",
          "data": {
            "text/plain": [
              "array([[1., 1., 1., 1., 1.],\n",
              "       [1., 1., 1., 1., 1.],\n",
              "       [1., 1., 1., 1., 1.],\n",
              "       [1., 1., 1., 1., 1.],\n",
              "       [1., 1., 1., 1., 1.]])"
            ]
          },
          "metadata": {
            "tags": []
          },
          "execution_count": 60
        }
      ]
    },
    {
      "cell_type": "code",
      "metadata": {
        "id": "-GcYiWmUrXiE",
        "colab_type": "code",
        "colab": {
          "base_uri": "https://localhost:8080/",
          "height": 85
        },
        "outputId": "bccc14e8-e75c-49a2-acdf-93a05085ac21"
      },
      "source": [
        "# IDENTITY MATRIX\n",
        "np.eye(4)"
      ],
      "execution_count": 61,
      "outputs": [
        {
          "output_type": "execute_result",
          "data": {
            "text/plain": [
              "array([[1., 0., 0., 0.],\n",
              "       [0., 1., 0., 0.],\n",
              "       [0., 0., 1., 0.],\n",
              "       [0., 0., 0., 1.]])"
            ]
          },
          "metadata": {
            "tags": []
          },
          "execution_count": 61
        }
      ]
    },
    {
      "cell_type": "markdown",
      "metadata": {
        "id": "15X6fu3Br2pA",
        "colab_type": "text"
      },
      "source": [
        "#LINSPACE (SPACED EVENLY) in NUMPY"
      ]
    },
    {
      "cell_type": "code",
      "metadata": {
        "id": "3CXe9iA1rlFD",
        "colab_type": "code",
        "colab": {
          "base_uri": "https://localhost:8080/",
          "height": 51
        },
        "outputId": "e264c08b-0ccc-4d80-caf3-e798b2c43056"
      },
      "source": [
        "# From 0, to 5 returning 10 digits spaced evenly\n",
        "np.linspace(0,5,10)"
      ],
      "execution_count": 62,
      "outputs": [
        {
          "output_type": "execute_result",
          "data": {
            "text/plain": [
              "array([0.        , 0.55555556, 1.11111111, 1.66666667, 2.22222222,\n",
              "       2.77777778, 3.33333333, 3.88888889, 4.44444444, 5.        ])"
            ]
          },
          "metadata": {
            "tags": []
          },
          "execution_count": 62
        }
      ]
    },
    {
      "cell_type": "markdown",
      "metadata": {
        "id": "ffpKbmMLsY9f",
        "colab_type": "text"
      },
      "source": [
        "PLEASE **DON'T CONFUSE** linspace **WITH** arange:\n",
        "\n",
        "\n",
        "**arange**: will take in the third argument as the **STEPS SIZE** (you want)\n",
        "\n",
        "**linspace**: will take in the third argument as the **NUMBER OF POINTS**(evenly separeted)\n"
      ]
    },
    {
      "cell_type": "markdown",
      "metadata": {
        "id": "6FuLnS5Mtb_5",
        "colab_type": "text"
      },
      "source": [
        "#RANDOM NUMBER in NUMPY"
      ]
    },
    {
      "cell_type": "code",
      "metadata": {
        "id": "-h2WZWvLtiX5",
        "colab_type": "code",
        "colab": {
          "base_uri": "https://localhost:8080/",
          "height": 34
        },
        "outputId": "b7ce4363-b685-4b92-eddc-3ee56d8658f1"
      },
      "source": [
        "# RAND differs from ARANGE because RAND returns random numbers and ARANGE return a sequence of them\n",
        "np.random.rand(5)"
      ],
      "execution_count": 63,
      "outputs": [
        {
          "output_type": "execute_result",
          "data": {
            "text/plain": [
              "array([0.08930558, 0.21911281, 0.20612461, 0.51468239, 0.11276573])"
            ]
          },
          "metadata": {
            "tags": []
          },
          "execution_count": 63
        }
      ]
    },
    {
      "cell_type": "code",
      "metadata": {
        "id": "-XXHfUTotndT",
        "colab_type": "code",
        "colab": {
          "base_uri": "https://localhost:8080/",
          "height": 34
        },
        "outputId": "7e8ae2a2-2381-427a-9d34-c272f69bb458"
      },
      "source": [
        "# n means Normal Distribution (return values around the Mean in gaussian distribution)\n",
        "np.random.randn(2)"
      ],
      "execution_count": 64,
      "outputs": [
        {
          "output_type": "execute_result",
          "data": {
            "text/plain": [
              "array([0.44034175, 1.1805967 ])"
            ]
          },
          "metadata": {
            "tags": []
          },
          "execution_count": 64
        }
      ]
    },
    {
      "cell_type": "code",
      "metadata": {
        "id": "uq-1ZS94uKSr",
        "colab_type": "code",
        "colab": {
          "base_uri": "https://localhost:8080/",
          "height": 34
        },
        "outputId": "61853baa-8ba1-4bdd-d35a-2dbed86eb3af"
      },
      "source": [
        "# Without the third parameter, it will return one digit from 1(included) to 100(not included)\n",
        "np.random.randint(1,100)"
      ],
      "execution_count": 65,
      "outputs": [
        {
          "output_type": "execute_result",
          "data": {
            "text/plain": [
              "84"
            ]
          },
          "metadata": {
            "tags": []
          },
          "execution_count": 65
        }
      ]
    },
    {
      "cell_type": "code",
      "metadata": {
        "id": "EBlKxe-Uuodt",
        "colab_type": "code",
        "colab": {
          "base_uri": "https://localhost:8080/",
          "height": 34
        },
        "outputId": "2b2328dc-1440-4a8b-da61-cd50e6c393ff"
      },
      "source": [
        "# The third parameter specifuy the digits you want to return\n",
        "np.random.randint(1,100,10)"
      ],
      "execution_count": 66,
      "outputs": [
        {
          "output_type": "execute_result",
          "data": {
            "text/plain": [
              "array([25, 60, 41, 48, 76, 99, 86, 62, 74, 86])"
            ]
          },
          "metadata": {
            "tags": []
          },
          "execution_count": 66
        }
      ]
    },
    {
      "cell_type": "markdown",
      "metadata": {
        "id": "8XFoNZCNvZLk",
        "colab_type": "text"
      },
      "source": [
        "Difference between **ARANGE** and **RANDINT**:\n",
        "\n",
        "**ARANGE**: returns **sequence** of digits\n",
        "\n",
        "**RANDINT**: returns **randonly** selected digits"
      ]
    },
    {
      "cell_type": "code",
      "metadata": {
        "id": "yKmG7xzSu0zh",
        "colab_type": "code",
        "colab": {}
      },
      "source": [
        "arr=np.arange(25)"
      ],
      "execution_count": 67,
      "outputs": []
    },
    {
      "cell_type": "code",
      "metadata": {
        "id": "bONsEc41wDK1",
        "colab_type": "code",
        "colab": {
          "base_uri": "https://localhost:8080/",
          "height": 51
        },
        "outputId": "97841ec7-1604-45b5-90d2-571f62caa260"
      },
      "source": [
        "arr"
      ],
      "execution_count": 68,
      "outputs": [
        {
          "output_type": "execute_result",
          "data": {
            "text/plain": [
              "array([ 0,  1,  2,  3,  4,  5,  6,  7,  8,  9, 10, 11, 12, 13, 14, 15, 16,\n",
              "       17, 18, 19, 20, 21, 22, 23, 24])"
            ]
          },
          "metadata": {
            "tags": []
          },
          "execution_count": 68
        }
      ]
    },
    {
      "cell_type": "code",
      "metadata": {
        "id": "fynN1YNLwG-C",
        "colab_type": "code",
        "colab": {}
      },
      "source": [
        "randarr=np.random.randint(0,50,10)"
      ],
      "execution_count": 69,
      "outputs": []
    },
    {
      "cell_type": "code",
      "metadata": {
        "id": "2hpX7b5qwPNI",
        "colab_type": "code",
        "colab": {
          "base_uri": "https://localhost:8080/",
          "height": 34
        },
        "outputId": "c4bc5a9b-cb50-4d99-89a1-16c1761fedcb"
      },
      "source": [
        "randarr"
      ],
      "execution_count": 70,
      "outputs": [
        {
          "output_type": "execute_result",
          "data": {
            "text/plain": [
              "array([ 2, 11, 26, 19, 13, 37, 35, 36, 18, 24])"
            ]
          },
          "metadata": {
            "tags": []
          },
          "execution_count": 70
        }
      ]
    },
    {
      "cell_type": "code",
      "metadata": {
        "id": "w0m3YMHlwQ0P",
        "colab_type": "code",
        "colab": {}
      },
      "source": [
        ""
      ],
      "execution_count": 70,
      "outputs": []
    },
    {
      "cell_type": "markdown",
      "metadata": {
        "id": "R7f7XNGHwVPy",
        "colab_type": "text"
      },
      "source": [
        "#RESHAPE in NUMPY"
      ]
    },
    {
      "cell_type": "code",
      "metadata": {
        "id": "LE0KIfVdweFh",
        "colab_type": "code",
        "colab": {}
      },
      "source": [
        "# Get the and numpy array and reshape it as you want; here reshaping arr(1_dimentional) as a matrix of 5x5 (2_dimentional)\n",
        "reshapped_arr=arr.reshape(5,5)"
      ],
      "execution_count": 71,
      "outputs": []
    },
    {
      "cell_type": "code",
      "metadata": {
        "id": "_J4qeffGxN91",
        "colab_type": "code",
        "colab": {
          "base_uri": "https://localhost:8080/",
          "height": 102
        },
        "outputId": "d9ce80a2-5877-400b-c8de-9014081ef297"
      },
      "source": [
        "reshapped_arr"
      ],
      "execution_count": 72,
      "outputs": [
        {
          "output_type": "execute_result",
          "data": {
            "text/plain": [
              "array([[ 0,  1,  2,  3,  4],\n",
              "       [ 5,  6,  7,  8,  9],\n",
              "       [10, 11, 12, 13, 14],\n",
              "       [15, 16, 17, 18, 19],\n",
              "       [20, 21, 22, 23, 24]])"
            ]
          },
          "metadata": {
            "tags": []
          },
          "execution_count": 72
        }
      ]
    },
    {
      "cell_type": "markdown",
      "metadata": {
        "id": "nEi55v7Cxcrl",
        "colab_type": "text"
      },
      "source": [
        "#MAX & MIN in NUMPY "
      ]
    },
    {
      "cell_type": "code",
      "metadata": {
        "id": "tBrgCy7lxt9Z",
        "colab_type": "code",
        "colab": {
          "base_uri": "https://localhost:8080/",
          "height": 34
        },
        "outputId": "fadf9367-f81d-4489-b974-368aa4503469"
      },
      "source": [
        "reshapped_arr.min()"
      ],
      "execution_count": 73,
      "outputs": [
        {
          "output_type": "execute_result",
          "data": {
            "text/plain": [
              "0"
            ]
          },
          "metadata": {
            "tags": []
          },
          "execution_count": 73
        }
      ]
    },
    {
      "cell_type": "code",
      "metadata": {
        "id": "62Y-dZXhx3no",
        "colab_type": "code",
        "colab": {
          "base_uri": "https://localhost:8080/",
          "height": 34
        },
        "outputId": "9f3ba0b9-2419-4bf1-b5f9-1bcea5bad4b5"
      },
      "source": [
        "reshapped_arr.max()"
      ],
      "execution_count": 74,
      "outputs": [
        {
          "output_type": "execute_result",
          "data": {
            "text/plain": [
              "24"
            ]
          },
          "metadata": {
            "tags": []
          },
          "execution_count": 74
        }
      ]
    },
    {
      "cell_type": "markdown",
      "metadata": {
        "id": "ytb18Ru6x-N2",
        "colab_type": "text"
      },
      "source": [
        "#ATTRIBUTES SHAPE & DTYPE in NUMPY \n",
        "(there are **no Parentheses** cuz this is attributes:)\n"
      ]
    },
    {
      "cell_type": "code",
      "metadata": {
        "id": "ytj101iOx7nF",
        "colab_type": "code",
        "colab": {
          "base_uri": "https://localhost:8080/",
          "height": 34
        },
        "outputId": "398cea64-0bcd-49cd-a92f-b163a3c34bab"
      },
      "source": [
        "reshapped_arr.shape"
      ],
      "execution_count": 75,
      "outputs": [
        {
          "output_type": "execute_result",
          "data": {
            "text/plain": [
              "(5, 5)"
            ]
          },
          "metadata": {
            "tags": []
          },
          "execution_count": 75
        }
      ]
    },
    {
      "cell_type": "code",
      "metadata": {
        "id": "NnhiKfRXyLlz",
        "colab_type": "code",
        "colab": {
          "base_uri": "https://localhost:8080/",
          "height": 34
        },
        "outputId": "7d3d56c1-72b2-4470-e637-9d5a91734ad8"
      },
      "source": [
        "reshapped_arr.dtype"
      ],
      "execution_count": 76,
      "outputs": [
        {
          "output_type": "execute_result",
          "data": {
            "text/plain": [
              "dtype('int64')"
            ]
          },
          "metadata": {
            "tags": []
          },
          "execution_count": 76
        }
      ]
    },
    {
      "cell_type": "code",
      "metadata": {
        "id": "Wl8LmsttyOcn",
        "colab_type": "code",
        "colab": {}
      },
      "source": [
        "from numpy.random import randint"
      ],
      "execution_count": 77,
      "outputs": []
    },
    {
      "cell_type": "code",
      "metadata": {
        "id": "DRy8kPLSzB2H",
        "colab_type": "code",
        "colab": {
          "base_uri": "https://localhost:8080/",
          "height": 34
        },
        "outputId": "6d96189d-3b8d-4ec6-b797-5beb3aec0ba7"
      },
      "source": [
        "# TODO [PAGE LINK GOES HERE!]\n",
        "print(\"Thank you for reading this page! Please favorite it, IF YOU LIKE:)\")"
      ],
      "execution_count": 78,
      "outputs": [
        {
          "output_type": "stream",
          "text": [
            "Thank you for reading this page! Please favorite it, IF YOU LIKE:)\n"
          ],
          "name": "stdout"
        }
      ]
    }
  ]
}