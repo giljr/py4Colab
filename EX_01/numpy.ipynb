{
  "nbformat": 4,
  "nbformat_minor": 0,
  "metadata": {
    "colab": {
      "name": "numpy.ipynb",
      "provenance": [],
      "collapsed_sections": [
        "x6kZwqW_lN49"
      ],
      "authorship_tag": "ABX9TyNnMfM8u3Iu5Eo0JSpLTldG",
      "include_colab_link": true
    },
    "kernelspec": {
      "name": "python3",
      "display_name": "Python 3"
    }
  },
  "cells": [
    {
      "cell_type": "markdown",
      "metadata": {
        "id": "view-in-github",
        "colab_type": "text"
      },
      "source": [
        "<a href=\"https://colab.research.google.com/github/giljr/py4Colab/blob/master/EX_01/numpy.ipynb\" target=\"_parent\"><img src=\"https://colab.research.google.com/assets/colab-badge.svg\" alt=\"Open In Colab\"/></a>"
      ]
    },
    {
      "cell_type": "markdown",
      "metadata": {
        "id": "wqaCBGcqVB6W",
        "colab_type": "text"
      },
      "source": [
        "#PYTHON REVIEW\n",
        "\n",
        "###Functions:\n"
      ]
    },
    {
      "cell_type": "code",
      "metadata": {
        "id": "CqKudv0kTBcD",
        "colab_type": "code",
        "colab": {}
      },
      "source": [
        "#Python Functions\n",
        "def times2(var):\n",
        "  return var*2\n"
      ],
      "execution_count": 1,
      "outputs": []
    },
    {
      "cell_type": "code",
      "metadata": {
        "id": "6Bdx2LmTTas1",
        "colab_type": "code",
        "colab": {
          "base_uri": "https://localhost:8080/",
          "height": 34
        },
        "outputId": "cd087864-c589-41ad-eb5d-9e0fd8180f2f"
      },
      "source": [
        "times2(5)"
      ],
      "execution_count": 2,
      "outputs": [
        {
          "output_type": "execute_result",
          "data": {
            "text/plain": [
              "10"
            ]
          },
          "metadata": {
            "tags": []
          },
          "execution_count": 2
        }
      ]
    },
    {
      "cell_type": "code",
      "metadata": {
        "id": "lXItYtwCTg0I",
        "colab_type": "code",
        "colab": {}
      },
      "source": [
        "def square(num):\n",
        "  '''\n",
        "  THIS IS A DOCSTRING,\n",
        "  CAN GO MULTIPLY LINES\n",
        "  THIS FUNCTION SQUARES A NUMBER\n",
        "  '''\n",
        "  return num**2"
      ],
      "execution_count": 3,
      "outputs": []
    },
    {
      "cell_type": "code",
      "metadata": {
        "id": "FmXHH5rdT4M2",
        "colab_type": "code",
        "colab": {}
      },
      "source": [
        "# Hit Shift-Tab to bring up the signature and docstring of the class\n",
        "output = square(2)"
      ],
      "execution_count": 4,
      "outputs": []
    },
    {
      "cell_type": "code",
      "metadata": {
        "id": "UJp4my6gT-vu",
        "colab_type": "code",
        "colab": {
          "base_uri": "https://localhost:8080/",
          "height": 34
        },
        "outputId": "ded4dd7e-e09c-410c-f224-a91e5b68d29d"
      },
      "source": [
        "output"
      ],
      "execution_count": 5,
      "outputs": [
        {
          "output_type": "execute_result",
          "data": {
            "text/plain": [
              "4"
            ]
          },
          "metadata": {
            "tags": []
          },
          "execution_count": 5
        }
      ]
    },
    {
      "cell_type": "markdown",
      "metadata": {
        "id": "SlZZe8bEVgMk",
        "colab_type": "text"
      },
      "source": [
        "#MAP"
      ]
    },
    {
      "cell_type": "code",
      "metadata": {
        "id": "KgGTgs52UCGi",
        "colab_type": "code",
        "colab": {}
      },
      "source": [
        "seq=[1,2,3,4,5]"
      ],
      "execution_count": 6,
      "outputs": []
    },
    {
      "cell_type": "code",
      "metadata": {
        "id": "hTrrv7E6VoWI",
        "colab_type": "code",
        "colab": {
          "base_uri": "https://localhost:8080/",
          "height": 34
        },
        "outputId": "c5663581-1e30-4025-8766-609301ddf09e"
      },
      "source": [
        "list(map(times2, seq))"
      ],
      "execution_count": 7,
      "outputs": [
        {
          "output_type": "execute_result",
          "data": {
            "text/plain": [
              "[2, 4, 6, 8, 10]"
            ]
          },
          "metadata": {
            "tags": []
          },
          "execution_count": 7
        }
      ]
    },
    {
      "cell_type": "markdown",
      "metadata": {
        "id": "jx9CDHYFV2Nt",
        "colab_type": "text"
      },
      "source": [
        "#LAMBDA"
      ]
    },
    {
      "cell_type": "code",
      "metadata": {
        "id": "IamzT2-2V53g",
        "colab_type": "code",
        "colab": {}
      },
      "source": [
        "#def times2(var):return var*2"
      ],
      "execution_count": 8,
      "outputs": []
    },
    {
      "cell_type": "code",
      "metadata": {
        "id": "tXFLEw6LdFJi",
        "colab_type": "code",
        "colab": {
          "base_uri": "https://localhost:8080/",
          "height": 34
        },
        "outputId": "571e2c4e-b2b3-4880-9649-96e59b89f6b4"
      },
      "source": [
        "# To get a lambda expression just to get rid of the name of the function, cuz lambda is an anonymous function:\n",
        "lambda var:var*2"
      ],
      "execution_count": 9,
      "outputs": [
        {
          "output_type": "execute_result",
          "data": {
            "text/plain": [
              "<function __main__.<lambda>>"
            ]
          },
          "metadata": {
            "tags": []
          },
          "execution_count": 9
        }
      ]
    },
    {
      "cell_type": "code",
      "metadata": {
        "id": "6PIY5iVddK83",
        "colab_type": "code",
        "colab": {}
      },
      "source": [
        "\n",
        "# Not usual, but feasible:)\n",
        "t=lambda var:var*2"
      ],
      "execution_count": 10,
      "outputs": []
    },
    {
      "cell_type": "code",
      "metadata": {
        "id": "rYqyuS4rdPvH",
        "colab_type": "code",
        "colab": {
          "base_uri": "https://localhost:8080/",
          "height": 34
        },
        "outputId": "e03fc452-25f6-4540-fd3f-016b373fd4e0"
      },
      "source": [
        "t(5)"
      ],
      "execution_count": 11,
      "outputs": [
        {
          "output_type": "execute_result",
          "data": {
            "text/plain": [
              "10"
            ]
          },
          "metadata": {
            "tags": []
          },
          "execution_count": 11
        }
      ]
    },
    {
      "cell_type": "code",
      "metadata": {
        "id": "zmzLaqDUdRh8",
        "colab_type": "code",
        "colab": {
          "base_uri": "https://localhost:8080/",
          "height": 34
        },
        "outputId": "3b82a067-bee1-4d57-facf-18cee196beb8"
      },
      "source": [
        "# Using Map function plus Lambda function (what it is build for!)\n",
        "map(lambda var:var*2, seq)"
      ],
      "execution_count": 12,
      "outputs": [
        {
          "output_type": "execute_result",
          "data": {
            "text/plain": [
              "<map at 0x7f6bba51ecf8>"
            ]
          },
          "metadata": {
            "tags": []
          },
          "execution_count": 12
        }
      ]
    },
    {
      "cell_type": "code",
      "metadata": {
        "id": "dJdDTuXfdzCb",
        "colab_type": "code",
        "colab": {
          "base_uri": "https://localhost:8080/",
          "height": 34
        },
        "outputId": "7ae557d6-4056-4e0b-e83e-8d9c46706c39"
      },
      "source": [
        "# Casting Map to a List\n",
        "list(map(lambda var:var*2, seq))"
      ],
      "execution_count": 13,
      "outputs": [
        {
          "output_type": "execute_result",
          "data": {
            "text/plain": [
              "[2, 4, 6, 8, 10]"
            ]
          },
          "metadata": {
            "tags": []
          },
          "execution_count": 13
        }
      ]
    },
    {
      "cell_type": "markdown",
      "metadata": {
        "id": "1jNvqZ9HeQEU",
        "colab_type": "text"
      },
      "source": [
        "#FILTER"
      ]
    },
    {
      "cell_type": "code",
      "metadata": {
        "id": "U_uBmhVpeFsE",
        "colab_type": "code",
        "colab": {
          "base_uri": "https://localhost:8080/",
          "height": 34
        },
        "outputId": "1385b257-1643-4851-dfe7-47621d60c45f"
      },
      "source": [
        "filter(lambda var:var%2==0, seq)"
      ],
      "execution_count": 14,
      "outputs": [
        {
          "output_type": "execute_result",
          "data": {
            "text/plain": [
              "<filter at 0x7f6bba51ee48>"
            ]
          },
          "metadata": {
            "tags": []
          },
          "execution_count": 14
        }
      ]
    },
    {
      "cell_type": "code",
      "metadata": {
        "id": "uAt-SkSIekRN",
        "colab_type": "code",
        "colab": {
          "base_uri": "https://localhost:8080/",
          "height": 34
        },
        "outputId": "77f17e28-5572-42d9-d4f0-3b05811ca4a1"
      },
      "source": [
        "# Filters out the even number from seq list casted to a list\n",
        "list(filter(lambda var:var%2==0, seq))\n",
        "\n"
      ],
      "execution_count": 15,
      "outputs": [
        {
          "output_type": "execute_result",
          "data": {
            "text/plain": [
              "[2, 4]"
            ]
          },
          "metadata": {
            "tags": []
          },
          "execution_count": 15
        }
      ]
    },
    {
      "cell_type": "code",
      "metadata": {
        "id": "6RVDtduejpDy",
        "colab_type": "code",
        "colab": {}
      },
      "source": [
        "seq=['soup','dog','salad','cat','greed']"
      ],
      "execution_count": 16,
      "outputs": []
    },
    {
      "cell_type": "code",
      "metadata": {
        "id": "UsVsLbifj3xu",
        "colab_type": "code",
        "colab": {
          "base_uri": "https://localhost:8080/",
          "height": 34
        },
        "outputId": "37176814-df2f-44f7-c910-67e6729b9cb8"
      },
      "source": [
        "# Filters out 's' init words using lambda expression\n",
        "filter(lambda word:word[0]=='s', seq)"
      ],
      "execution_count": 17,
      "outputs": [
        {
          "output_type": "execute_result",
          "data": {
            "text/plain": [
              "<filter at 0x7f6bb9ca6358>"
            ]
          },
          "metadata": {
            "tags": []
          },
          "execution_count": 17
        }
      ]
    },
    {
      "cell_type": "code",
      "metadata": {
        "id": "IbdpmkZ0kG9b",
        "colab_type": "code",
        "colab": {
          "base_uri": "https://localhost:8080/",
          "height": 34
        },
        "outputId": "2b681e3b-400b-4cf7-a453-62d800231767"
      },
      "source": [
        "list(filter(lambda word:word[0]=='s', seq))"
      ],
      "execution_count": 18,
      "outputs": [
        {
          "output_type": "execute_result",
          "data": {
            "text/plain": [
              "['soup', 'salad']"
            ]
          },
          "metadata": {
            "tags": []
          },
          "execution_count": 18
        }
      ]
    },
    {
      "cell_type": "markdown",
      "metadata": {
        "id": "liotAp7QfC5d",
        "colab_type": "text"
      },
      "source": [
        "#STRING"
      ]
    },
    {
      "cell_type": "code",
      "metadata": {
        "id": "bhQ14vRfetOP",
        "colab_type": "code",
        "colab": {}
      },
      "source": [
        "s='hello my name is j3'"
      ],
      "execution_count": 19,
      "outputs": []
    },
    {
      "cell_type": "code",
      "metadata": {
        "id": "r7TEwXAefLLW",
        "colab_type": "code",
        "colab": {
          "base_uri": "https://localhost:8080/",
          "height": 35
        },
        "outputId": "ad12470c-6842-4cf7-d3b7-f663a02c289f"
      },
      "source": [
        "s.upper()"
      ],
      "execution_count": 20,
      "outputs": [
        {
          "output_type": "execute_result",
          "data": {
            "application/vnd.google.colaboratory.intrinsic+json": {
              "type": "string"
            },
            "text/plain": [
              "'HELLO MY NAME IS J3'"
            ]
          },
          "metadata": {
            "tags": []
          },
          "execution_count": 20
        }
      ]
    },
    {
      "cell_type": "code",
      "metadata": {
        "id": "nAIorZMyfeYE",
        "colab_type": "code",
        "colab": {
          "base_uri": "https://localhost:8080/",
          "height": 35
        },
        "outputId": "384e1985-15f3-4657-a70d-d5b256d98739"
      },
      "source": [
        "s.lower()"
      ],
      "execution_count": 21,
      "outputs": [
        {
          "output_type": "execute_result",
          "data": {
            "application/vnd.google.colaboratory.intrinsic+json": {
              "type": "string"
            },
            "text/plain": [
              "'hello my name is j3'"
            ]
          },
          "metadata": {
            "tags": []
          },
          "execution_count": 21
        }
      ]
    },
    {
      "cell_type": "code",
      "metadata": {
        "id": "AqCO5O3Tf7HC",
        "colab_type": "code",
        "colab": {}
      },
      "source": [
        "my_string_list=s.split()"
      ],
      "execution_count": 22,
      "outputs": []
    },
    {
      "cell_type": "code",
      "metadata": {
        "id": "mPj7qEAkf_xH",
        "colab_type": "code",
        "colab": {
          "base_uri": "https://localhost:8080/",
          "height": 34
        },
        "outputId": "f609e8e1-fb5c-455e-d1e1-0b8df5dfb2a7"
      },
      "source": [
        "my_string_list"
      ],
      "execution_count": 23,
      "outputs": [
        {
          "output_type": "execute_result",
          "data": {
            "text/plain": [
              "['hello', 'my', 'name', 'is', 'j3']"
            ]
          },
          "metadata": {
            "tags": []
          },
          "execution_count": 23
        }
      ]
    },
    {
      "cell_type": "code",
      "metadata": {
        "id": "CC_mIpm0gNV7",
        "colab_type": "code",
        "colab": {}
      },
      "source": [
        "tweet=\"Go Sports!#Sports\""
      ],
      "execution_count": 24,
      "outputs": []
    },
    {
      "cell_type": "code",
      "metadata": {
        "id": "iZmkZw-BgUSj",
        "colab_type": "code",
        "colab": {
          "base_uri": "https://localhost:8080/",
          "height": 34
        },
        "outputId": "bc229597-6dc9-4f70-e656-e60868afe9a5"
      },
      "source": [
        "tweet.split('#')"
      ],
      "execution_count": 25,
      "outputs": [
        {
          "output_type": "execute_result",
          "data": {
            "text/plain": [
              "['Go Sports!', 'Sports']"
            ]
          },
          "metadata": {
            "tags": []
          },
          "execution_count": 25
        }
      ]
    },
    {
      "cell_type": "code",
      "metadata": {
        "id": "17wlYR0NgXUj",
        "colab_type": "code",
        "colab": {
          "base_uri": "https://localhost:8080/",
          "height": 35
        },
        "outputId": "b6466210-7524-43bd-acc0-900723a82163"
      },
      "source": [
        "tweet.split('#')[0]"
      ],
      "execution_count": 26,
      "outputs": [
        {
          "output_type": "execute_result",
          "data": {
            "application/vnd.google.colaboratory.intrinsic+json": {
              "type": "string"
            },
            "text/plain": [
              "'Go Sports!'"
            ]
          },
          "metadata": {
            "tags": []
          },
          "execution_count": 26
        }
      ]
    },
    {
      "cell_type": "code",
      "metadata": {
        "id": "HITqmT-7gb1u",
        "colab_type": "code",
        "colab": {
          "base_uri": "https://localhost:8080/",
          "height": 35
        },
        "outputId": "3fab5367-977b-48ab-ce14-ae7477108c27"
      },
      "source": [
        "tweet.split('#')[1]"
      ],
      "execution_count": 27,
      "outputs": [
        {
          "output_type": "execute_result",
          "data": {
            "application/vnd.google.colaboratory.intrinsic+json": {
              "type": "string"
            },
            "text/plain": [
              "'Sports'"
            ]
          },
          "metadata": {
            "tags": []
          },
          "execution_count": 27
        }
      ]
    },
    {
      "cell_type": "code",
      "metadata": {
        "id": "it9X4yRlim2Q",
        "colab_type": "code",
        "colab": {}
      },
      "source": [
        "# Number of time the word 'dog' occurs in the string\n",
        "def countDog(phrase):\n",
        "  count=0\n",
        "  for word in phrase.lower().split():\n",
        "    if word=='dog':\n",
        "      count+=1\n",
        "  return count"
      ],
      "execution_count": 28,
      "outputs": []
    },
    {
      "cell_type": "code",
      "metadata": {
        "id": "Itfle0PYjSqd",
        "colab_type": "code",
        "colab": {
          "base_uri": "https://localhost:8080/",
          "height": 34
        },
        "outputId": "6f113403-492e-4303-9e22-9417b05fdcfa"
      },
      "source": [
        "countDog('This dog runs faster than the other dog dude!')"
      ],
      "execution_count": 29,
      "outputs": [
        {
          "output_type": "execute_result",
          "data": {
            "text/plain": [
              "2"
            ]
          },
          "metadata": {
            "tags": []
          },
          "execution_count": 29
        }
      ]
    },
    {
      "cell_type": "markdown",
      "metadata": {
        "id": "wfPDraADgirf",
        "colab_type": "text"
      },
      "source": [
        "#DICTIONARY"
      ]
    },
    {
      "cell_type": "code",
      "metadata": {
        "id": "2R3tP12uggFb",
        "colab_type": "code",
        "colab": {}
      },
      "source": [
        "d={'key1':1, 'key2':2}"
      ],
      "execution_count": 30,
      "outputs": []
    },
    {
      "cell_type": "code",
      "metadata": {
        "id": "eQS-V-YMguFA",
        "colab_type": "code",
        "colab": {
          "base_uri": "https://localhost:8080/",
          "height": 34
        },
        "outputId": "4aa53882-e0c8-44b7-ecda-86909bb1a196"
      },
      "source": [
        "d.keys()"
      ],
      "execution_count": 31,
      "outputs": [
        {
          "output_type": "execute_result",
          "data": {
            "text/plain": [
              "dict_keys(['key1', 'key2'])"
            ]
          },
          "metadata": {
            "tags": []
          },
          "execution_count": 31
        }
      ]
    },
    {
      "cell_type": "code",
      "metadata": {
        "id": "TJgnG3z5gxDx",
        "colab_type": "code",
        "colab": {
          "base_uri": "https://localhost:8080/",
          "height": 34
        },
        "outputId": "c775f2d9-d720-43fa-cca2-38ee49c0795b"
      },
      "source": [
        "d.items()"
      ],
      "execution_count": 32,
      "outputs": [
        {
          "output_type": "execute_result",
          "data": {
            "text/plain": [
              "dict_items([('key1', 1), ('key2', 2)])"
            ]
          },
          "metadata": {
            "tags": []
          },
          "execution_count": 32
        }
      ]
    },
    {
      "cell_type": "code",
      "metadata": {
        "id": "prV1Cn7rg0Qg",
        "colab_type": "code",
        "colab": {
          "base_uri": "https://localhost:8080/",
          "height": 34
        },
        "outputId": "a9a88821-df65-4f59-a554-8372a70b2125"
      },
      "source": [
        "d.values()"
      ],
      "execution_count": 33,
      "outputs": [
        {
          "output_type": "execute_result",
          "data": {
            "text/plain": [
              "dict_values([1, 2])"
            ]
          },
          "metadata": {
            "tags": []
          },
          "execution_count": 33
        }
      ]
    },
    {
      "cell_type": "markdown",
      "metadata": {
        "id": "wDGrhrP7g7JP",
        "colab_type": "text"
      },
      "source": [
        "#LIST"
      ]
    },
    {
      "cell_type": "code",
      "metadata": {
        "id": "Z9f8EXyEg3Ud",
        "colab_type": "code",
        "colab": {}
      },
      "source": [
        "lst=[1,2,3]"
      ],
      "execution_count": 34,
      "outputs": []
    },
    {
      "cell_type": "code",
      "metadata": {
        "id": "hMcUu_U-hAFw",
        "colab_type": "code",
        "colab": {}
      },
      "source": [
        "item=lst.pop()"
      ],
      "execution_count": 35,
      "outputs": []
    },
    {
      "cell_type": "code",
      "metadata": {
        "id": "OAhkB35shEvd",
        "colab_type": "code",
        "colab": {
          "base_uri": "https://localhost:8080/",
          "height": 34
        },
        "outputId": "ba3a68b3-920a-4743-efa0-9165ac087efa"
      },
      "source": [
        "item"
      ],
      "execution_count": 36,
      "outputs": [
        {
          "output_type": "execute_result",
          "data": {
            "text/plain": [
              "3"
            ]
          },
          "metadata": {
            "tags": []
          },
          "execution_count": 36
        }
      ]
    },
    {
      "cell_type": "code",
      "metadata": {
        "id": "FF7Tdgt0hFa-",
        "colab_type": "code",
        "colab": {
          "base_uri": "https://localhost:8080/",
          "height": 34
        },
        "outputId": "b42cbae4-9726-4813-bbf3-404169154df9"
      },
      "source": [
        "lst"
      ],
      "execution_count": 37,
      "outputs": [
        {
          "output_type": "execute_result",
          "data": {
            "text/plain": [
              "[1, 2]"
            ]
          },
          "metadata": {
            "tags": []
          },
          "execution_count": 37
        }
      ]
    },
    {
      "cell_type": "code",
      "metadata": {
        "id": "ZZ0IUYUJhGs-",
        "colab_type": "code",
        "colab": {}
      },
      "source": [
        "lst.append(3)"
      ],
      "execution_count": 38,
      "outputs": []
    },
    {
      "cell_type": "code",
      "metadata": {
        "id": "ZfgYJz9NhNEE",
        "colab_type": "code",
        "colab": {
          "base_uri": "https://localhost:8080/",
          "height": 34
        },
        "outputId": "44222fd8-02ad-49dc-c918-98157c3e9a80"
      },
      "source": [
        "lst"
      ],
      "execution_count": 39,
      "outputs": [
        {
          "output_type": "execute_result",
          "data": {
            "text/plain": [
              "[1, 2, 3]"
            ]
          },
          "metadata": {
            "tags": []
          },
          "execution_count": 39
        }
      ]
    },
    {
      "cell_type": "markdown",
      "metadata": {
        "id": "SFltB0-QhQBD",
        "colab_type": "text"
      },
      "source": [
        "#IN word"
      ]
    },
    {
      "cell_type": "code",
      "metadata": {
        "id": "bXdquWg_hN0K",
        "colab_type": "code",
        "colab": {
          "base_uri": "https://localhost:8080/",
          "height": 34
        },
        "outputId": "a28b6ece-ef63-4c19-c6d1-738cc9453b3f"
      },
      "source": [
        "'x'in['x','y', 'z']"
      ],
      "execution_count": 40,
      "outputs": [
        {
          "output_type": "execute_result",
          "data": {
            "text/plain": [
              "True"
            ]
          },
          "metadata": {
            "tags": []
          },
          "execution_count": 40
        }
      ]
    },
    {
      "cell_type": "code",
      "metadata": {
        "id": "qUv9V4O6haJd",
        "colab_type": "code",
        "colab": {
          "base_uri": "https://localhost:8080/",
          "height": 34
        },
        "outputId": "78640813-540d-4e6e-d4a8-69e087bbf68d"
      },
      "source": [
        "'w'in['x', 'y', 'z']"
      ],
      "execution_count": 41,
      "outputs": [
        {
          "output_type": "execute_result",
          "data": {
            "text/plain": [
              "False"
            ]
          },
          "metadata": {
            "tags": []
          },
          "execution_count": 41
        }
      ]
    },
    {
      "cell_type": "markdown",
      "metadata": {
        "id": "QwQxBl_ehueq",
        "colab_type": "text"
      },
      "source": [
        "#TUPLE UNPACKING\n",
        "Python tuples are immutable means that they can not be modified in the whole program.\n",
        "\n",
        "**Packing and Unpacking a Tuple:** In Python, there is a very powerful tuple assignment feature that assigns the right-hand side of values into the left-hand side. In another way, it is called the unpacking of a tuple of values into a variable. In packing, we put values into a new tuple while in unpacking we extract those values into a single variable.."
      ]
    },
    {
      "cell_type": "code",
      "metadata": {
        "id": "OyTBuF5phi4x",
        "colab_type": "code",
        "colab": {}
      },
      "source": [
        "x=[(1,2),(3,4),(5,6)]"
      ],
      "execution_count": 42,
      "outputs": []
    },
    {
      "cell_type": "code",
      "metadata": {
        "id": "AMs_dxRFh48I",
        "colab_type": "code",
        "colab": {
          "base_uri": "https://localhost:8080/",
          "height": 34
        },
        "outputId": "0f952df7-24ab-4f96-c839-ee0a6cdb1a53"
      },
      "source": [
        "x[0][0]"
      ],
      "execution_count": 43,
      "outputs": [
        {
          "output_type": "execute_result",
          "data": {
            "text/plain": [
              "1"
            ]
          },
          "metadata": {
            "tags": []
          },
          "execution_count": 43
        }
      ]
    },
    {
      "cell_type": "code",
      "metadata": {
        "id": "PD2F3TKKh7tm",
        "colab_type": "code",
        "colab": {
          "base_uri": "https://localhost:8080/",
          "height": 34
        },
        "outputId": "21505d51-ddf3-4999-a279-507af442bf8a"
      },
      "source": [
        "x[0][1]\n"
      ],
      "execution_count": 44,
      "outputs": [
        {
          "output_type": "execute_result",
          "data": {
            "text/plain": [
              "2"
            ]
          },
          "metadata": {
            "tags": []
          },
          "execution_count": 44
        }
      ]
    },
    {
      "cell_type": "code",
      "metadata": {
        "id": "oZBtPUs0iCHy",
        "colab_type": "code",
        "colab": {
          "base_uri": "https://localhost:8080/",
          "height": 68
        },
        "outputId": "246c0f19-be5b-49dd-dc9d-8f570ab06237"
      },
      "source": [
        "for item in x:\n",
        "  print(item)"
      ],
      "execution_count": 45,
      "outputs": [
        {
          "output_type": "stream",
          "text": [
            "(1, 2)\n",
            "(3, 4)\n",
            "(5, 6)\n"
          ],
          "name": "stdout"
        }
      ]
    },
    {
      "cell_type": "code",
      "metadata": {
        "id": "PHarNy5xiHdt",
        "colab_type": "code",
        "colab": {
          "base_uri": "https://localhost:8080/",
          "height": 68
        },
        "outputId": "4978a738-9aa7-4270-ebb1-468ef6e50031"
      },
      "source": [
        "for (a,b) in x:\n",
        "  print(a)"
      ],
      "execution_count": 46,
      "outputs": [
        {
          "output_type": "stream",
          "text": [
            "1\n",
            "3\n",
            "5\n"
          ],
          "name": "stdout"
        }
      ]
    },
    {
      "cell_type": "code",
      "metadata": {
        "id": "Yu2838fLiL6h",
        "colab_type": "code",
        "colab": {
          "base_uri": "https://localhost:8080/",
          "height": 68
        },
        "outputId": "3d38a565-a316-4a36-d952-91cd9ee50474"
      },
      "source": [
        "for a,b in x:\n",
        "  print(a+1, b+1)"
      ],
      "execution_count": 47,
      "outputs": [
        {
          "output_type": "stream",
          "text": [
            "2 3\n",
            "4 5\n",
            "6 7\n"
          ],
          "name": "stdout"
        }
      ]
    },
    {
      "cell_type": "code",
      "metadata": {
        "id": "h2ceakAdiY35",
        "colab_type": "code",
        "colab": {}
      },
      "source": [
        ""
      ],
      "execution_count": 47,
      "outputs": []
    },
    {
      "cell_type": "markdown",
      "metadata": {
        "id": "HURG_zbAkliL",
        "colab_type": "text"
      },
      "source": [
        "#NUMPY"
      ]
    },
    {
      "cell_type": "markdown",
      "metadata": {
        "id": "2GpjtHklkpe6",
        "colab_type": "text"
      },
      "source": [
        "The reason it is so important for Data Science with Python is that a lost all the libraries in the Python Ecosystem rely on NUMPY as one of their main building blocks (Jose Portilla - Python For Data Science course)."
      ]
    },
    {
      "cell_type": "code",
      "metadata": {
        "id": "QdeOIfzZkn8x",
        "colab_type": "code",
        "colab": {}
      },
      "source": [
        ""
      ],
      "execution_count": 47,
      "outputs": []
    },
    {
      "cell_type": "markdown",
      "metadata": {
        "id": "x6kZwqW_lN49",
        "colab_type": "text"
      },
      "source": [
        "NUMPY is also incredibly fast as it has bound to C libraries\n",
        "###Installation: \n",
        "**conda install numpy** (Anaconda) \n",
        "or \n",
        "**pip install numpy**"
      ]
    },
    {
      "cell_type": "markdown",
      "metadata": {
        "id": "BRLdZ7Lnl4MN",
        "colab_type": "text"
      },
      "source": [
        "#ARRAYS (Vectors & Matrices) in NUMPY  -> cast a list into numpy array"
      ]
    },
    {
      "cell_type": "code",
      "metadata": {
        "id": "6kaEdXe4lZeI",
        "colab_type": "code",
        "colab": {}
      },
      "source": [
        "#Vectors\n",
        "my_list=[1,2,3]"
      ],
      "execution_count": 48,
      "outputs": []
    },
    {
      "cell_type": "code",
      "metadata": {
        "id": "_MQt4fKpmT4d",
        "colab_type": "code",
        "colab": {}
      },
      "source": [
        "import numpy as np \n",
        "vec=np.array(my_list)"
      ],
      "execution_count": 49,
      "outputs": []
    },
    {
      "cell_type": "code",
      "metadata": {
        "id": "3j2mAWGAmbIM",
        "colab_type": "code",
        "colab": {
          "base_uri": "https://localhost:8080/",
          "height": 34
        },
        "outputId": "142aaaeb-f2c0-484d-941e-69bdf3a66a4b"
      },
      "source": [
        "# 1 bracket mean 1-dimensional array ([])\n",
        "vec"
      ],
      "execution_count": 50,
      "outputs": [
        {
          "output_type": "execute_result",
          "data": {
            "text/plain": [
              "array([1, 2, 3])"
            ]
          },
          "metadata": {
            "tags": []
          },
          "execution_count": 50
        }
      ]
    },
    {
      "cell_type": "code",
      "metadata": {
        "id": "XwdBtergmhjH",
        "colab_type": "code",
        "colab": {}
      },
      "source": [
        "my_mat=[[1,2,3],[4,5,6],[7,8,9]]"
      ],
      "execution_count": 51,
      "outputs": []
    },
    {
      "cell_type": "code",
      "metadata": {
        "id": "DZLoPrEImqMb",
        "colab_type": "code",
        "colab": {}
      },
      "source": [
        "import numpy as np"
      ],
      "execution_count": 52,
      "outputs": []
    },
    {
      "cell_type": "code",
      "metadata": {
        "id": "ivxJkZixmy0U",
        "colab_type": "code",
        "colab": {}
      },
      "source": [
        "mat=np.array(my_mat)"
      ],
      "execution_count": 53,
      "outputs": []
    },
    {
      "cell_type": "code",
      "metadata": {
        "id": "4hJJR8Pxm3Ny",
        "colab_type": "code",
        "colab": {
          "base_uri": "https://localhost:8080/",
          "height": 68
        },
        "outputId": "bd212adf-1f4b-4e7c-c998-844073d6e19f"
      },
      "source": [
        "# 2 brackets mean 2-dimensional array ([[]])\n",
        "mat"
      ],
      "execution_count": 54,
      "outputs": [
        {
          "output_type": "execute_result",
          "data": {
            "text/plain": [
              "array([[1, 2, 3],\n",
              "       [4, 5, 6],\n",
              "       [7, 8, 9]])"
            ]
          },
          "metadata": {
            "tags": []
          },
          "execution_count": 54
        }
      ]
    },
    {
      "cell_type": "markdown",
      "metadata": {
        "id": "H8-hsatI2x8O",
        "colab_type": "text"
      },
      "source": [
        "#ARANGE in NUMPY"
      ]
    },
    {
      "cell_type": "code",
      "metadata": {
        "id": "KX-NZ8qSp4Yg",
        "colab_type": "code",
        "colab": {
          "base_uri": "https://localhost:8080/",
          "height": 34
        },
        "outputId": "024e4a94-02ee-45a7-bb87-471798c81ee4"
      },
      "source": [
        "# All the way up to 10, but not including 10 -> return aN NUMPY ARRAY sequence of 10 digits counting from 0 to 10\n",
        "np.arange(0,10)"
      ],
      "execution_count": 55,
      "outputs": [
        {
          "output_type": "execute_result",
          "data": {
            "text/plain": [
              "array([0, 1, 2, 3, 4, 5, 6, 7, 8, 9])"
            ]
          },
          "metadata": {
            "tags": []
          },
          "execution_count": 55
        }
      ]
    },
    {
      "cell_type": "code",
      "metadata": {
        "id": "j3ecsP-3qGK6",
        "colab_type": "code",
        "colab": {
          "base_uri": "https://localhost:8080/",
          "height": 34
        },
        "outputId": "7175f4c3-f0f1-4611-cb3c-0051a3e61330"
      },
      "source": [
        "# Third argument: step size you may want\n",
        "np.arange(0,10,2)"
      ],
      "execution_count": 56,
      "outputs": [
        {
          "output_type": "execute_result",
          "data": {
            "text/plain": [
              "array([0, 2, 4, 6, 8])"
            ]
          },
          "metadata": {
            "tags": []
          },
          "execution_count": 56
        }
      ]
    },
    {
      "cell_type": "markdown",
      "metadata": {
        "id": "4RElaTVrq6Mh",
        "colab_type": "text"
      },
      "source": [
        "#ZEROES & ONES & EYE(Identity matrix) in NUMPY\n",
        "\n",
        "---\n",
        "\n"
      ]
    },
    {
      "cell_type": "code",
      "metadata": {
        "id": "sK3dKrPWqwoE",
        "colab_type": "code",
        "colab": {
          "base_uri": "https://localhost:8080/",
          "height": 34
        },
        "outputId": "61055160-177a-42c7-d4e6-aa0e4ffa891c"
      },
      "source": [
        "np.zeros(3)"
      ],
      "execution_count": 57,
      "outputs": [
        {
          "output_type": "execute_result",
          "data": {
            "text/plain": [
              "array([0., 0., 0.])"
            ]
          },
          "metadata": {
            "tags": []
          },
          "execution_count": 57
        }
      ]
    },
    {
      "cell_type": "code",
      "metadata": {
        "id": "HVzmZxhwrA6P",
        "colab_type": "code",
        "colab": {
          "base_uri": "https://localhost:8080/",
          "height": 102
        },
        "outputId": "a64d4d56-5faa-4ec1-ca07-ec4f026ee86c"
      },
      "source": [
        "np.zeros((5,5))"
      ],
      "execution_count": 58,
      "outputs": [
        {
          "output_type": "execute_result",
          "data": {
            "text/plain": [
              "array([[0., 0., 0., 0., 0.],\n",
              "       [0., 0., 0., 0., 0.],\n",
              "       [0., 0., 0., 0., 0.],\n",
              "       [0., 0., 0., 0., 0.],\n",
              "       [0., 0., 0., 0., 0.]])"
            ]
          },
          "metadata": {
            "tags": []
          },
          "execution_count": 58
        }
      ]
    },
    {
      "cell_type": "code",
      "metadata": {
        "id": "cRGa46i6rE6O",
        "colab_type": "code",
        "colab": {
          "base_uri": "https://localhost:8080/",
          "height": 34
        },
        "outputId": "6dd28297-d350-4442-e3c1-0d0e38b4f648"
      },
      "source": [
        "np.ones(4)"
      ],
      "execution_count": 59,
      "outputs": [
        {
          "output_type": "execute_result",
          "data": {
            "text/plain": [
              "array([1., 1., 1., 1.])"
            ]
          },
          "metadata": {
            "tags": []
          },
          "execution_count": 59
        }
      ]
    },
    {
      "cell_type": "code",
      "metadata": {
        "id": "sW_YJKlKrU1z",
        "colab_type": "code",
        "colab": {
          "base_uri": "https://localhost:8080/",
          "height": 102
        },
        "outputId": "7d35aca2-6ce2-423b-99f6-4d6a59653ffb"
      },
      "source": [
        "np.ones((5,5))"
      ],
      "execution_count": 60,
      "outputs": [
        {
          "output_type": "execute_result",
          "data": {
            "text/plain": [
              "array([[1., 1., 1., 1., 1.],\n",
              "       [1., 1., 1., 1., 1.],\n",
              "       [1., 1., 1., 1., 1.],\n",
              "       [1., 1., 1., 1., 1.],\n",
              "       [1., 1., 1., 1., 1.]])"
            ]
          },
          "metadata": {
            "tags": []
          },
          "execution_count": 60
        }
      ]
    },
    {
      "cell_type": "code",
      "metadata": {
        "id": "-GcYiWmUrXiE",
        "colab_type": "code",
        "colab": {
          "base_uri": "https://localhost:8080/",
          "height": 85
        },
        "outputId": "9e9700aa-ce9b-4846-80a6-1049fa522269"
      },
      "source": [
        "# IDENTITY MATRIX\n",
        "np.eye(4)"
      ],
      "execution_count": 61,
      "outputs": [
        {
          "output_type": "execute_result",
          "data": {
            "text/plain": [
              "array([[1., 0., 0., 0.],\n",
              "       [0., 1., 0., 0.],\n",
              "       [0., 0., 1., 0.],\n",
              "       [0., 0., 0., 1.]])"
            ]
          },
          "metadata": {
            "tags": []
          },
          "execution_count": 61
        }
      ]
    },
    {
      "cell_type": "markdown",
      "metadata": {
        "id": "15X6fu3Br2pA",
        "colab_type": "text"
      },
      "source": [
        "#LINSPACE (SPACED EVENLY) in NUMPY"
      ]
    },
    {
      "cell_type": "code",
      "metadata": {
        "id": "3CXe9iA1rlFD",
        "colab_type": "code",
        "colab": {
          "base_uri": "https://localhost:8080/",
          "height": 51
        },
        "outputId": "f6d2cc48-4128-4d9c-fce6-ddfbdb08b3e5"
      },
      "source": [
        "# From 0, to 5 returning 10 digits spaced evenly\n",
        "np.linspace(0,5,10)"
      ],
      "execution_count": 62,
      "outputs": [
        {
          "output_type": "execute_result",
          "data": {
            "text/plain": [
              "array([0.        , 0.55555556, 1.11111111, 1.66666667, 2.22222222,\n",
              "       2.77777778, 3.33333333, 3.88888889, 4.44444444, 5.        ])"
            ]
          },
          "metadata": {
            "tags": []
          },
          "execution_count": 62
        }
      ]
    },
    {
      "cell_type": "markdown",
      "metadata": {
        "id": "ffpKbmMLsY9f",
        "colab_type": "text"
      },
      "source": [
        "PLEASE **DON'T CONFUSE** linspace **WITH** arange:\n",
        "\n",
        "\n",
        "**arange**: will take in the third argument as the **STEPS SIZE** (you want)\n",
        "\n",
        "**linspace**: will take in the third argument as the **NUMBER OF POINTS**(evenly separated)\n"
      ]
    },
    {
      "cell_type": "markdown",
      "metadata": {
        "id": "6FuLnS5Mtb_5",
        "colab_type": "text"
      },
      "source": [
        "#RANDOM NUMBER in NUMPY"
      ]
    },
    {
      "cell_type": "code",
      "metadata": {
        "id": "-h2WZWvLtiX5",
        "colab_type": "code",
        "colab": {
          "base_uri": "https://localhost:8080/",
          "height": 34
        },
        "outputId": "8a1d1ece-fad9-4c10-f95a-38e709f9da49"
      },
      "source": [
        "# RAND differs from ARANGE because RAND returns random numbers and ARANGE return a sequence of them\n",
        "np.random.rand(5)"
      ],
      "execution_count": 63,
      "outputs": [
        {
          "output_type": "execute_result",
          "data": {
            "text/plain": [
              "array([0.59166572, 0.86079721, 0.43573292, 0.86307567, 0.84922712])"
            ]
          },
          "metadata": {
            "tags": []
          },
          "execution_count": 63
        }
      ]
    },
    {
      "cell_type": "code",
      "metadata": {
        "id": "-XXHfUTotndT",
        "colab_type": "code",
        "colab": {
          "base_uri": "https://localhost:8080/",
          "height": 34
        },
        "outputId": "44627c07-fc43-44da-ed25-68af393d551f"
      },
      "source": [
        "# n means Normal Distribution (return values around the Mean in gaussian distribution)\n",
        "np.random.randn(2)"
      ],
      "execution_count": 64,
      "outputs": [
        {
          "output_type": "execute_result",
          "data": {
            "text/plain": [
              "array([-2.1337558 ,  0.78866782])"
            ]
          },
          "metadata": {
            "tags": []
          },
          "execution_count": 64
        }
      ]
    },
    {
      "cell_type": "code",
      "metadata": {
        "id": "uq-1ZS94uKSr",
        "colab_type": "code",
        "colab": {
          "base_uri": "https://localhost:8080/",
          "height": 34
        },
        "outputId": "89a8b423-1ce6-4bfc-dcfc-6b762e6c59c2"
      },
      "source": [
        "# Without the third parameter, it will return one digit from 1(included) to 100(not included)\n",
        "np.random.randint(1,100)"
      ],
      "execution_count": 65,
      "outputs": [
        {
          "output_type": "execute_result",
          "data": {
            "text/plain": [
              "12"
            ]
          },
          "metadata": {
            "tags": []
          },
          "execution_count": 65
        }
      ]
    },
    {
      "cell_type": "code",
      "metadata": {
        "id": "EBlKxe-Uuodt",
        "colab_type": "code",
        "colab": {
          "base_uri": "https://localhost:8080/",
          "height": 34
        },
        "outputId": "5d063a7e-7dae-4278-a37a-73c45ea358b3"
      },
      "source": [
        "# The third parameter specifuy the digits you want to return\n",
        "np.random.randint(1,100,10)"
      ],
      "execution_count": 66,
      "outputs": [
        {
          "output_type": "execute_result",
          "data": {
            "text/plain": [
              "array([53, 77, 42, 75, 24, 48, 59, 69, 80, 56])"
            ]
          },
          "metadata": {
            "tags": []
          },
          "execution_count": 66
        }
      ]
    },
    {
      "cell_type": "markdown",
      "metadata": {
        "id": "8XFoNZCNvZLk",
        "colab_type": "text"
      },
      "source": [
        "Difference between **ARANGE** and **RANDINT**:\n",
        "\n",
        "**ARANGE**: returns **sequence** of digits\n",
        "\n",
        "**RANDINT**: returns **randonly** selected digits"
      ]
    },
    {
      "cell_type": "code",
      "metadata": {
        "id": "yKmG7xzSu0zh",
        "colab_type": "code",
        "colab": {}
      },
      "source": [
        "arr=np.arange(25)"
      ],
      "execution_count": 67,
      "outputs": []
    },
    {
      "cell_type": "code",
      "metadata": {
        "id": "bONsEc41wDK1",
        "colab_type": "code",
        "colab": {
          "base_uri": "https://localhost:8080/",
          "height": 51
        },
        "outputId": "8835972a-eb22-4e59-cd4b-4357b2727498"
      },
      "source": [
        "arr"
      ],
      "execution_count": 68,
      "outputs": [
        {
          "output_type": "execute_result",
          "data": {
            "text/plain": [
              "array([ 0,  1,  2,  3,  4,  5,  6,  7,  8,  9, 10, 11, 12, 13, 14, 15, 16,\n",
              "       17, 18, 19, 20, 21, 22, 23, 24])"
            ]
          },
          "metadata": {
            "tags": []
          },
          "execution_count": 68
        }
      ]
    },
    {
      "cell_type": "code",
      "metadata": {
        "id": "fynN1YNLwG-C",
        "colab_type": "code",
        "colab": {}
      },
      "source": [
        "randarr=np.random.randint(0,50,10)"
      ],
      "execution_count": 69,
      "outputs": []
    },
    {
      "cell_type": "code",
      "metadata": {
        "id": "2hpX7b5qwPNI",
        "colab_type": "code",
        "colab": {
          "base_uri": "https://localhost:8080/",
          "height": 34
        },
        "outputId": "f5cb18c8-1747-4ffb-a300-b774e6a793d4"
      },
      "source": [
        "randarr"
      ],
      "execution_count": 70,
      "outputs": [
        {
          "output_type": "execute_result",
          "data": {
            "text/plain": [
              "array([21, 16, 44, 38,  3, 32, 16, 21, 49, 42])"
            ]
          },
          "metadata": {
            "tags": []
          },
          "execution_count": 70
        }
      ]
    },
    {
      "cell_type": "code",
      "metadata": {
        "id": "w0m3YMHlwQ0P",
        "colab_type": "code",
        "colab": {}
      },
      "source": [
        ""
      ],
      "execution_count": 70,
      "outputs": []
    },
    {
      "cell_type": "markdown",
      "metadata": {
        "id": "R7f7XNGHwVPy",
        "colab_type": "text"
      },
      "source": [
        "#RESHAPE in NUMPY"
      ]
    },
    {
      "cell_type": "code",
      "metadata": {
        "id": "LE0KIfVdweFh",
        "colab_type": "code",
        "colab": {}
      },
      "source": [
        "# Get the and numpy array and reshape it as you want; here reshaping arr(1_dimentional) as a matrix of 5x5 (2_dimentional)\n",
        "reshapped_arr=arr.reshape(5,5)"
      ],
      "execution_count": 71,
      "outputs": []
    },
    {
      "cell_type": "code",
      "metadata": {
        "id": "_J4qeffGxN91",
        "colab_type": "code",
        "colab": {
          "base_uri": "https://localhost:8080/",
          "height": 102
        },
        "outputId": "f076674d-bff6-44cb-f975-5af35f28cd49"
      },
      "source": [
        "reshapped_arr"
      ],
      "execution_count": 72,
      "outputs": [
        {
          "output_type": "execute_result",
          "data": {
            "text/plain": [
              "array([[ 0,  1,  2,  3,  4],\n",
              "       [ 5,  6,  7,  8,  9],\n",
              "       [10, 11, 12, 13, 14],\n",
              "       [15, 16, 17, 18, 19],\n",
              "       [20, 21, 22, 23, 24]])"
            ]
          },
          "metadata": {
            "tags": []
          },
          "execution_count": 72
        }
      ]
    },
    {
      "cell_type": "markdown",
      "metadata": {
        "id": "nEi55v7Cxcrl",
        "colab_type": "text"
      },
      "source": [
        "#MAX & MIN in NUMPY "
      ]
    },
    {
      "cell_type": "code",
      "metadata": {
        "id": "tBrgCy7lxt9Z",
        "colab_type": "code",
        "colab": {
          "base_uri": "https://localhost:8080/",
          "height": 34
        },
        "outputId": "0a4f652e-1ffa-4a56-d0ee-3aa85b5aa265"
      },
      "source": [
        "reshapped_arr.min()"
      ],
      "execution_count": 73,
      "outputs": [
        {
          "output_type": "execute_result",
          "data": {
            "text/plain": [
              "0"
            ]
          },
          "metadata": {
            "tags": []
          },
          "execution_count": 73
        }
      ]
    },
    {
      "cell_type": "code",
      "metadata": {
        "id": "62Y-dZXhx3no",
        "colab_type": "code",
        "colab": {
          "base_uri": "https://localhost:8080/",
          "height": 34
        },
        "outputId": "7bf98613-e611-4040-cd89-8dd23ad8c361"
      },
      "source": [
        "reshapped_arr.max()"
      ],
      "execution_count": 74,
      "outputs": [
        {
          "output_type": "execute_result",
          "data": {
            "text/plain": [
              "24"
            ]
          },
          "metadata": {
            "tags": []
          },
          "execution_count": 74
        }
      ]
    },
    {
      "cell_type": "markdown",
      "metadata": {
        "id": "ytb18Ru6x-N2",
        "colab_type": "text"
      },
      "source": [
        "#ATTRIBUTES SHAPE & DTYPE in NUMPY \n",
        "(there are **no Parentheses** cuz this is attributes:)\n"
      ]
    },
    {
      "cell_type": "code",
      "metadata": {
        "id": "ytj101iOx7nF",
        "colab_type": "code",
        "colab": {
          "base_uri": "https://localhost:8080/",
          "height": 34
        },
        "outputId": "912befc6-a943-47e5-d223-15e5441bfd6b"
      },
      "source": [
        "reshapped_arr.shape"
      ],
      "execution_count": 75,
      "outputs": [
        {
          "output_type": "execute_result",
          "data": {
            "text/plain": [
              "(5, 5)"
            ]
          },
          "metadata": {
            "tags": []
          },
          "execution_count": 75
        }
      ]
    },
    {
      "cell_type": "code",
      "metadata": {
        "id": "NnhiKfRXyLlz",
        "colab_type": "code",
        "colab": {
          "base_uri": "https://localhost:8080/",
          "height": 34
        },
        "outputId": "d5932476-fbaf-42d0-e4a6-11f8d68bcc36"
      },
      "source": [
        "reshapped_arr.dtype"
      ],
      "execution_count": 76,
      "outputs": [
        {
          "output_type": "execute_result",
          "data": {
            "text/plain": [
              "dtype('int64')"
            ]
          },
          "metadata": {
            "tags": []
          },
          "execution_count": 76
        }
      ]
    },
    {
      "cell_type": "code",
      "metadata": {
        "id": "Wl8LmsttyOcn",
        "colab_type": "code",
        "colab": {}
      },
      "source": [
        "from numpy.random import randint"
      ],
      "execution_count": 77,
      "outputs": []
    },
    {
      "cell_type": "code",
      "metadata": {
        "id": "DRy8kPLSzB2H",
        "colab_type": "code",
        "colab": {
          "base_uri": "https://localhost:8080/",
          "height": 34
        },
        "outputId": "2203ae40-38c8-4c74-ba96-e27b611d9966"
      },
      "source": [
        "# https://medium.com/jungletronics/numpy-init-python-review-f5362abbaaf9\n",
        "print(\"Thank you for reading this page! Please favorite it, IF YOU LIKE:)\")"
      ],
      "execution_count": 78,
      "outputs": [
        {
          "output_type": "stream",
          "text": [
            "Thank you for reading this page! Please favorite it, IF YOU LIKE:)\n"
          ],
          "name": "stdout"
        }
      ]
    }
  ]
}