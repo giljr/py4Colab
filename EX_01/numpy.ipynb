{
  "nbformat": 4,
  "nbformat_minor": 0,
  "metadata": {
    "colab": {
      "name": "numpy.ipynb",
      "provenance": [],
      "authorship_tag": "ABX9TyMUftSeWdRfR/YXMQqX/UVh",
      "include_colab_link": true
    },
    "kernelspec": {
      "name": "python3",
      "display_name": "Python 3"
    }
  },
  "cells": [
    {
      "cell_type": "markdown",
      "metadata": {
        "id": "view-in-github",
        "colab_type": "text"
      },
      "source": [
        "<a href=\"https://colab.research.google.com/github/giljr/py4Colab/blob/master/EX_01/numpy.ipynb\" target=\"_parent\"><img src=\"https://colab.research.google.com/assets/colab-badge.svg\" alt=\"Open In Colab\"/></a>"
      ]
    },
    {
      "cell_type": "markdown",
      "metadata": {
        "id": "wqaCBGcqVB6W",
        "colab_type": "text"
      },
      "source": [
        "#PYTHO REVIEW\n",
        "\n",
        "###Functions:\n"
      ]
    },
    {
      "cell_type": "code",
      "metadata": {
        "id": "CqKudv0kTBcD",
        "colab_type": "code",
        "colab": {}
      },
      "source": [
        "#Python Functions\n",
        "def times2(var):\n",
        "  return var*2\n"
      ],
      "execution_count": 195,
      "outputs": []
    },
    {
      "cell_type": "code",
      "metadata": {
        "id": "6Bdx2LmTTas1",
        "colab_type": "code",
        "colab": {
          "base_uri": "https://localhost:8080/",
          "height": 34
        },
        "outputId": "e4aa6221-908f-4085-f18a-8e9ddb295c1d"
      },
      "source": [
        "times2(5)"
      ],
      "execution_count": 196,
      "outputs": [
        {
          "output_type": "execute_result",
          "data": {
            "text/plain": [
              "10"
            ]
          },
          "metadata": {
            "tags": []
          },
          "execution_count": 196
        }
      ]
    },
    {
      "cell_type": "code",
      "metadata": {
        "id": "lXItYtwCTg0I",
        "colab_type": "code",
        "colab": {}
      },
      "source": [
        "def square(num):\n",
        "  '''\n",
        "  THIS IS A DOCSTRING,\n",
        "  CAN GO MULTIPLY LINES\n",
        "  THIS FUNCTION SQUARES A NUMBER\n",
        "  '''\n",
        "  return num**2"
      ],
      "execution_count": 197,
      "outputs": []
    },
    {
      "cell_type": "code",
      "metadata": {
        "id": "FmXHH5rdT4M2",
        "colab_type": "code",
        "colab": {}
      },
      "source": [
        "# Hit Shift-Tab to bring up the signature and docstring of the class\n",
        "output = square(2)"
      ],
      "execution_count": 198,
      "outputs": []
    },
    {
      "cell_type": "code",
      "metadata": {
        "id": "UJp4my6gT-vu",
        "colab_type": "code",
        "colab": {
          "base_uri": "https://localhost:8080/",
          "height": 34
        },
        "outputId": "98f8c9e7-8e3e-4d4c-c9a1-6782be47f2f7"
      },
      "source": [
        "output"
      ],
      "execution_count": 199,
      "outputs": [
        {
          "output_type": "execute_result",
          "data": {
            "text/plain": [
              "4"
            ]
          },
          "metadata": {
            "tags": []
          },
          "execution_count": 199
        }
      ]
    },
    {
      "cell_type": "markdown",
      "metadata": {
        "id": "SlZZe8bEVgMk",
        "colab_type": "text"
      },
      "source": [
        "#MAP"
      ]
    },
    {
      "cell_type": "code",
      "metadata": {
        "id": "KgGTgs52UCGi",
        "colab_type": "code",
        "colab": {}
      },
      "source": [
        "seq=[1,2,3,4,5]"
      ],
      "execution_count": 200,
      "outputs": []
    },
    {
      "cell_type": "code",
      "metadata": {
        "id": "hTrrv7E6VoWI",
        "colab_type": "code",
        "colab": {
          "base_uri": "https://localhost:8080/",
          "height": 34
        },
        "outputId": "86b9ccec-e0c5-4762-8381-d52794fc4288"
      },
      "source": [
        "list(map(times2, seq))"
      ],
      "execution_count": 201,
      "outputs": [
        {
          "output_type": "execute_result",
          "data": {
            "text/plain": [
              "[2, 4, 6, 8, 10]"
            ]
          },
          "metadata": {
            "tags": []
          },
          "execution_count": 201
        }
      ]
    },
    {
      "cell_type": "markdown",
      "metadata": {
        "id": "jx9CDHYFV2Nt",
        "colab_type": "text"
      },
      "source": [
        "#LAMBDA"
      ]
    },
    {
      "cell_type": "code",
      "metadata": {
        "id": "IamzT2-2V53g",
        "colab_type": "code",
        "colab": {}
      },
      "source": [
        "#def times2(var):return var*2"
      ],
      "execution_count": 202,
      "outputs": []
    },
    {
      "cell_type": "code",
      "metadata": {
        "id": "tXFLEw6LdFJi",
        "colab_type": "code",
        "colab": {
          "base_uri": "https://localhost:8080/",
          "height": 34
        },
        "outputId": "6659fc80-4e3f-4b3d-97b2-e85cb92309e6"
      },
      "source": [
        "# get rid of the name of the function, cuz lambda is annonimous function (read: lambda takes var and returns var*2)\n",
        "lambda var:var*2"
      ],
      "execution_count": 203,
      "outputs": [
        {
          "output_type": "execute_result",
          "data": {
            "text/plain": [
              "<function __main__.<lambda>>"
            ]
          },
          "metadata": {
            "tags": []
          },
          "execution_count": 203
        }
      ]
    },
    {
      "cell_type": "code",
      "metadata": {
        "id": "6PIY5iVddK83",
        "colab_type": "code",
        "colab": {}
      },
      "source": [
        "\n",
        "# Not usual, but feasible:)\n",
        "t=lambda var:var*2"
      ],
      "execution_count": 204,
      "outputs": []
    },
    {
      "cell_type": "code",
      "metadata": {
        "id": "rYqyuS4rdPvH",
        "colab_type": "code",
        "colab": {
          "base_uri": "https://localhost:8080/",
          "height": 34
        },
        "outputId": "d11361d1-1914-42c3-d0f5-ed9cf3adc039"
      },
      "source": [
        "t(5)"
      ],
      "execution_count": 205,
      "outputs": [
        {
          "output_type": "execute_result",
          "data": {
            "text/plain": [
              "10"
            ]
          },
          "metadata": {
            "tags": []
          },
          "execution_count": 205
        }
      ]
    },
    {
      "cell_type": "code",
      "metadata": {
        "id": "zmzLaqDUdRh8",
        "colab_type": "code",
        "colab": {
          "base_uri": "https://localhost:8080/",
          "height": 34
        },
        "outputId": "f6ff31b8-417e-43f5-f96e-7f32577838de"
      },
      "source": [
        "# Using Map function plus Lambda function (what it is build for!)\n",
        "map(lambda var:var*2, seq)"
      ],
      "execution_count": 206,
      "outputs": [
        {
          "output_type": "execute_result",
          "data": {
            "text/plain": [
              "<map at 0x7f03540d07f0>"
            ]
          },
          "metadata": {
            "tags": []
          },
          "execution_count": 206
        }
      ]
    },
    {
      "cell_type": "code",
      "metadata": {
        "id": "dJdDTuXfdzCb",
        "colab_type": "code",
        "colab": {
          "base_uri": "https://localhost:8080/",
          "height": 34
        },
        "outputId": "10e9b306-0fa8-4089-f761-fa163921ca47"
      },
      "source": [
        "# Casting Map to a List\n",
        "list(map(lambda var:var*2, seq))"
      ],
      "execution_count": 207,
      "outputs": [
        {
          "output_type": "execute_result",
          "data": {
            "text/plain": [
              "[2, 4, 6, 8, 10]"
            ]
          },
          "metadata": {
            "tags": []
          },
          "execution_count": 207
        }
      ]
    },
    {
      "cell_type": "markdown",
      "metadata": {
        "id": "1jNvqZ9HeQEU",
        "colab_type": "text"
      },
      "source": [
        "#FILTER"
      ]
    },
    {
      "cell_type": "code",
      "metadata": {
        "id": "U_uBmhVpeFsE",
        "colab_type": "code",
        "colab": {
          "base_uri": "https://localhost:8080/",
          "height": 34
        },
        "outputId": "9788ee10-8295-41d4-97fd-51eab9b52a92"
      },
      "source": [
        "filter(lambda var:var%2==0, seq)"
      ],
      "execution_count": 208,
      "outputs": [
        {
          "output_type": "execute_result",
          "data": {
            "text/plain": [
              "<filter at 0x7f03540d0cc0>"
            ]
          },
          "metadata": {
            "tags": []
          },
          "execution_count": 208
        }
      ]
    },
    {
      "cell_type": "code",
      "metadata": {
        "id": "uAt-SkSIekRN",
        "colab_type": "code",
        "colab": {
          "base_uri": "https://localhost:8080/",
          "height": 34
        },
        "outputId": "b950dbc6-9b41-4582-e433-b6c8968c9628"
      },
      "source": [
        "# Filters out the even number from seq list casted to a list\n",
        "list(filter(lambda var:var%2==0, seq))\n",
        "\n"
      ],
      "execution_count": 209,
      "outputs": [
        {
          "output_type": "execute_result",
          "data": {
            "text/plain": [
              "[2, 4]"
            ]
          },
          "metadata": {
            "tags": []
          },
          "execution_count": 209
        }
      ]
    },
    {
      "cell_type": "code",
      "metadata": {
        "id": "6RVDtduejpDy",
        "colab_type": "code",
        "colab": {}
      },
      "source": [
        "seq=['soup','dog','salad','cat','greed']"
      ],
      "execution_count": 210,
      "outputs": []
    },
    {
      "cell_type": "code",
      "metadata": {
        "id": "UsVsLbifj3xu",
        "colab_type": "code",
        "colab": {
          "base_uri": "https://localhost:8080/",
          "height": 34
        },
        "outputId": "931c0f2b-171a-4e96-acc2-731763520192"
      },
      "source": [
        "# Filters out 's' init words using lambda expression\n",
        "filter(lambda word:word[0]=='s', seq)"
      ],
      "execution_count": 211,
      "outputs": [
        {
          "output_type": "execute_result",
          "data": {
            "text/plain": [
              "<filter at 0x7f03540d0438>"
            ]
          },
          "metadata": {
            "tags": []
          },
          "execution_count": 211
        }
      ]
    },
    {
      "cell_type": "code",
      "metadata": {
        "id": "IbdpmkZ0kG9b",
        "colab_type": "code",
        "colab": {
          "base_uri": "https://localhost:8080/",
          "height": 34
        },
        "outputId": "eca7e1fa-989d-4ebd-bf04-4413bf00bc43"
      },
      "source": [
        "list(filter(lambda word:word[0]=='s', seq))"
      ],
      "execution_count": 212,
      "outputs": [
        {
          "output_type": "execute_result",
          "data": {
            "text/plain": [
              "['soup', 'salad']"
            ]
          },
          "metadata": {
            "tags": []
          },
          "execution_count": 212
        }
      ]
    },
    {
      "cell_type": "markdown",
      "metadata": {
        "id": "liotAp7QfC5d",
        "colab_type": "text"
      },
      "source": [
        "#STRING"
      ]
    },
    {
      "cell_type": "code",
      "metadata": {
        "id": "bhQ14vRfetOP",
        "colab_type": "code",
        "colab": {}
      },
      "source": [
        "s='hello my name is j3'"
      ],
      "execution_count": 213,
      "outputs": []
    },
    {
      "cell_type": "code",
      "metadata": {
        "id": "r7TEwXAefLLW",
        "colab_type": "code",
        "colab": {
          "base_uri": "https://localhost:8080/",
          "height": 35
        },
        "outputId": "48fa87c5-c437-4240-8655-c0518cbe8394"
      },
      "source": [
        "s.upper()"
      ],
      "execution_count": 214,
      "outputs": [
        {
          "output_type": "execute_result",
          "data": {
            "application/vnd.google.colaboratory.intrinsic+json": {
              "type": "string"
            },
            "text/plain": [
              "'HELLO MY NAME IS J3'"
            ]
          },
          "metadata": {
            "tags": []
          },
          "execution_count": 214
        }
      ]
    },
    {
      "cell_type": "code",
      "metadata": {
        "id": "nAIorZMyfeYE",
        "colab_type": "code",
        "colab": {
          "base_uri": "https://localhost:8080/",
          "height": 35
        },
        "outputId": "93c63f69-9a27-4638-96a8-eb382ddc8c72"
      },
      "source": [
        "s.lower()"
      ],
      "execution_count": 215,
      "outputs": [
        {
          "output_type": "execute_result",
          "data": {
            "application/vnd.google.colaboratory.intrinsic+json": {
              "type": "string"
            },
            "text/plain": [
              "'hello my name is j3'"
            ]
          },
          "metadata": {
            "tags": []
          },
          "execution_count": 215
        }
      ]
    },
    {
      "cell_type": "code",
      "metadata": {
        "id": "AqCO5O3Tf7HC",
        "colab_type": "code",
        "colab": {}
      },
      "source": [
        "my_string_list=s.split()"
      ],
      "execution_count": 216,
      "outputs": []
    },
    {
      "cell_type": "code",
      "metadata": {
        "id": "mPj7qEAkf_xH",
        "colab_type": "code",
        "colab": {
          "base_uri": "https://localhost:8080/",
          "height": 34
        },
        "outputId": "5f71b870-41ac-472e-b7c8-8a311545d62e"
      },
      "source": [
        "my_string_list"
      ],
      "execution_count": 217,
      "outputs": [
        {
          "output_type": "execute_result",
          "data": {
            "text/plain": [
              "['hello', 'my', 'name', 'is', 'j3']"
            ]
          },
          "metadata": {
            "tags": []
          },
          "execution_count": 217
        }
      ]
    },
    {
      "cell_type": "code",
      "metadata": {
        "id": "CC_mIpm0gNV7",
        "colab_type": "code",
        "colab": {}
      },
      "source": [
        "tweet=\"Go Sports!#Sports\""
      ],
      "execution_count": 218,
      "outputs": []
    },
    {
      "cell_type": "code",
      "metadata": {
        "id": "iZmkZw-BgUSj",
        "colab_type": "code",
        "colab": {
          "base_uri": "https://localhost:8080/",
          "height": 34
        },
        "outputId": "065430e0-2a8b-4786-fd6a-6c3f68675c77"
      },
      "source": [
        "tweet.split('#')"
      ],
      "execution_count": 219,
      "outputs": [
        {
          "output_type": "execute_result",
          "data": {
            "text/plain": [
              "['Go Sports!', 'Sports']"
            ]
          },
          "metadata": {
            "tags": []
          },
          "execution_count": 219
        }
      ]
    },
    {
      "cell_type": "code",
      "metadata": {
        "id": "17wlYR0NgXUj",
        "colab_type": "code",
        "colab": {
          "base_uri": "https://localhost:8080/",
          "height": 35
        },
        "outputId": "472a59f8-5ff4-4b45-8517-2ac0843fe617"
      },
      "source": [
        "tweet.split('#')[0]"
      ],
      "execution_count": 220,
      "outputs": [
        {
          "output_type": "execute_result",
          "data": {
            "application/vnd.google.colaboratory.intrinsic+json": {
              "type": "string"
            },
            "text/plain": [
              "'Go Sports!'"
            ]
          },
          "metadata": {
            "tags": []
          },
          "execution_count": 220
        }
      ]
    },
    {
      "cell_type": "code",
      "metadata": {
        "id": "HITqmT-7gb1u",
        "colab_type": "code",
        "colab": {
          "base_uri": "https://localhost:8080/",
          "height": 35
        },
        "outputId": "5a2d31bb-cc1f-43a8-b2bf-8ac5bc73f7c0"
      },
      "source": [
        "tweet.split('#')[1]"
      ],
      "execution_count": 221,
      "outputs": [
        {
          "output_type": "execute_result",
          "data": {
            "application/vnd.google.colaboratory.intrinsic+json": {
              "type": "string"
            },
            "text/plain": [
              "'Sports'"
            ]
          },
          "metadata": {
            "tags": []
          },
          "execution_count": 221
        }
      ]
    },
    {
      "cell_type": "code",
      "metadata": {
        "id": "it9X4yRlim2Q",
        "colab_type": "code",
        "colab": {}
      },
      "source": [
        "# Number of time the word 'dog' occurs in the string\n",
        "def countDog(phrase):\n",
        "  count=0\n",
        "  for word in phrase.lower().split():\n",
        "    if word=='dog':\n",
        "      count+=1\n",
        "  return count"
      ],
      "execution_count": 222,
      "outputs": []
    },
    {
      "cell_type": "code",
      "metadata": {
        "id": "Itfle0PYjSqd",
        "colab_type": "code",
        "colab": {
          "base_uri": "https://localhost:8080/",
          "height": 34
        },
        "outputId": "eb5a8100-cf6b-470a-ab7c-ed14bc8bbec3"
      },
      "source": [
        "countDog('This dog runs faster than the other dog dude!')"
      ],
      "execution_count": 223,
      "outputs": [
        {
          "output_type": "execute_result",
          "data": {
            "text/plain": [
              "2"
            ]
          },
          "metadata": {
            "tags": []
          },
          "execution_count": 223
        }
      ]
    },
    {
      "cell_type": "markdown",
      "metadata": {
        "id": "wfPDraADgirf",
        "colab_type": "text"
      },
      "source": [
        "#DICTIONARY"
      ]
    },
    {
      "cell_type": "code",
      "metadata": {
        "id": "2R3tP12uggFb",
        "colab_type": "code",
        "colab": {}
      },
      "source": [
        "d={'key1':1, 'key2':2}"
      ],
      "execution_count": 224,
      "outputs": []
    },
    {
      "cell_type": "code",
      "metadata": {
        "id": "eQS-V-YMguFA",
        "colab_type": "code",
        "colab": {
          "base_uri": "https://localhost:8080/",
          "height": 34
        },
        "outputId": "1456b771-5f14-4c5b-d0e5-56e83f40edf0"
      },
      "source": [
        "d.keys()"
      ],
      "execution_count": 225,
      "outputs": [
        {
          "output_type": "execute_result",
          "data": {
            "text/plain": [
              "dict_keys(['key1', 'key2'])"
            ]
          },
          "metadata": {
            "tags": []
          },
          "execution_count": 225
        }
      ]
    },
    {
      "cell_type": "code",
      "metadata": {
        "id": "TJgnG3z5gxDx",
        "colab_type": "code",
        "colab": {
          "base_uri": "https://localhost:8080/",
          "height": 34
        },
        "outputId": "13a075b9-0a1d-45ff-e209-0c0f8dd094a8"
      },
      "source": [
        "d.items()"
      ],
      "execution_count": 226,
      "outputs": [
        {
          "output_type": "execute_result",
          "data": {
            "text/plain": [
              "dict_items([('key1', 1), ('key2', 2)])"
            ]
          },
          "metadata": {
            "tags": []
          },
          "execution_count": 226
        }
      ]
    },
    {
      "cell_type": "code",
      "metadata": {
        "id": "prV1Cn7rg0Qg",
        "colab_type": "code",
        "colab": {
          "base_uri": "https://localhost:8080/",
          "height": 34
        },
        "outputId": "71c60691-7057-4b90-ee04-61131f8640e4"
      },
      "source": [
        "d.values()"
      ],
      "execution_count": 227,
      "outputs": [
        {
          "output_type": "execute_result",
          "data": {
            "text/plain": [
              "dict_values([1, 2])"
            ]
          },
          "metadata": {
            "tags": []
          },
          "execution_count": 227
        }
      ]
    },
    {
      "cell_type": "markdown",
      "metadata": {
        "id": "wDGrhrP7g7JP",
        "colab_type": "text"
      },
      "source": [
        "#LIST"
      ]
    },
    {
      "cell_type": "code",
      "metadata": {
        "id": "Z9f8EXyEg3Ud",
        "colab_type": "code",
        "colab": {}
      },
      "source": [
        "lst=[1,2,3]"
      ],
      "execution_count": 228,
      "outputs": []
    },
    {
      "cell_type": "code",
      "metadata": {
        "id": "hMcUu_U-hAFw",
        "colab_type": "code",
        "colab": {}
      },
      "source": [
        "item=lst.pop()"
      ],
      "execution_count": 229,
      "outputs": []
    },
    {
      "cell_type": "code",
      "metadata": {
        "id": "OAhkB35shEvd",
        "colab_type": "code",
        "colab": {
          "base_uri": "https://localhost:8080/",
          "height": 34
        },
        "outputId": "c49a9628-77e2-4523-9e4c-5c6cf6ab632e"
      },
      "source": [
        "item"
      ],
      "execution_count": 230,
      "outputs": [
        {
          "output_type": "execute_result",
          "data": {
            "text/plain": [
              "3"
            ]
          },
          "metadata": {
            "tags": []
          },
          "execution_count": 230
        }
      ]
    },
    {
      "cell_type": "code",
      "metadata": {
        "id": "FF7Tdgt0hFa-",
        "colab_type": "code",
        "colab": {
          "base_uri": "https://localhost:8080/",
          "height": 34
        },
        "outputId": "7036edf3-4928-4131-b79e-2a9fe6a9d674"
      },
      "source": [
        "lst"
      ],
      "execution_count": 231,
      "outputs": [
        {
          "output_type": "execute_result",
          "data": {
            "text/plain": [
              "[1, 2]"
            ]
          },
          "metadata": {
            "tags": []
          },
          "execution_count": 231
        }
      ]
    },
    {
      "cell_type": "code",
      "metadata": {
        "id": "ZZ0IUYUJhGs-",
        "colab_type": "code",
        "colab": {}
      },
      "source": [
        "lst.append(3)"
      ],
      "execution_count": 232,
      "outputs": []
    },
    {
      "cell_type": "code",
      "metadata": {
        "id": "ZfgYJz9NhNEE",
        "colab_type": "code",
        "colab": {
          "base_uri": "https://localhost:8080/",
          "height": 34
        },
        "outputId": "a385dd92-3cb1-44a7-fa68-6bc4c4ce0c73"
      },
      "source": [
        "lst"
      ],
      "execution_count": 233,
      "outputs": [
        {
          "output_type": "execute_result",
          "data": {
            "text/plain": [
              "[1, 2, 3]"
            ]
          },
          "metadata": {
            "tags": []
          },
          "execution_count": 233
        }
      ]
    },
    {
      "cell_type": "markdown",
      "metadata": {
        "id": "SFltB0-QhQBD",
        "colab_type": "text"
      },
      "source": [
        "#IN word"
      ]
    },
    {
      "cell_type": "code",
      "metadata": {
        "id": "bXdquWg_hN0K",
        "colab_type": "code",
        "colab": {
          "base_uri": "https://localhost:8080/",
          "height": 34
        },
        "outputId": "9bcbafe8-bf03-46b5-f404-bb3bd68df19e"
      },
      "source": [
        "'x'in['x','y', 'z']"
      ],
      "execution_count": 234,
      "outputs": [
        {
          "output_type": "execute_result",
          "data": {
            "text/plain": [
              "True"
            ]
          },
          "metadata": {
            "tags": []
          },
          "execution_count": 234
        }
      ]
    },
    {
      "cell_type": "code",
      "metadata": {
        "id": "qUv9V4O6haJd",
        "colab_type": "code",
        "colab": {
          "base_uri": "https://localhost:8080/",
          "height": 34
        },
        "outputId": "424668e1-65ba-4015-dabd-3e467b7df09a"
      },
      "source": [
        "'w'in['x', 'y', 'z']"
      ],
      "execution_count": 235,
      "outputs": [
        {
          "output_type": "execute_result",
          "data": {
            "text/plain": [
              "False"
            ]
          },
          "metadata": {
            "tags": []
          },
          "execution_count": 235
        }
      ]
    },
    {
      "cell_type": "markdown",
      "metadata": {
        "id": "QwQxBl_ehueq",
        "colab_type": "text"
      },
      "source": [
        "#TUPLE UNPACKING\n",
        "Python tuples are immutable means that they can not be modified in whole program\n",
        "\n",
        "**Packing and Unpacking a Tuple** : In Python there is a very powerful tuple assignment feature that assigns right hand side of values into left hand side. In other way it is called unpacking of a tuple of values into a variable. In packing, we put values into a new tuple while in unpacking we extract those values into a single variable."
      ]
    },
    {
      "cell_type": "code",
      "metadata": {
        "id": "OyTBuF5phi4x",
        "colab_type": "code",
        "colab": {}
      },
      "source": [
        "x=[(1,2),(3,4),(5,6)]"
      ],
      "execution_count": 241,
      "outputs": []
    },
    {
      "cell_type": "code",
      "metadata": {
        "id": "AMs_dxRFh48I",
        "colab_type": "code",
        "colab": {
          "base_uri": "https://localhost:8080/",
          "height": 34
        },
        "outputId": "e5e4a838-7d19-44ee-928f-8ffed25d4c82"
      },
      "source": [
        "x[0][0]"
      ],
      "execution_count": 242,
      "outputs": [
        {
          "output_type": "execute_result",
          "data": {
            "text/plain": [
              "1"
            ]
          },
          "metadata": {
            "tags": []
          },
          "execution_count": 242
        }
      ]
    },
    {
      "cell_type": "code",
      "metadata": {
        "id": "PD2F3TKKh7tm",
        "colab_type": "code",
        "colab": {
          "base_uri": "https://localhost:8080/",
          "height": 34
        },
        "outputId": "f5216d6e-f4fb-4b71-e627-1cb464e546aa"
      },
      "source": [
        "x[0][1]\n"
      ],
      "execution_count": 243,
      "outputs": [
        {
          "output_type": "execute_result",
          "data": {
            "text/plain": [
              "2"
            ]
          },
          "metadata": {
            "tags": []
          },
          "execution_count": 243
        }
      ]
    },
    {
      "cell_type": "code",
      "metadata": {
        "id": "oZBtPUs0iCHy",
        "colab_type": "code",
        "colab": {
          "base_uri": "https://localhost:8080/",
          "height": 68
        },
        "outputId": "6fc121de-d676-4316-8a21-b98923886a6f"
      },
      "source": [
        "for item in x:\n",
        "  print(item)"
      ],
      "execution_count": 244,
      "outputs": [
        {
          "output_type": "stream",
          "text": [
            "(1, 2)\n",
            "(3, 4)\n",
            "(5, 6)\n"
          ],
          "name": "stdout"
        }
      ]
    },
    {
      "cell_type": "code",
      "metadata": {
        "id": "PHarNy5xiHdt",
        "colab_type": "code",
        "colab": {
          "base_uri": "https://localhost:8080/",
          "height": 68
        },
        "outputId": "c55b6f1a-2ae8-4b72-ee60-0585707342e4"
      },
      "source": [
        "for (a,b) in x:\n",
        "  print(a)"
      ],
      "execution_count": 245,
      "outputs": [
        {
          "output_type": "stream",
          "text": [
            "1\n",
            "3\n",
            "5\n"
          ],
          "name": "stdout"
        }
      ]
    },
    {
      "cell_type": "code",
      "metadata": {
        "id": "Yu2838fLiL6h",
        "colab_type": "code",
        "colab": {
          "base_uri": "https://localhost:8080/",
          "height": 68
        },
        "outputId": "7857399c-5254-402c-cd77-025aba81d6a1"
      },
      "source": [
        "for a,b in x:\n",
        "  print(a+1, b+1)"
      ],
      "execution_count": 246,
      "outputs": [
        {
          "output_type": "stream",
          "text": [
            "2 3\n",
            "4 5\n",
            "6 7\n"
          ],
          "name": "stdout"
        }
      ]
    },
    {
      "cell_type": "code",
      "metadata": {
        "id": "h2ceakAdiY35",
        "colab_type": "code",
        "colab": {}
      },
      "source": [
        ""
      ],
      "execution_count": 246,
      "outputs": []
    },
    {
      "cell_type": "markdown",
      "metadata": {
        "id": "HURG_zbAkliL",
        "colab_type": "text"
      },
      "source": [
        "#NUMPY"
      ]
    },
    {
      "cell_type": "markdown",
      "metadata": {
        "id": "2GpjtHklkpe6",
        "colab_type": "text"
      },
      "source": [
        "The reason it is so important for Data Sceince with Python is that alost all the libraries in the Python Ecosystem rely on NUMPY as one ot their main building blocks (Jose Portilla - Python For Data Sceince course)"
      ]
    },
    {
      "cell_type": "code",
      "metadata": {
        "id": "QdeOIfzZkn8x",
        "colab_type": "code",
        "colab": {}
      },
      "source": [
        ""
      ],
      "execution_count": null,
      "outputs": []
    },
    {
      "cell_type": "markdown",
      "metadata": {
        "id": "x6kZwqW_lN49",
        "colab_type": "text"
      },
      "source": [
        "NUMPY is also incredibly fastm as it has binding to C labraries.\n",
        "###Installation: \n",
        "**conda install numpy** (Anaconda) \n",
        "or \n",
        "**pip install numpy**"
      ]
    },
    {
      "cell_type": "markdown",
      "metadata": {
        "id": "BRLdZ7Lnl4MN",
        "colab_type": "text"
      },
      "source": [
        "#ARRAYS (Vectors & Matrices) in NUMPY  -> cast a list into numpy array"
      ]
    },
    {
      "cell_type": "code",
      "metadata": {
        "id": "6kaEdXe4lZeI",
        "colab_type": "code",
        "colab": {}
      },
      "source": [
        "#Vectors\n",
        "my_list=[1,2,3]"
      ],
      "execution_count": 179,
      "outputs": []
    },
    {
      "cell_type": "code",
      "metadata": {
        "id": "_MQt4fKpmT4d",
        "colab_type": "code",
        "colab": {}
      },
      "source": [
        "import numpy as np \n",
        "vec=np.array(my_list)"
      ],
      "execution_count": 180,
      "outputs": []
    },
    {
      "cell_type": "code",
      "metadata": {
        "id": "3j2mAWGAmbIM",
        "colab_type": "code",
        "colab": {
          "base_uri": "https://localhost:8080/",
          "height": 34
        },
        "outputId": "d68aa5e7-0e8e-4daa-f872-389f6bef4970"
      },
      "source": [
        "# 1 bracket mean 1-dimensional array ([])\n",
        "vec"
      ],
      "execution_count": 182,
      "outputs": [
        {
          "output_type": "execute_result",
          "data": {
            "text/plain": [
              "array([1, 2, 3])"
            ]
          },
          "metadata": {
            "tags": []
          },
          "execution_count": 182
        }
      ]
    },
    {
      "cell_type": "code",
      "metadata": {
        "id": "XwdBtergmhjH",
        "colab_type": "code",
        "colab": {}
      },
      "source": [
        "my_mat=[[1,2,3],[4,5,6],[7,8,9]]"
      ],
      "execution_count": 183,
      "outputs": []
    },
    {
      "cell_type": "code",
      "metadata": {
        "id": "DZLoPrEImqMb",
        "colab_type": "code",
        "colab": {}
      },
      "source": [
        "import numpy as np"
      ],
      "execution_count": 184,
      "outputs": []
    },
    {
      "cell_type": "code",
      "metadata": {
        "id": "ivxJkZixmy0U",
        "colab_type": "code",
        "colab": {}
      },
      "source": [
        "mat=np.array(my_mat)"
      ],
      "execution_count": 185,
      "outputs": []
    },
    {
      "cell_type": "code",
      "metadata": {
        "id": "4hJJR8Pxm3Ny",
        "colab_type": "code",
        "colab": {
          "base_uri": "https://localhost:8080/",
          "height": 68
        },
        "outputId": "eb6bf01c-4b6c-4e8f-8b4e-2de94b80f971"
      },
      "source": [
        "# 2 brackets mean 2-dimensional array ([[]])\n",
        "mat"
      ],
      "execution_count": 188,
      "outputs": [
        {
          "output_type": "execute_result",
          "data": {
            "text/plain": [
              "array([[1, 2, 3],\n",
              "       [4, 5, 6],\n",
              "       [7, 8, 9]])"
            ]
          },
          "metadata": {
            "tags": []
          },
          "execution_count": 188
        }
      ]
    },
    {
      "cell_type": "markdown",
      "metadata": {
        "id": "H8-hsatI2x8O",
        "colab_type": "text"
      },
      "source": [
        "#ARANGE in NUMPY"
      ]
    },
    {
      "cell_type": "code",
      "metadata": {
        "id": "KX-NZ8qSp4Yg",
        "colab_type": "code",
        "colab": {
          "base_uri": "https://localhost:8080/",
          "height": 34
        },
        "outputId": "632dcbfa-6cef-4270-845d-e1b4de45d687"
      },
      "source": [
        "# All the way up to 10, but not including 10 -> return aN NUMPY ARRAY sequence of 10 digits counting from 0 to 10\n",
        "np.arange(0,10)"
      ],
      "execution_count": 82,
      "outputs": [
        {
          "output_type": "execute_result",
          "data": {
            "text/plain": [
              "array([0, 1, 2, 3, 4, 5, 6, 7, 8, 9])"
            ]
          },
          "metadata": {
            "tags": []
          },
          "execution_count": 82
        }
      ]
    },
    {
      "cell_type": "code",
      "metadata": {
        "id": "j3ecsP-3qGK6",
        "colab_type": "code",
        "colab": {
          "base_uri": "https://localhost:8080/",
          "height": 34
        },
        "outputId": "6095a368-d21d-48ff-93dd-1b752b9e6a93"
      },
      "source": [
        "# Third argument: step size you may want\n",
        "np.arange(0,10,2)"
      ],
      "execution_count": 83,
      "outputs": [
        {
          "output_type": "execute_result",
          "data": {
            "text/plain": [
              "array([0, 2, 4, 6, 8])"
            ]
          },
          "metadata": {
            "tags": []
          },
          "execution_count": 83
        }
      ]
    },
    {
      "cell_type": "markdown",
      "metadata": {
        "id": "4RElaTVrq6Mh",
        "colab_type": "text"
      },
      "source": [
        "#ZEROES & ONES & EYE(Identity matrix) in NUMPY\n",
        "\n",
        "---\n",
        "\n"
      ]
    },
    {
      "cell_type": "code",
      "metadata": {
        "id": "sK3dKrPWqwoE",
        "colab_type": "code",
        "colab": {
          "base_uri": "https://localhost:8080/",
          "height": 34
        },
        "outputId": "06145839-6469-40a8-fed9-ccfdc7487075"
      },
      "source": [
        "np.zeros(3)"
      ],
      "execution_count": 189,
      "outputs": [
        {
          "output_type": "execute_result",
          "data": {
            "text/plain": [
              "array([0., 0., 0.])"
            ]
          },
          "metadata": {
            "tags": []
          },
          "execution_count": 189
        }
      ]
    },
    {
      "cell_type": "code",
      "metadata": {
        "id": "HVzmZxhwrA6P",
        "colab_type": "code",
        "colab": {
          "base_uri": "https://localhost:8080/",
          "height": 102
        },
        "outputId": "e0eda610-4e42-47d5-ccd5-5e7ac391a082"
      },
      "source": [
        "np.zeros((5,5))"
      ],
      "execution_count": 190,
      "outputs": [
        {
          "output_type": "execute_result",
          "data": {
            "text/plain": [
              "array([[0., 0., 0., 0., 0.],\n",
              "       [0., 0., 0., 0., 0.],\n",
              "       [0., 0., 0., 0., 0.],\n",
              "       [0., 0., 0., 0., 0.],\n",
              "       [0., 0., 0., 0., 0.]])"
            ]
          },
          "metadata": {
            "tags": []
          },
          "execution_count": 190
        }
      ]
    },
    {
      "cell_type": "code",
      "metadata": {
        "id": "cRGa46i6rE6O",
        "colab_type": "code",
        "colab": {
          "base_uri": "https://localhost:8080/",
          "height": 34
        },
        "outputId": "371a9d66-7c69-49ba-bb4f-ea949771d889"
      },
      "source": [
        "np.ones(4)"
      ],
      "execution_count": 191,
      "outputs": [
        {
          "output_type": "execute_result",
          "data": {
            "text/plain": [
              "array([1., 1., 1., 1.])"
            ]
          },
          "metadata": {
            "tags": []
          },
          "execution_count": 191
        }
      ]
    },
    {
      "cell_type": "code",
      "metadata": {
        "id": "sW_YJKlKrU1z",
        "colab_type": "code",
        "colab": {
          "base_uri": "https://localhost:8080/",
          "height": 102
        },
        "outputId": "1a7df713-1a91-45a2-fa13-0ccba4b4c076"
      },
      "source": [
        "np.ones((5,5))"
      ],
      "execution_count": 192,
      "outputs": [
        {
          "output_type": "execute_result",
          "data": {
            "text/plain": [
              "array([[1., 1., 1., 1., 1.],\n",
              "       [1., 1., 1., 1., 1.],\n",
              "       [1., 1., 1., 1., 1.],\n",
              "       [1., 1., 1., 1., 1.],\n",
              "       [1., 1., 1., 1., 1.]])"
            ]
          },
          "metadata": {
            "tags": []
          },
          "execution_count": 192
        }
      ]
    },
    {
      "cell_type": "code",
      "metadata": {
        "id": "-GcYiWmUrXiE",
        "colab_type": "code",
        "colab": {
          "base_uri": "https://localhost:8080/",
          "height": 85
        },
        "outputId": "729dd57e-4b7c-4028-de94-121d3e979019"
      },
      "source": [
        "# IDENTITY MATRIX\n",
        "np.eye(4)"
      ],
      "execution_count": 193,
      "outputs": [
        {
          "output_type": "execute_result",
          "data": {
            "text/plain": [
              "array([[1., 0., 0., 0.],\n",
              "       [0., 1., 0., 0.],\n",
              "       [0., 0., 1., 0.],\n",
              "       [0., 0., 0., 1.]])"
            ]
          },
          "metadata": {
            "tags": []
          },
          "execution_count": 193
        }
      ]
    },
    {
      "cell_type": "markdown",
      "metadata": {
        "id": "15X6fu3Br2pA",
        "colab_type": "text"
      },
      "source": [
        "#LINSPACE (SPACED EVENLY) in NUMPY"
      ]
    },
    {
      "cell_type": "code",
      "metadata": {
        "id": "3CXe9iA1rlFD",
        "colab_type": "code",
        "colab": {
          "base_uri": "https://localhost:8080/",
          "height": 51
        },
        "outputId": "832fc9ab-4010-4c48-b1fa-dd94ad6bbca6"
      },
      "source": [
        "# From 0, to 5 returning 10 digits spaced evenly\n",
        "np.linspace(0,5,10)"
      ],
      "execution_count": 194,
      "outputs": [
        {
          "output_type": "execute_result",
          "data": {
            "text/plain": [
              "array([0.        , 0.55555556, 1.11111111, 1.66666667, 2.22222222,\n",
              "       2.77777778, 3.33333333, 3.88888889, 4.44444444, 5.        ])"
            ]
          },
          "metadata": {
            "tags": []
          },
          "execution_count": 194
        }
      ]
    },
    {
      "cell_type": "markdown",
      "metadata": {
        "id": "ffpKbmMLsY9f",
        "colab_type": "text"
      },
      "source": [
        "PLEASE **DON'T CONFUSE** linspace **WITH** arange:\n",
        "\n",
        "\n",
        "**arange**: will take in the third argument as the **STEPS SIZE** (you want)\n",
        "\n",
        "**linspace**: will take in the third argument as the **NUMBER OF POINTS**(evenly separeted)\n"
      ]
    },
    {
      "cell_type": "markdown",
      "metadata": {
        "id": "6FuLnS5Mtb_5",
        "colab_type": "text"
      },
      "source": [
        "#RANDOM NUMBER in NUMPY"
      ]
    },
    {
      "cell_type": "code",
      "metadata": {
        "id": "-h2WZWvLtiX5",
        "colab_type": "code",
        "colab": {
          "base_uri": "https://localhost:8080/",
          "height": 34
        },
        "outputId": "2dbbb1d3-6334-49af-ac5b-c678a67393a2"
      },
      "source": [
        "# RAND differs from ARANGE because RAND returns random numbers and ARANGE return a sequence of them\n",
        "np.random.rand(5)"
      ],
      "execution_count": 95,
      "outputs": [
        {
          "output_type": "execute_result",
          "data": {
            "text/plain": [
              "array([0.48863753, 0.04742276, 0.05064964, 0.92043788, 0.83485676])"
            ]
          },
          "metadata": {
            "tags": []
          },
          "execution_count": 95
        }
      ]
    },
    {
      "cell_type": "code",
      "metadata": {
        "id": "-XXHfUTotndT",
        "colab_type": "code",
        "colab": {
          "base_uri": "https://localhost:8080/",
          "height": 34
        },
        "outputId": "23c446b2-211b-43e0-c723-e99cf5985759"
      },
      "source": [
        "# n means Normal Distribution (return values around the Mean in gaussian distribution)\n",
        "np.random.randn(2)"
      ],
      "execution_count": 97,
      "outputs": [
        {
          "output_type": "execute_result",
          "data": {
            "text/plain": [
              "array([0.03985437, 2.16368259])"
            ]
          },
          "metadata": {
            "tags": []
          },
          "execution_count": 97
        }
      ]
    },
    {
      "cell_type": "code",
      "metadata": {
        "id": "uq-1ZS94uKSr",
        "colab_type": "code",
        "colab": {
          "base_uri": "https://localhost:8080/",
          "height": 34
        },
        "outputId": "865d9072-890b-4d1e-f512-b3cb2ddca3e8"
      },
      "source": [
        "# Without the third parameter, it will return one digit from 1(included) to 100(not included)\n",
        "np.random.randint(1,100)"
      ],
      "execution_count": 104,
      "outputs": [
        {
          "output_type": "execute_result",
          "data": {
            "text/plain": [
              "19"
            ]
          },
          "metadata": {
            "tags": []
          },
          "execution_count": 104
        }
      ]
    },
    {
      "cell_type": "code",
      "metadata": {
        "id": "EBlKxe-Uuodt",
        "colab_type": "code",
        "colab": {
          "base_uri": "https://localhost:8080/",
          "height": 34
        },
        "outputId": "d697a456-eb16-448a-8eeb-bfe02409a67c"
      },
      "source": [
        "# The third parameter specifuy the digits you want to return\n",
        "np.random.randint(1,100,10)"
      ],
      "execution_count": 103,
      "outputs": [
        {
          "output_type": "execute_result",
          "data": {
            "text/plain": [
              "array([ 1, 82, 54, 45, 66, 91, 37, 71, 61, 27])"
            ]
          },
          "metadata": {
            "tags": []
          },
          "execution_count": 103
        }
      ]
    },
    {
      "cell_type": "markdown",
      "metadata": {
        "id": "8XFoNZCNvZLk",
        "colab_type": "text"
      },
      "source": [
        "Difference between **ARANGE** and **RANDINT**:\n",
        "\n",
        "**ARANGE**: returns **sequence** of digits\n",
        "\n",
        "**RANDINT**: returns **randonly** selected digits"
      ]
    },
    {
      "cell_type": "code",
      "metadata": {
        "id": "yKmG7xzSu0zh",
        "colab_type": "code",
        "colab": {}
      },
      "source": [
        "arr=np.arange(25)"
      ],
      "execution_count": 106,
      "outputs": []
    },
    {
      "cell_type": "code",
      "metadata": {
        "id": "bONsEc41wDK1",
        "colab_type": "code",
        "colab": {
          "base_uri": "https://localhost:8080/",
          "height": 51
        },
        "outputId": "392fbe20-e475-4188-e5e1-2961090e5d17"
      },
      "source": [
        "arr"
      ],
      "execution_count": 107,
      "outputs": [
        {
          "output_type": "execute_result",
          "data": {
            "text/plain": [
              "array([ 0,  1,  2,  3,  4,  5,  6,  7,  8,  9, 10, 11, 12, 13, 14, 15, 16,\n",
              "       17, 18, 19, 20, 21, 22, 23, 24])"
            ]
          },
          "metadata": {
            "tags": []
          },
          "execution_count": 107
        }
      ]
    },
    {
      "cell_type": "code",
      "metadata": {
        "id": "fynN1YNLwG-C",
        "colab_type": "code",
        "colab": {}
      },
      "source": [
        "randarr=np.random.randint(0,50,10)"
      ],
      "execution_count": 108,
      "outputs": []
    },
    {
      "cell_type": "code",
      "metadata": {
        "id": "2hpX7b5qwPNI",
        "colab_type": "code",
        "colab": {
          "base_uri": "https://localhost:8080/",
          "height": 34
        },
        "outputId": "1549540f-7076-415e-b4f0-25a9c4d1920c"
      },
      "source": [
        "randarr"
      ],
      "execution_count": 109,
      "outputs": [
        {
          "output_type": "execute_result",
          "data": {
            "text/plain": [
              "array([ 7, 48, 34, 26, 45, 12, 23, 16, 19, 12])"
            ]
          },
          "metadata": {
            "tags": []
          },
          "execution_count": 109
        }
      ]
    },
    {
      "cell_type": "code",
      "metadata": {
        "id": "w0m3YMHlwQ0P",
        "colab_type": "code",
        "colab": {}
      },
      "source": [
        ""
      ],
      "execution_count": null,
      "outputs": []
    },
    {
      "cell_type": "markdown",
      "metadata": {
        "id": "R7f7XNGHwVPy",
        "colab_type": "text"
      },
      "source": [
        "#RESHAPE in NUMPY"
      ]
    },
    {
      "cell_type": "code",
      "metadata": {
        "id": "LE0KIfVdweFh",
        "colab_type": "code",
        "colab": {}
      },
      "source": [
        "# Get the and numpy array and reshape it as you want; here reshaping arr(1_dimentional) as a matrix of 5x5 (2_dimentional)\n",
        "reshapped_arr=arr.reshape(5,5)"
      ],
      "execution_count": 116,
      "outputs": []
    },
    {
      "cell_type": "code",
      "metadata": {
        "id": "_J4qeffGxN91",
        "colab_type": "code",
        "colab": {
          "base_uri": "https://localhost:8080/",
          "height": 102
        },
        "outputId": "8b1be3af-df87-4132-f3f9-a93f164a6e32"
      },
      "source": [
        "reshapped_arr"
      ],
      "execution_count": 117,
      "outputs": [
        {
          "output_type": "execute_result",
          "data": {
            "text/plain": [
              "array([[ 0,  1,  2,  3,  4],\n",
              "       [ 5,  6,  7,  8,  9],\n",
              "       [10, 11, 12, 13, 14],\n",
              "       [15, 16, 17, 18, 19],\n",
              "       [20, 21, 22, 23, 24]])"
            ]
          },
          "metadata": {
            "tags": []
          },
          "execution_count": 117
        }
      ]
    },
    {
      "cell_type": "markdown",
      "metadata": {
        "id": "nEi55v7Cxcrl",
        "colab_type": "text"
      },
      "source": [
        "#MAX & MIN in NUMPY "
      ]
    },
    {
      "cell_type": "code",
      "metadata": {
        "id": "tBrgCy7lxt9Z",
        "colab_type": "code",
        "colab": {
          "base_uri": "https://localhost:8080/",
          "height": 34
        },
        "outputId": "8198f2e8-436b-4144-a7ac-f3b7898cb96d"
      },
      "source": [
        "reshapped_arr.min()"
      ],
      "execution_count": 119,
      "outputs": [
        {
          "output_type": "execute_result",
          "data": {
            "text/plain": [
              "0"
            ]
          },
          "metadata": {
            "tags": []
          },
          "execution_count": 119
        }
      ]
    },
    {
      "cell_type": "code",
      "metadata": {
        "id": "62Y-dZXhx3no",
        "colab_type": "code",
        "colab": {
          "base_uri": "https://localhost:8080/",
          "height": 34
        },
        "outputId": "0b2f8755-8d1a-4ee8-8fe4-66c6c11b4db5"
      },
      "source": [
        "reshapped_arr.max()"
      ],
      "execution_count": 120,
      "outputs": [
        {
          "output_type": "execute_result",
          "data": {
            "text/plain": [
              "24"
            ]
          },
          "metadata": {
            "tags": []
          },
          "execution_count": 120
        }
      ]
    },
    {
      "cell_type": "markdown",
      "metadata": {
        "id": "ytb18Ru6x-N2",
        "colab_type": "text"
      },
      "source": [
        "#ATTRIBUTES SHAPE & DTYPE in NUMPY \n",
        "(there are **no Parentheses** cuz this is attributes:)\n"
      ]
    },
    {
      "cell_type": "code",
      "metadata": {
        "id": "ytj101iOx7nF",
        "colab_type": "code",
        "colab": {
          "base_uri": "https://localhost:8080/",
          "height": 34
        },
        "outputId": "99904954-1b3c-4bfd-bb72-3b8f15168942"
      },
      "source": [
        "reshapped_arr.shape"
      ],
      "execution_count": 123,
      "outputs": [
        {
          "output_type": "execute_result",
          "data": {
            "text/plain": [
              "(5, 5)"
            ]
          },
          "metadata": {
            "tags": []
          },
          "execution_count": 123
        }
      ]
    },
    {
      "cell_type": "code",
      "metadata": {
        "id": "NnhiKfRXyLlz",
        "colab_type": "code",
        "colab": {
          "base_uri": "https://localhost:8080/",
          "height": 34
        },
        "outputId": "e243b84e-c0a7-463e-d93f-b3c69b6f4be6"
      },
      "source": [
        "reshapped_arr.dtype"
      ],
      "execution_count": 124,
      "outputs": [
        {
          "output_type": "execute_result",
          "data": {
            "text/plain": [
              "dtype('int64')"
            ]
          },
          "metadata": {
            "tags": []
          },
          "execution_count": 124
        }
      ]
    },
    {
      "cell_type": "code",
      "metadata": {
        "id": "Wl8LmsttyOcn",
        "colab_type": "code",
        "colab": {}
      },
      "source": [
        "from numpy.random import randint"
      ],
      "execution_count": 125,
      "outputs": []
    },
    {
      "cell_type": "code",
      "metadata": {
        "id": "DRy8kPLSzB2H",
        "colab_type": "code",
        "colab": {
          "base_uri": "https://localhost:8080/",
          "height": 34
        },
        "outputId": "82680209-ef62-46f3-ad49-7fc95266b7fb"
      },
      "source": [
        "# TODO [PAGE LINK GOES HERE!]\n",
        "print(\"Thank you for reading this page! Please favorite it, IF YOU LIKE:)\")"
      ],
      "execution_count": 247,
      "outputs": [
        {
          "output_type": "stream",
          "text": [
            "Thank you for reading this page! Please favorite it, IF YOU LIKE:)\n"
          ],
          "name": "stdout"
        }
      ]
    },
    {
      "cell_type": "code",
      "metadata": {
        "id": "kfWVbin940Jf",
        "colab_type": "code",
        "colab": {}
      },
      "source": [
        ""
      ],
      "execution_count": null,
      "outputs": []
    }
  ]
}